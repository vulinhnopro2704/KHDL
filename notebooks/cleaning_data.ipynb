{
 "cells": [
  {
   "cell_type": "markdown",
   "metadata": {},
   "source": [
    "### Phát biểu bài toán:\n",
    "\n",
    "-   Phân tích mức độ ảnh hưởng của phần cứng và thương hiệu đến giá của điện thoại di động\n",
    "\n",
    "### Nguồn Dữ liệu:\n",
    "\n",
    "-   Dữ liệu được thu thập từ trang web:\n",
    "    -   https://mobilecity.vn/dien-thoai\n",
    "    -   https://cellphones.com.vn/mobile.html\n",
    "\n",
    "Phân tích dữ liệu nhằm khảo sát tính khả thi cho việc xây dựng mô hình dự đoán biến mục tiêu (target variable) \"Giá - Price\" từ các biến/đặc trưng phần cứng và thương hiệu Xi (i=1..N).\n",
    "Vì biến đăng trưng Y là biến số liên tục (continuous variable) -> việc mô hình hóa là bài toán hồi quy (regression).\n",
    "\n",
    "### Các bước thực hiện:\n",
    "\n",
    "-   Bước 1: Khai thác dữ liệu (Data Exploration)\n",
    "-   Bước 2: Tiền xử lý dữ liệu (Data Preprocessing)\n",
    "-   Bước 3: Phân tích dữ liệu (Data Analysis)\n",
    "-   Bước 4: Xây dựng mô hình hồi quy (Regression Model Building)\n",
    "\n",
    "### Vì phạm vi của bài toán là thu thập và phân tích dữ liệu, nên chúng ta sẽ không đi sâu vào bước 4 (xây dựng mô hình hồi quy - Bài tập sau).\n"
   ]
  },
  {
   "cell_type": "markdown",
   "metadata": {},
   "source": [
    "# Bước 2: Clean Data\n",
    "\n",
    "Trong notebook này, chúng ta sẽ thực hiện các bước sau:\n",
    "\n",
    "1. Tổng quan về dữ liệu ban đầu\n",
    "2. Xác định vấn đề cần làm sạch\n",
    "3. Làm sạch dữ liệu\n",
    "    1. Xử lý giá trị thiếu\n",
    "    2. Chuẩn hóa định dạng dữ liệu\n",
    "    3. Xử lý dữ liệu ngoại lai (outliers)\n",
    "4. Trực quan hóa phân bố dữ liệu trước và sau xử lý\n",
    "5. Tổng kết việc làm sạch dữ liệu\n"
   ]
  },
  {
   "cell_type": "code",
   "execution_count": 1126,
   "metadata": {
    "ExecuteTime": {
     "end_time": "2025-03-31T01:30:17.398880Z",
     "start_time": "2025-03-31T01:30:17.395324Z"
    }
   },
   "outputs": [],
   "source": [
    "import pandas as pd\n",
    "import json\n",
    "import matplotlib.pyplot as plt\n",
    "import seaborn as sns\n",
    "import re\n",
    "import numpy as np\n",
    "\n",
    "\n",
    "base_data_path = '../data/processed/'\n",
    "base_data_clean_path = '../data/clean/'\n",
    "# filtered_data_name = 'filtered_products_mobilecity.json'\n",
    "filtered_data_name = 'filtered_products.json'\n",
    "extracted_features_name = 'extracted_features.csv'\n",
    "cleaned_data_name = 'cleaned_data.csv'\n",
    "feature_engineering_name = 'feature_engineering.csv'\n"
   ]
  },
  {
   "cell_type": "markdown",
   "metadata": {},
   "source": [
    "## 1. Tổng quan về dữ liệu ban đầu\n"
   ]
  },
  {
   "cell_type": "markdown",
   "metadata": {},
   "source": [
    "### A. Extract feature\n"
   ]
  },
  {
   "cell_type": "code",
   "execution_count": 1127,
   "metadata": {},
   "outputs": [],
   "source": [
    "def extract_feature(text, patterns):\n",
    "    \"\"\"\n",
    "    Dùng regex để trích xuất giá trị đầu tiên khớp với các pattern.\n",
    "    \"\"\"\n",
    "    if not text:\n",
    "        return None\n",
    "    for pattern in patterns:\n",
    "        match = re.search(pattern, text, re.IGNORECASE)\n",
    "        if match:\n",
    "            return match.group(1).strip()\n",
    "    return None"
   ]
  },
  {
   "cell_type": "markdown",
   "metadata": {},
   "source": [
    "### B. Định nghĩa hàm process_product để trích xuất các đặc trưng\n",
    "\n",
    "Hàm này sẽ đọc thông tin từ trường specifications của mỗi sản phẩm, hợp nhất các thông tin cần thiết, sau đó trích xuất các đặc trưng như:\n",
    "\n",
    "-   Chipset\n",
    "-   CPU\n",
    "-   RAM\n",
    "-   Bộ nhớ trong\n",
    "-   Màn hình\n",
    "-   Camera\n",
    "-   Pin\n",
    "-   Tính năng bảo mật\n",
    "-   Giá.\n"
   ]
  },
  {
   "cell_type": "markdown",
   "metadata": {},
   "source": [
    "##### 1. Hàm chuẩn bị dữ liệu\n"
   ]
  },
  {
   "cell_type": "code",
   "execution_count": 1128,
   "metadata": {},
   "outputs": [],
   "source": [
    "def prepare_product_data(product):\n",
    "    \"\"\"Hàm chuẩn bị dữ liệu từ sản phẩm\"\"\"\n",
    "    # Khởi tạo dictionary các đặc trưng\n",
    "    features = {\n",
    "        'name': product.get('name'),\n",
    "        'url': product.get('url'),\n",
    "        'price': product.get('price'),\n",
    "        'chipset': None,\n",
    "        # 'cpu_cores': None,\n",
    "        # 'cpu_speed': None,\n",
    "        'ram': None,\n",
    "        'internal_memory': None,\n",
    "        'screen_size': None,\n",
    "        'screen_resolution': None,\n",
    "        'screen_tech': None,\n",
    "        'refresh_rate': None,\n",
    "        'camera_main_resolution': None,\n",
    "        'camera_count': None,\n",
    "        'battery_capacity': None,\n",
    "        'security': None\n",
    "    }\n",
    "    \n",
    "    # Hợp nhất tất cả thông tin trong specifications\n",
    "    spec_details = {}\n",
    "    for spec in product.get('specifications', []):\n",
    "        details = spec.get('details', {})\n",
    "        for key, value in details.items():\n",
    "            if isinstance(value, list):\n",
    "                value = \" | \".join(value)\n",
    "            spec_details[key.lower()] = str(value)\n",
    "    \n",
    "    return features, spec_details"
   ]
  },
  {
   "cell_type": "markdown",
   "metadata": {},
   "source": [
    "##### 2. Hàm xử lý giá\n"
   ]
  },
  {
   "cell_type": "code",
   "execution_count": 1129,
   "metadata": {},
   "outputs": [],
   "source": [
    "def process_price(features, price_text):\n",
    "    \"\"\"Trích xuất thông tin giá\"\"\"\n",
    "    if price_text:\n",
    "        try:\n",
    "            # Thử chuyển đổi trực tiếp nếu là số sạch\n",
    "            price_clean = str(price_text).replace(',', '').replace('.', '')\n",
    "            features[\"price\"] = int(price_clean) if price_clean.isdigit() else None\n",
    "        except (ValueError, TypeError, AttributeError):\n",
    "            # Nếu không thành công, thử trích xuất bằng regex\n",
    "            price_match = re.search(r'(\\d+[\\d\\.]*)', str(price_text))\n",
    "            if price_match:\n",
    "                try:\n",
    "                    features[\"price\"] = int(price_match.group(1).replace(',', '').replace('.', ''))\n",
    "                except (ValueError, TypeError):\n",
    "                    features[\"price\"] = None\n",
    "            else:\n",
    "                features[\"price\"] = None\n",
    "    else:\n",
    "        features[\"price\"] = None\n",
    "    \n",
    "    return features"
   ]
  },
  {
   "cell_type": "markdown",
   "metadata": {},
   "source": [
    "##### 3. Hàm xử lý CPU/Chipset\n"
   ]
  },
  {
   "cell_type": "code",
   "execution_count": 1130,
   "metadata": {},
   "outputs": [],
   "source": [
    "def process_chipset(features, spec_details):\n",
    "    \"\"\"Trích xuất thông tin chipset và CPU từ spec_details.\"\"\"\n",
    "    \n",
    "    chipset_val = spec_details.get(\"chipset\")\n",
    "\n",
    "    if chipset_val:\n",
    "        # Tách theo \" | \" nếu có nhiều phần tử\n",
    "        parts = chipset_val.split(\" | \")\n",
    "        \n",
    "        # CPU thường nằm ở phần tử đầu tiên\n",
    "        cpu_info = parts[0] if parts else None\n",
    "    else:\n",
    "        cpu_info = None\n",
    "\n",
    "    # Lưu vào features\n",
    "    features[\"chipset\"] = chipset_val\n",
    "    features[\"cpu\"] = cpu_info\n",
    "    return features\n",
    "    \n"
   ]
  },
  {
   "cell_type": "markdown",
   "metadata": {},
   "source": [
    "##### 4. Hàm xử lý bộ nhớ\n"
   ]
  },
  {
   "cell_type": "code",
   "execution_count": 1131,
   "metadata": {},
   "outputs": [],
   "source": [
    "import re\n",
    "\n",
    "def process_memory(features, spec_details):\n",
    "    \"\"\"Trích xuất thông tin RAM và bộ nhớ trong, lưu dưới dạng GB\"\"\"\n",
    "    # Xử lý RAM\n",
    "    ram_text = (spec_details.get(\"ram\") or \n",
    "                spec_details.get(\"dung lượng ram\") or \n",
    "                spec_details.get(\"RAM & lưu trữ\"))\n",
    "    if ram_text:\n",
    "        ram_text = str(ram_text).lower()\n",
    "        \n",
    "        # Tìm kiếm GB\n",
    "        gb_match = re.search(r'(\\d+(\\.\\d+)?)\\s*(?:gb|g\\b)', ram_text, re.IGNORECASE)\n",
    "        if gb_match:\n",
    "            features['ram'] = float(gb_match.group(1))\n",
    "        else:\n",
    "            # Nếu chỉ có số, giả sử đơn vị là GB\n",
    "            num_match = re.search(r'(\\d+(\\.\\d+)?)', ram_text)\n",
    "            if num_match:\n",
    "                features['ram'] = float(num_match.group(1))\n",
    "\n",
    "    # Xử lý bộ nhớ trong (ROM)\n",
    "    rom_text = (spec_details.get(\"bộ nhớ trong (rom)\") or \n",
    "                spec_details.get(\"bộ nhớ trong\"))\n",
    "    if rom_text:\n",
    "        rom_text = str(rom_text).lower()\n",
    "        \n",
    "        # Tìm kiếm TB (terabyte) -> chuyển sang GB\n",
    "        tb_match = re.search(r'(\\d+(\\.\\d+)?)\\s*(?:tb|t\\b)', rom_text, re.IGNORECASE)\n",
    "        if tb_match:\n",
    "            features['internal_memory'] = float(tb_match.group(1)) * 1024\n",
    "        else:\n",
    "            # Tìm kiếm GB\n",
    "            gb_match = re.search(r'(\\d+(\\.\\d+)?)\\s*(?:gb|g\\b)', rom_text, re.IGNORECASE)\n",
    "            if gb_match:\n",
    "                features['internal_memory'] = float(gb_match.group(1))\n",
    "            else:\n",
    "                # Nếu chỉ có số, giả sử đơn vị là GB\n",
    "                num_match = re.search(r'(\\d+(\\.\\d+)?)', rom_text)\n",
    "                if num_match:\n",
    "                    features['internal_memory'] = float(num_match.group(1))\n",
    "\n",
    "# Làm tròn GB nếu có thể\n",
    "    if 'ram' in features and features['ram'] is not None:\n",
    "        if isinstance(features['ram'], float):\n",
    "            features['ram'] = int(features['ram']) if features['ram'].is_integer() else features['ram']\n",
    "    \n",
    "    if 'internal_memory' in features and features['internal_memory'] is not None:\n",
    "        if isinstance(features['internal_memory'], float):\n",
    "            features['internal_memory'] = int(features['internal_memory']) if features['internal_memory'].is_integer() else features['internal_memory']\n",
    "    return features\n"
   ]
  },
  {
   "cell_type": "markdown",
   "metadata": {},
   "source": [
    "##### 5. Hàm xử lý màn hình\n"
   ]
  },
  {
   "cell_type": "code",
   "execution_count": 1132,
   "metadata": {},
   "outputs": [],
   "source": [
    "def process_screen(features, spec_details):\n",
    "    \"\"\"Trích xuất thông tin màn hình\"\"\"\n",
    "    # Kích thước màn hình\n",
    "    screen_size_text = (spec_details.get(\"kích thước màn hình\") or \n",
    "                        spec_details.get(\"màn hình rộng\"))\n",
    "    if screen_size_text:\n",
    "        # Nếu là list, lấy thông tin màn hình chính\n",
    "        if isinstance(screen_size_text, list):\n",
    "            main_screen = None\n",
    "            for item in screen_size_text:\n",
    "                if \"màn chính\" in item.lower() or \"chính\" in item.lower():\n",
    "                    main_screen = item\n",
    "                    break\n",
    "            if main_screen:\n",
    "                screen_size_text = main_screen\n",
    "            else:\n",
    "                screen_size_text = screen_size_text[0]  # Lấy phần tử đầu tiên nếu không tìm thấy \"màn chính\"\n",
    "\n",
    "        inches_match = re.search(r'([\\d\\.|\\,]+)\\s*inches?', screen_size_text)\n",
    "        if inches_match:\n",
    "            features['screen_size'] = inches_match.group(1)\n",
    "        else:\n",
    "            num_match = re.search(r'([\\d\\.]+)', screen_size_text)\n",
    "            if num_match:\n",
    "                features['screen_size'] = num_match.group(1)\n",
    "    \n",
    "    # Độ phân giải màn hình\n",
    "    resolution_text = (spec_details.get(\"độ phân giải màn hình\") or \n",
    "                    spec_details.get(\"độ phân giải\") or \n",
    "                    spec_details.get(\"Tính năng màn hình\"))\n",
    "\n",
    "    if resolution_text:\n",
    "        # Nếu là list, lấy thông tin màn hình chính\n",
    "        if isinstance(resolution_text, list):\n",
    "            main_resolution = None\n",
    "            for item in resolution_text:\n",
    "                if \"màn chính\" in item.lower() or \"chính\" in item.lower():\n",
    "                    main_resolution = item\n",
    "                    break\n",
    "            if main_resolution:\n",
    "                resolution_text = main_resolution\n",
    "            else:\n",
    "                resolution_text = resolution_text[0]  # Lấy phần tử đầu tiên nếu không tìm thấy \"màn chính\"\n",
    "        \n",
    "        # Tìm độ phân giải theo định dạng tiêu chuẩn (1920 x 1080)\n",
    "        resolution_match = re.search(r'(\\d+)\\s*[xX×]\\s*(\\d+)', str(resolution_text))\n",
    "        \n",
    "        if resolution_match:\n",
    "            features['screen_resolution'] = f\"{resolution_match.group(1)} x {resolution_match.group(2)}\"\n",
    "        else:\n",
    "            # Tìm theo định dạng K (4K, 1.5K, v.v.)\n",
    "            k_match = re.search(r'([\\d\\.]+\\s*K)', str(resolution_text), re.IGNORECASE)\n",
    "            if k_match:\n",
    "                features['screen_resolution'] = k_match.group(1)\n",
    "            # Tìm các định dạng phổ biến khác\n",
    "            elif re.search(r'Full HD|FHD|HD\\+|HD|UHD|2K|QHD|WQHD', str(resolution_text), re.IGNORECASE):\n",
    "                resolution_std = re.search(r'(Full HD|FHD|HD\\+|HD|UHD|2K|QHD|WQHD)', \n",
    "                                        str(resolution_text), re.IGNORECASE).group(1)\n",
    "                features['screen_resolution'] = resolution_std\n",
    "            else:\n",
    "                # Nếu không có pattern nào khớp, lấy nguyên giá trị\n",
    "                features['screen_resolution'] = resolution_text\n",
    "    else:\n",
    "        features['screen_resolution'] = None\n",
    "            \n",
    "    # Công nghệ màn hình\n",
    "    screen_tech_text = (spec_details.get(\"công nghệ màn hình\") or \n",
    "                        spec_details.get(\"loại màn hình\"))\n",
    "    \n",
    "    if screen_tech_text:\n",
    "        # Nếu là list, lấy thông tin màn hình chính\n",
    "        if isinstance(screen_tech_text, list):\n",
    "            main_tech = None\n",
    "            for item in screen_tech_text:\n",
    "                if \"màn chính\" in item.lower() or \"chính\" in item.lower():\n",
    "                    main_tech = item\n",
    "                    break\n",
    "            \n",
    "            if main_tech:\n",
    "                # Lấy phần sau dấu \":\"\n",
    "                tech_parts = main_tech.split(\":\", 1)\n",
    "                if len(tech_parts) > 1:\n",
    "                    features['screen_tech'] = tech_parts[1].strip()\n",
    "                else:\n",
    "                    features['screen_tech'] = main_tech\n",
    "            else:\n",
    "                # Nếu không tìm thấy \"màn chính\", lấy phần tử đầu tiên\n",
    "                features['screen_tech'] = screen_tech_text[0]\n",
    "        else:\n",
    "            # Nếu là string, kiểm tra xem có chứa thông tin về màn hình chính không\n",
    "            main_tech_match = re.search(r'màn\\s+chính\\s*:\\s*(.*?)(?:,|\\.|$|;)', \n",
    "                                    str(screen_tech_text), re.IGNORECASE)\n",
    "            if main_tech_match:\n",
    "                features['screen_tech'] = main_tech_match.group(1).strip()\n",
    "            else:\n",
    "                features['screen_tech'] = screen_tech_text\n",
    "    else:\n",
    "        features['screen_tech'] = None\n",
    "    \n",
    "    # Tần số quét: lấy số Hz (nếu có chữ \"hz\" thì chỉ lấy phần số)\n",
    "    refresh_text = spec_details.get(\"tần số quét\")\n",
    "    if not refresh_text:\n",
    "        standard_text = spec_details.get(\"chuẩn màn hình\")\n",
    "        if standard_text:\n",
    "            refresh_text = extract_feature(standard_text, [r'(\\d+)\\s*hz'])\n",
    "    if refresh_text and isinstance(refresh_text, str):\n",
    "        match = re.search(r'(\\d+)\\s*hz', refresh_text, re.IGNORECASE)\n",
    "        if match:\n",
    "            refresh_text = int(match.group(1))\n",
    "    features['refresh_rate'] = refresh_text\n",
    "    \n",
    "    return features"
   ]
  },
  {
   "cell_type": "markdown",
   "metadata": {},
   "source": [
    "##### 6. Hàm xử lý camera\n"
   ]
  },
  {
   "cell_type": "code",
   "execution_count": 1133,
   "metadata": {},
   "outputs": [],
   "source": [
    "import re\n",
    "\n",
    "def process_camera(features, spec_details):\n",
    "    \"\"\"Trích xuất thông tin camera\"\"\"\n",
    "    camera_text = spec_details.get(\"camera sau\")  # Chú ý key phải đúng\n",
    "    if camera_text:\n",
    "        # Nếu camera_text là danh sách, nối lại thành chuỗi\n",
    "        if isinstance(camera_text, list):\n",
    "            camera_text = \" \".join(camera_text)\n",
    "\n",
    "        # Tìm tất cả độ phân giải MP\n",
    "        main_cam_matches = re.findall(r'(\\d+(\\.\\d+)?)\\s*mp', camera_text, re.IGNORECASE)\n",
    "        if main_cam_matches:\n",
    "            # Lấy độ phân giải camera chính (cao nhất)\n",
    "            resolutions = [float(match[0]) for match in main_cam_matches]\n",
    "            features['camera_main_resolution'] = f\"{max(resolutions)} MP\"\n",
    "        \n",
    "        # Số lượng camera được liệt kê\n",
    "        features['camera_count'] = len(main_cam_matches)\n",
    "\n",
    "    return features\n"
   ]
  },
  {
   "cell_type": "markdown",
   "metadata": {},
   "source": [
    "##### 7. Hàm xử lý pin\n"
   ]
  },
  {
   "cell_type": "code",
   "execution_count": 1134,
   "metadata": {},
   "outputs": [],
   "source": [
    "def process_battery(features, spec_details):\n",
    "    \"\"\"Trích xuất thông tin pin\"\"\"\n",
    "    pin_text = spec_details.get(\"pin\") or spec_details.get(\"dung lượng pin\")\n",
    "    if pin_text:\n",
    "        pin_text = re.sub(r'\\s+', ' ', pin_text).strip()\n",
    "        battery_match = re.search(r'([\\d\\.,]+)\\s*mAh', pin_text, re.IGNORECASE)\n",
    "        if battery_match:\n",
    "            battery_value = re.sub(r'[^\\d]', '', battery_match.group(1))\n",
    "            try:\n",
    "                features['battery_capacity'] = int(battery_value)\n",
    "            except ValueError:\n",
    "                features['battery_capacity'] = None\n",
    "        else:\n",
    "            features['battery_capacity'] = None\n",
    "    \n",
    "    return features"
   ]
  },
  {
   "cell_type": "markdown",
   "metadata": {},
   "source": [
    "##### 8. Hàm xử lý kết nối không dây (cải tiến)\n"
   ]
  },
  {
   "cell_type": "code",
   "execution_count": 1135,
   "metadata": {},
   "outputs": [],
   "source": [
    "def process_wireless(features, spec_details, product):\n",
    "    \"\"\"Trích xuất thông tin kết nối không dây từ tất cả các trường\"\"\"\n",
    "    wireless_set = set()\n",
    "    \n",
    "    # Kiểm tra trong tất cả các trường của spec_details\n",
    "    for key, val in spec_details.items():\n",
    "        if val:\n",
    "            lower_val = str(val).lower()\n",
    "            \n",
    "            # Tìm kiếm chuẩn mạng di động\n",
    "            if \"5g\" in lower_val:\n",
    "                wireless_set.add(\"5G\")\n",
    "            if \"4g\" in lower_val or \"lte\" in lower_val:\n",
    "                wireless_set.add(\"4G\")\n",
    "            if \"3g\" in lower_val:\n",
    "                wireless_set.add(\"3G\")\n",
    "                \n",
    "            # Tìm kiếm WiFi\n",
    "            if \"wifi\" in lower_val or \"wi-fi\" in lower_val:\n",
    "                # Thêm phiên bản WiFi nếu có\n",
    "                wifi_ver = extract_feature(lower_val, [r'wifi\\s*([\\d\\.]+)', r'wi-fi\\s*([\\d\\.]+)'])\n",
    "                wireless_set.add(f\"WiFi {wifi_ver}\" if wifi_ver else \"WiFi\")\n",
    "                \n",
    "            # Tìm kiếm Bluetooth\n",
    "            if \"bluetooth\" in lower_val:\n",
    "                bt_ver = extract_feature(lower_val, [r'bluetooth\\s*([\\d\\.]+)'])\n",
    "                wireless_set.add(f\"Bluetooth {bt_ver}\" if bt_ver else \"Bluetooth\")\n",
    "                \n",
    "            # Tìm kiếm NFC\n",
    "            if \"nfc\" in lower_val:\n",
    "                wireless_set.add(\"NFC\")\n",
    "                \n",
    "            # Tìm kiếm GPS\n",
    "            if \"gps\" in lower_val:\n",
    "                wireless_set.add(\"GPS\")\n",
    "    \n",
    "    # Kiểm tra trong tên sản phẩm\n",
    "    product_name = product.get('name', '').lower()\n",
    "    if \"5g\" in product_name:\n",
    "        wireless_set.add(\"5G\")\n",
    "    if \"4g\" in product_name:\n",
    "        wireless_set.add(\"4G\")\n",
    "    \n",
    "    features['wireless'] = \", \".join(wireless_set) if wireless_set else None\n",
    "    \n",
    "    return features"
   ]
  },
  {
   "cell_type": "markdown",
   "metadata": {},
   "source": [
    "##### 9. Hàm xử lý bảo mật\n"
   ]
  },
  {
   "cell_type": "code",
   "execution_count": 1136,
   "metadata": {},
   "outputs": [],
   "source": [
    "def process_security(features, spec_details):\n",
    "    \"\"\"Trích xuất thông tin bảo mật\"\"\"\n",
    "    security_set = set()\n",
    "    for key, val in spec_details.items():\n",
    "        if val:\n",
    "            lower_val = str(val).lower()\n",
    "            if \"vân tay\" in lower_val or \"fingerprint\" in lower_val:\n",
    "                security_set.add(\"Vân tay\")\n",
    "            if \"face id\" in lower_val or \"face unlock\" in lower_val or \"nhận diện khuôn mặt\" in lower_val:\n",
    "                security_set.add(\"Face ID\")\n",
    "    \n",
    "    features['security'] = \", \".join(security_set) if security_set else \"Mật khẩu\"\n",
    "    \n",
    "    return features"
   ]
  },
  {
   "cell_type": "markdown",
   "metadata": {},
   "source": [
    "##### 10. Hàm chính process_product gọi các hàm con\n"
   ]
  },
  {
   "cell_type": "code",
   "execution_count": 1137,
   "metadata": {},
   "outputs": [],
   "source": [
    "def process_product(product):\n",
    "    \"\"\"Hàm chính xử lý thông tin sản phẩm\"\"\"\n",
    "    # Chuẩn bị dữ liệu\n",
    "    features, spec_details = prepare_product_data(product)\n",
    "    \n",
    "    # Xử lý từng phần\n",
    "    features = process_price(features, features['price'])\n",
    "    features = process_chipset(features, spec_details)\n",
    "    features = process_memory(features, spec_details)\n",
    "    features = process_screen(features, spec_details)\n",
    "    features = process_camera(features, spec_details)\n",
    "    features = process_battery(features, spec_details)\n",
    "    # features = process_wireless(features, spec_details, product)\n",
    "    features = process_security(features, spec_details)\n",
    "    \n",
    "    return features"
   ]
  },
  {
   "cell_type": "markdown",
   "metadata": {},
   "source": [
    "##### 11. Đọc file JSON và chuyển đổi dữ liệu thành DataFrame\n"
   ]
  },
  {
   "cell_type": "code",
   "execution_count": 1138,
   "metadata": {
    "ExecuteTime": {
     "end_time": "2025-03-31T02:03:10.506305Z",
     "start_time": "2025-03-31T02:03:10.481800Z"
    }
   },
   "outputs": [
    {
     "name": "stdout",
     "output_type": "stream",
     "text": [
      "                                     name  \\\n",
      "0             ASUS ROG Phone 6 12GB 256GB   \n",
      "1      Asus ROG Phone 2 (Snapdragon 855+)   \n",
      "2  Asus ROG Phone 3 Elite (Strix Edition)   \n",
      "3                Asus ROG Phone 3 Tencent   \n",
      "4           Asus ROG Phone 5S (Snap 888+)   \n",
      "\n",
      "                                                 url       price  \\\n",
      "0  https://cellphones.com.vn/asus-rog-phone-6-12g...  14490000.0   \n",
      "1   https://mobilecity.vn/asus/asus-rog-phone-2.html  11950000.0   \n",
      "2  https://mobilecity.vn/asus/asus-rog-phone-3-st...  10750000.0   \n",
      "3   https://mobilecity.vn/asus/asus-rog-phone-3.html  11450000.0   \n",
      "4  https://mobilecity.vn/asus/asus-rog-phone-5s.html  14450000.0   \n",
      "\n",
      "                                             chipset   ram  internal_memory  \\\n",
      "0                Qualcomm ® Snapdragon ® 8+ thế hệ 1  12.0              256   \n",
      "1  Qualcomm SM8150 Snapdragon 855+ (7 nm) | 8 nhâ...  12.0             1024   \n",
      "2             Qualcomm SM8250 Snapdragon 865 (7 nm+)  12.0              256   \n",
      "3  Qualcomm SM8250 Snapdragon 865+ (7 nm+) | 8 nh...  16.0              512   \n",
      "4  Qualcomm SM8350 Snapdragon 888+ 5G (5 nm) | 8 ...  16.0              512   \n",
      "\n",
      "  screen_size screen_resolution screen_tech refresh_rate  \\\n",
      "0        6.78       1080 x 2448      AMOLED         None   \n",
      "1        6.59       1080 x 2340      AMOLED          120   \n",
      "2        6.59       1080 x 2340      AMOLED          144   \n",
      "3        6.59       1080 x 2340      AMOLED          144   \n",
      "4        6.78       1080 x 2448      AMOLED          144   \n",
      "\n",
      "  camera_main_resolution  camera_count  battery_capacity  security  \\\n",
      "0                50.0 MP             3            6000.0   Vân tay   \n",
      "1                48.0 MP             2            6000.0  Mật khẩu   \n",
      "2                64.0 MP             3            6000.0  Mật khẩu   \n",
      "3                64.0 MP             3            6000.0  Mật khẩu   \n",
      "4                64.0 MP             3            6000.0   Vân tay   \n",
      "\n",
      "                                         cpu  \n",
      "0        Qualcomm ® Snapdragon ® 8+ thế hệ 1  \n",
      "1     Qualcomm SM8150 Snapdragon 855+ (7 nm)  \n",
      "2     Qualcomm SM8250 Snapdragon 865 (7 nm+)  \n",
      "3    Qualcomm SM8250 Snapdragon 865+ (7 nm+)  \n",
      "4  Qualcomm SM8350 Snapdragon 888+ 5G (5 nm)  \n"
     ]
    }
   ],
   "source": [
    "# Đọc file JSON (đảm bảo file 'filtered_products_mobilecity.json' nằm cùng thư mục)\n",
    "with open(base_data_path + filtered_data_name, 'r', encoding='utf-8') as f:\n",
    "    products = json.load(f)\n",
    "\n",
    "# Xử lý từng sản phẩm và trích xuất các features\n",
    "results = [process_product(prod) for prod in products]\n",
    "\n",
    "# Chuyển đổi danh sách kết quả thành DataFrame để kiểm tra\n",
    "df = pd.DataFrame(results)\n",
    "print(df.head())\n",
    "\n",
    "# Lưu kết quả ra file CSV để kiểm tra\n",
    "df.to_csv(base_data_clean_path + extracted_features_name, index=False, encoding='utf-8-sig')\n"
   ]
  },
  {
   "cell_type": "markdown",
   "metadata": {
    "ExecuteTime": {
     "end_time": "2025-03-31T02:03:10.506305Z",
     "start_time": "2025-03-31T02:03:10.481800Z"
    }
   },
   "source": [
    "### C. Tổng quan về dữ liệu ban đầu\n"
   ]
  },
  {
   "cell_type": "markdown",
   "metadata": {},
   "source": [
    "#### 1. Kích thước và cấu trúc dữ liệu\n"
   ]
  },
  {
   "cell_type": "code",
   "execution_count": 1139,
   "metadata": {},
   "outputs": [
    {
     "name": "stdout",
     "output_type": "stream",
     "text": [
      "Shape của dữ liệu: (1224, 15)\n",
      "-------------------------------------------------\n",
      "\n",
      "Các đặc trưng trong dataset:\n",
      "['name', 'url', 'price', 'chipset', 'ram', 'internal_memory', 'screen_size', 'screen_resolution', 'screen_tech', 'refresh_rate', 'camera_main_resolution', 'camera_count', 'battery_capacity', 'security', 'cpu']\n",
      "-------------------------------------------------\n",
      "\n",
      "Mẫu dữ liệu:\n"
     ]
    },
    {
     "data": {
      "application/vnd.microsoft.datawrangler.viewer.v0+json": {
       "columns": [
        {
         "name": "index",
         "rawType": "int64",
         "type": "integer"
        },
        {
         "name": "name",
         "rawType": "object",
         "type": "string"
        },
        {
         "name": "url",
         "rawType": "object",
         "type": "string"
        },
        {
         "name": "price",
         "rawType": "float64",
         "type": "float"
        },
        {
         "name": "chipset",
         "rawType": "object",
         "type": "string"
        },
        {
         "name": "ram",
         "rawType": "float64",
         "type": "float"
        },
        {
         "name": "internal_memory",
         "rawType": "int64",
         "type": "integer"
        },
        {
         "name": "screen_size",
         "rawType": "object",
         "type": "string"
        },
        {
         "name": "screen_resolution",
         "rawType": "object",
         "type": "string"
        },
        {
         "name": "screen_tech",
         "rawType": "object",
         "type": "string"
        },
        {
         "name": "refresh_rate",
         "rawType": "object",
         "type": "unknown"
        },
        {
         "name": "camera_main_resolution",
         "rawType": "object",
         "type": "string"
        },
        {
         "name": "camera_count",
         "rawType": "int64",
         "type": "integer"
        },
        {
         "name": "battery_capacity",
         "rawType": "float64",
         "type": "float"
        },
        {
         "name": "security",
         "rawType": "object",
         "type": "string"
        },
        {
         "name": "cpu",
         "rawType": "object",
         "type": "string"
        }
       ],
       "conversionMethod": "pd.DataFrame",
       "ref": "066e15b6-261c-42bd-8cff-bb976789fdcf",
       "rows": [
        [
         "0",
         "ASUS ROG Phone 6 12GB 256GB",
         "https://cellphones.com.vn/asus-rog-phone-6-12gb-256gb.html",
         "14490000.0",
         "Qualcomm ® Snapdragon ® 8+ thế hệ 1",
         "12.0",
         "256",
         "6.78",
         "1080 x 2448",
         "AMOLED",
         null,
         "50.0 MP",
         "3",
         "6000.0",
         "Vân tay",
         "Qualcomm ® Snapdragon ® 8+ thế hệ 1"
        ],
        [
         "1",
         "Asus ROG Phone 2 (Snapdragon 855+)",
         "https://mobilecity.vn/asus/asus-rog-phone-2.html",
         "11950000.0",
         "Qualcomm SM8150 Snapdragon 855+ (7 nm) | 8 nhân (1x2.96 GHz & 3x2.42 GHz & 4x1.78 GHz) | GPU: Adreno 640 (700 MHz)",
         "12.0",
         "1024",
         "6.59",
         "1080 x 2340",
         "AMOLED",
         "120",
         "48.0 MP",
         "2",
         "6000.0",
         "Mật khẩu",
         "Qualcomm SM8150 Snapdragon 855+ (7 nm)"
        ],
        [
         "2",
         "Asus ROG Phone 3 Elite (Strix Edition)",
         "https://mobilecity.vn/asus/asus-rog-phone-3-strix.html",
         "10750000.0",
         "Qualcomm SM8250 Snapdragon 865 (7 nm+)",
         "12.0",
         "256",
         "6.59",
         "1080 x 2340",
         "AMOLED",
         "144",
         "64.0 MP",
         "3",
         "6000.0",
         "Mật khẩu",
         "Qualcomm SM8250 Snapdragon 865 (7 nm+)"
        ],
        [
         "3",
         "Asus ROG Phone 3 Tencent",
         "https://mobilecity.vn/asus/asus-rog-phone-3.html",
         "11450000.0",
         "Qualcomm SM8250 Snapdragon 865+ (7 nm+) | 8 nhân (1x3.10 GHz & 3x2.42 GHz & 4x1.80 GHz) | GPU: Adreno 650",
         "16.0",
         "512",
         "6.59",
         "1080 x 2340",
         "AMOLED",
         "144",
         "64.0 MP",
         "3",
         "6000.0",
         "Mật khẩu",
         "Qualcomm SM8250 Snapdragon 865+ (7 nm+)"
        ],
        [
         "4",
         "Asus ROG Phone 5S (Snap 888+)",
         "https://mobilecity.vn/asus/asus-rog-phone-5s.html",
         "14450000.0",
         "Qualcomm SM8350 Snapdragon 888+ 5G (5 nm) | 8 nhân (1x2.99 GHz & 3x2.42 GHz & 4x1.80 GHz) | GPU: Adreno 660",
         "16.0",
         "512",
         "6.78",
         "1080 x 2448",
         "AMOLED",
         "144",
         "64.0 MP",
         "3",
         "6000.0",
         "Vân tay",
         "Qualcomm SM8350 Snapdragon 888+ 5G (5 nm)"
        ]
       ],
       "shape": {
        "columns": 15,
        "rows": 5
       }
      },
      "text/html": [
       "<div>\n",
       "<style scoped>\n",
       "    .dataframe tbody tr th:only-of-type {\n",
       "        vertical-align: middle;\n",
       "    }\n",
       "\n",
       "    .dataframe tbody tr th {\n",
       "        vertical-align: top;\n",
       "    }\n",
       "\n",
       "    .dataframe thead th {\n",
       "        text-align: right;\n",
       "    }\n",
       "</style>\n",
       "<table border=\"1\" class=\"dataframe\">\n",
       "  <thead>\n",
       "    <tr style=\"text-align: right;\">\n",
       "      <th></th>\n",
       "      <th>name</th>\n",
       "      <th>url</th>\n",
       "      <th>price</th>\n",
       "      <th>chipset</th>\n",
       "      <th>ram</th>\n",
       "      <th>internal_memory</th>\n",
       "      <th>screen_size</th>\n",
       "      <th>screen_resolution</th>\n",
       "      <th>screen_tech</th>\n",
       "      <th>refresh_rate</th>\n",
       "      <th>camera_main_resolution</th>\n",
       "      <th>camera_count</th>\n",
       "      <th>battery_capacity</th>\n",
       "      <th>security</th>\n",
       "      <th>cpu</th>\n",
       "    </tr>\n",
       "  </thead>\n",
       "  <tbody>\n",
       "    <tr>\n",
       "      <th>0</th>\n",
       "      <td>ASUS ROG Phone 6 12GB 256GB</td>\n",
       "      <td>https://cellphones.com.vn/asus-rog-phone-6-12g...</td>\n",
       "      <td>14490000.0</td>\n",
       "      <td>Qualcomm ® Snapdragon ® 8+ thế hệ 1</td>\n",
       "      <td>12.0</td>\n",
       "      <td>256</td>\n",
       "      <td>6.78</td>\n",
       "      <td>1080 x 2448</td>\n",
       "      <td>AMOLED</td>\n",
       "      <td>None</td>\n",
       "      <td>50.0 MP</td>\n",
       "      <td>3</td>\n",
       "      <td>6000.0</td>\n",
       "      <td>Vân tay</td>\n",
       "      <td>Qualcomm ® Snapdragon ® 8+ thế hệ 1</td>\n",
       "    </tr>\n",
       "    <tr>\n",
       "      <th>1</th>\n",
       "      <td>Asus ROG Phone 2 (Snapdragon 855+)</td>\n",
       "      <td>https://mobilecity.vn/asus/asus-rog-phone-2.html</td>\n",
       "      <td>11950000.0</td>\n",
       "      <td>Qualcomm SM8150 Snapdragon 855+ (7 nm) | 8 nhâ...</td>\n",
       "      <td>12.0</td>\n",
       "      <td>1024</td>\n",
       "      <td>6.59</td>\n",
       "      <td>1080 x 2340</td>\n",
       "      <td>AMOLED</td>\n",
       "      <td>120</td>\n",
       "      <td>48.0 MP</td>\n",
       "      <td>2</td>\n",
       "      <td>6000.0</td>\n",
       "      <td>Mật khẩu</td>\n",
       "      <td>Qualcomm SM8150 Snapdragon 855+ (7 nm)</td>\n",
       "    </tr>\n",
       "    <tr>\n",
       "      <th>2</th>\n",
       "      <td>Asus ROG Phone 3 Elite (Strix Edition)</td>\n",
       "      <td>https://mobilecity.vn/asus/asus-rog-phone-3-st...</td>\n",
       "      <td>10750000.0</td>\n",
       "      <td>Qualcomm SM8250 Snapdragon 865 (7 nm+)</td>\n",
       "      <td>12.0</td>\n",
       "      <td>256</td>\n",
       "      <td>6.59</td>\n",
       "      <td>1080 x 2340</td>\n",
       "      <td>AMOLED</td>\n",
       "      <td>144</td>\n",
       "      <td>64.0 MP</td>\n",
       "      <td>3</td>\n",
       "      <td>6000.0</td>\n",
       "      <td>Mật khẩu</td>\n",
       "      <td>Qualcomm SM8250 Snapdragon 865 (7 nm+)</td>\n",
       "    </tr>\n",
       "    <tr>\n",
       "      <th>3</th>\n",
       "      <td>Asus ROG Phone 3 Tencent</td>\n",
       "      <td>https://mobilecity.vn/asus/asus-rog-phone-3.html</td>\n",
       "      <td>11450000.0</td>\n",
       "      <td>Qualcomm SM8250 Snapdragon 865+ (7 nm+) | 8 nh...</td>\n",
       "      <td>16.0</td>\n",
       "      <td>512</td>\n",
       "      <td>6.59</td>\n",
       "      <td>1080 x 2340</td>\n",
       "      <td>AMOLED</td>\n",
       "      <td>144</td>\n",
       "      <td>64.0 MP</td>\n",
       "      <td>3</td>\n",
       "      <td>6000.0</td>\n",
       "      <td>Mật khẩu</td>\n",
       "      <td>Qualcomm SM8250 Snapdragon 865+ (7 nm+)</td>\n",
       "    </tr>\n",
       "    <tr>\n",
       "      <th>4</th>\n",
       "      <td>Asus ROG Phone 5S (Snap 888+)</td>\n",
       "      <td>https://mobilecity.vn/asus/asus-rog-phone-5s.html</td>\n",
       "      <td>14450000.0</td>\n",
       "      <td>Qualcomm SM8350 Snapdragon 888+ 5G (5 nm) | 8 ...</td>\n",
       "      <td>16.0</td>\n",
       "      <td>512</td>\n",
       "      <td>6.78</td>\n",
       "      <td>1080 x 2448</td>\n",
       "      <td>AMOLED</td>\n",
       "      <td>144</td>\n",
       "      <td>64.0 MP</td>\n",
       "      <td>3</td>\n",
       "      <td>6000.0</td>\n",
       "      <td>Vân tay</td>\n",
       "      <td>Qualcomm SM8350 Snapdragon 888+ 5G (5 nm)</td>\n",
       "    </tr>\n",
       "  </tbody>\n",
       "</table>\n",
       "</div>"
      ],
      "text/plain": [
       "                                     name  \\\n",
       "0             ASUS ROG Phone 6 12GB 256GB   \n",
       "1      Asus ROG Phone 2 (Snapdragon 855+)   \n",
       "2  Asus ROG Phone 3 Elite (Strix Edition)   \n",
       "3                Asus ROG Phone 3 Tencent   \n",
       "4           Asus ROG Phone 5S (Snap 888+)   \n",
       "\n",
       "                                                 url       price  \\\n",
       "0  https://cellphones.com.vn/asus-rog-phone-6-12g...  14490000.0   \n",
       "1   https://mobilecity.vn/asus/asus-rog-phone-2.html  11950000.0   \n",
       "2  https://mobilecity.vn/asus/asus-rog-phone-3-st...  10750000.0   \n",
       "3   https://mobilecity.vn/asus/asus-rog-phone-3.html  11450000.0   \n",
       "4  https://mobilecity.vn/asus/asus-rog-phone-5s.html  14450000.0   \n",
       "\n",
       "                                             chipset   ram  internal_memory  \\\n",
       "0                Qualcomm ® Snapdragon ® 8+ thế hệ 1  12.0              256   \n",
       "1  Qualcomm SM8150 Snapdragon 855+ (7 nm) | 8 nhâ...  12.0             1024   \n",
       "2             Qualcomm SM8250 Snapdragon 865 (7 nm+)  12.0              256   \n",
       "3  Qualcomm SM8250 Snapdragon 865+ (7 nm+) | 8 nh...  16.0              512   \n",
       "4  Qualcomm SM8350 Snapdragon 888+ 5G (5 nm) | 8 ...  16.0              512   \n",
       "\n",
       "  screen_size screen_resolution screen_tech refresh_rate  \\\n",
       "0        6.78       1080 x 2448      AMOLED         None   \n",
       "1        6.59       1080 x 2340      AMOLED          120   \n",
       "2        6.59       1080 x 2340      AMOLED          144   \n",
       "3        6.59       1080 x 2340      AMOLED          144   \n",
       "4        6.78       1080 x 2448      AMOLED          144   \n",
       "\n",
       "  camera_main_resolution  camera_count  battery_capacity  security  \\\n",
       "0                50.0 MP             3            6000.0   Vân tay   \n",
       "1                48.0 MP             2            6000.0  Mật khẩu   \n",
       "2                64.0 MP             3            6000.0  Mật khẩu   \n",
       "3                64.0 MP             3            6000.0  Mật khẩu   \n",
       "4                64.0 MP             3            6000.0   Vân tay   \n",
       "\n",
       "                                         cpu  \n",
       "0        Qualcomm ® Snapdragon ® 8+ thế hệ 1  \n",
       "1     Qualcomm SM8150 Snapdragon 855+ (7 nm)  \n",
       "2     Qualcomm SM8250 Snapdragon 865 (7 nm+)  \n",
       "3    Qualcomm SM8250 Snapdragon 865+ (7 nm+)  \n",
       "4  Qualcomm SM8350 Snapdragon 888+ 5G (5 nm)  "
      ]
     },
     "metadata": {},
     "output_type": "display_data"
    }
   ],
   "source": [
    "# Hiển thị vài hàng đầu tiên của dữ liệu thô\n",
    "print(\"Shape của dữ liệu:\", df.shape)\n",
    "df.head()\n",
    "print (\"-------------------------------------------------\")\n",
    "# Hiển thị các cột trong dataset\n",
    "print(\"\\nCác đặc trưng trong dataset:\")\n",
    "print(df.columns.tolist())\n",
    "\n",
    "print (\"-------------------------------------------------\")\n",
    "# Hiển thị vài mẫu đầu tiên\n",
    "print(\"\\nMẫu dữ liệu:\")\n",
    "display(df.head())"
   ]
  },
  {
   "cell_type": "markdown",
   "metadata": {},
   "source": [
    "#### 2. Kiểm tra kiểu dữ liệu\n"
   ]
  },
  {
   "cell_type": "code",
   "execution_count": 1140,
   "metadata": {},
   "outputs": [
    {
     "name": "stdout",
     "output_type": "stream",
     "text": [
      "\n",
      "Kiểu dữ liệu của các cột:\n",
      "<class 'pandas.core.frame.DataFrame'>\n",
      "RangeIndex: 1224 entries, 0 to 1223\n",
      "Data columns (total 15 columns):\n",
      " #   Column                  Non-Null Count  Dtype  \n",
      "---  ------                  --------------  -----  \n",
      " 0   name                    1224 non-null   object \n",
      " 1   url                     1224 non-null   object \n",
      " 2   price                   1222 non-null   float64\n",
      " 3   chipset                 1220 non-null   object \n",
      " 4   ram                     1207 non-null   float64\n",
      " 5   internal_memory         1224 non-null   int64  \n",
      " 6   screen_size             1224 non-null   object \n",
      " 7   screen_resolution       1212 non-null   object \n",
      " 8   screen_tech             1208 non-null   object \n",
      " 9   refresh_rate            1008 non-null   object \n",
      " 10  camera_main_resolution  1223 non-null   object \n",
      " 11  camera_count            1224 non-null   int64  \n",
      " 12  battery_capacity        1195 non-null   float64\n",
      " 13  security                1224 non-null   object \n",
      " 14  cpu                     1220 non-null   object \n",
      "dtypes: float64(3), int64(2), object(10)\n",
      "memory usage: 143.6+ KB\n"
     ]
    }
   ],
   "source": [
    "# Kiểm tra kiểu dữ liệu của các cột\n",
    "print(\"\\nKiểu dữ liệu của các cột:\")\n",
    "df.info()"
   ]
  },
  {
   "cell_type": "markdown",
   "metadata": {},
   "source": [
    "#### 3. Thống kê mô tả cho các biến số\n"
   ]
  },
  {
   "cell_type": "code",
   "execution_count": 1141,
   "metadata": {},
   "outputs": [
    {
     "name": "stdout",
     "output_type": "stream",
     "text": [
      "\n",
      "Thống kê mô tả cho các biến số:\n"
     ]
    },
    {
     "data": {
      "application/vnd.microsoft.datawrangler.viewer.v0+json": {
       "columns": [
        {
         "name": "index",
         "rawType": "object",
         "type": "string"
        },
        {
         "name": "price",
         "rawType": "float64",
         "type": "float"
        },
        {
         "name": "ram",
         "rawType": "float64",
         "type": "float"
        },
        {
         "name": "internal_memory",
         "rawType": "float64",
         "type": "float"
        },
        {
         "name": "camera_count",
         "rawType": "float64",
         "type": "float"
        },
        {
         "name": "battery_capacity",
         "rawType": "float64",
         "type": "float"
        }
       ],
       "conversionMethod": "pd.DataFrame",
       "ref": "c22d1cae-5a6e-473d-9a1c-bffaa249d6ec",
       "rows": [
        [
         "count",
         "1222.0",
         "1207.0",
         "1224.0",
         "1224.0",
         "1195.0"
        ],
        [
         "mean",
         "9885436.98854337",
         "10.089478044739023",
         "357.07434640522877",
         "2.6200980392156863",
         "5005.467782426778"
        ],
        [
         "std",
         "7891891.492679442",
         "4.465115975269896",
         "289.6631706660203",
         "0.8059192241019064",
         "1050.2588368492402"
        ],
        [
         "min",
         "750000.0",
         "2.0",
         "16.0",
         "0.0",
         "2900.0"
        ],
        [
         "25%",
         "4350000.0",
         "8.0",
         "128.0",
         "2.0",
         "4600.0"
        ],
        [
         "50%",
         "7210000.0",
         "8.0",
         "256.0",
         "3.0",
         "5000.0"
        ],
        [
         "75%",
         "12680000.0",
         "12.0",
         "512.0",
         "3.0",
         "5062.5"
        ],
        [
         "max",
         "51250000.0",
         "64.0",
         "2128.0",
         "6.0",
         "23800.0"
        ]
       ],
       "shape": {
        "columns": 5,
        "rows": 8
       }
      },
      "text/html": [
       "<div>\n",
       "<style scoped>\n",
       "    .dataframe tbody tr th:only-of-type {\n",
       "        vertical-align: middle;\n",
       "    }\n",
       "\n",
       "    .dataframe tbody tr th {\n",
       "        vertical-align: top;\n",
       "    }\n",
       "\n",
       "    .dataframe thead th {\n",
       "        text-align: right;\n",
       "    }\n",
       "</style>\n",
       "<table border=\"1\" class=\"dataframe\">\n",
       "  <thead>\n",
       "    <tr style=\"text-align: right;\">\n",
       "      <th></th>\n",
       "      <th>price</th>\n",
       "      <th>ram</th>\n",
       "      <th>internal_memory</th>\n",
       "      <th>camera_count</th>\n",
       "      <th>battery_capacity</th>\n",
       "    </tr>\n",
       "  </thead>\n",
       "  <tbody>\n",
       "    <tr>\n",
       "      <th>count</th>\n",
       "      <td>1.222000e+03</td>\n",
       "      <td>1207.000000</td>\n",
       "      <td>1224.000000</td>\n",
       "      <td>1224.000000</td>\n",
       "      <td>1195.000000</td>\n",
       "    </tr>\n",
       "    <tr>\n",
       "      <th>mean</th>\n",
       "      <td>9.885437e+06</td>\n",
       "      <td>10.089478</td>\n",
       "      <td>357.074346</td>\n",
       "      <td>2.620098</td>\n",
       "      <td>5005.467782</td>\n",
       "    </tr>\n",
       "    <tr>\n",
       "      <th>std</th>\n",
       "      <td>7.891891e+06</td>\n",
       "      <td>4.465116</td>\n",
       "      <td>289.663171</td>\n",
       "      <td>0.805919</td>\n",
       "      <td>1050.258837</td>\n",
       "    </tr>\n",
       "    <tr>\n",
       "      <th>min</th>\n",
       "      <td>7.500000e+05</td>\n",
       "      <td>2.000000</td>\n",
       "      <td>16.000000</td>\n",
       "      <td>0.000000</td>\n",
       "      <td>2900.000000</td>\n",
       "    </tr>\n",
       "    <tr>\n",
       "      <th>25%</th>\n",
       "      <td>4.350000e+06</td>\n",
       "      <td>8.000000</td>\n",
       "      <td>128.000000</td>\n",
       "      <td>2.000000</td>\n",
       "      <td>4600.000000</td>\n",
       "    </tr>\n",
       "    <tr>\n",
       "      <th>50%</th>\n",
       "      <td>7.210000e+06</td>\n",
       "      <td>8.000000</td>\n",
       "      <td>256.000000</td>\n",
       "      <td>3.000000</td>\n",
       "      <td>5000.000000</td>\n",
       "    </tr>\n",
       "    <tr>\n",
       "      <th>75%</th>\n",
       "      <td>1.268000e+07</td>\n",
       "      <td>12.000000</td>\n",
       "      <td>512.000000</td>\n",
       "      <td>3.000000</td>\n",
       "      <td>5062.500000</td>\n",
       "    </tr>\n",
       "    <tr>\n",
       "      <th>max</th>\n",
       "      <td>5.125000e+07</td>\n",
       "      <td>64.000000</td>\n",
       "      <td>2128.000000</td>\n",
       "      <td>6.000000</td>\n",
       "      <td>23800.000000</td>\n",
       "    </tr>\n",
       "  </tbody>\n",
       "</table>\n",
       "</div>"
      ],
      "text/plain": [
       "              price          ram  internal_memory  camera_count  \\\n",
       "count  1.222000e+03  1207.000000      1224.000000   1224.000000   \n",
       "mean   9.885437e+06    10.089478       357.074346      2.620098   \n",
       "std    7.891891e+06     4.465116       289.663171      0.805919   \n",
       "min    7.500000e+05     2.000000        16.000000      0.000000   \n",
       "25%    4.350000e+06     8.000000       128.000000      2.000000   \n",
       "50%    7.210000e+06     8.000000       256.000000      3.000000   \n",
       "75%    1.268000e+07    12.000000       512.000000      3.000000   \n",
       "max    5.125000e+07    64.000000      2128.000000      6.000000   \n",
       "\n",
       "       battery_capacity  \n",
       "count       1195.000000  \n",
       "mean        5005.467782  \n",
       "std         1050.258837  \n",
       "min         2900.000000  \n",
       "25%         4600.000000  \n",
       "50%         5000.000000  \n",
       "75%         5062.500000  \n",
       "max        23800.000000  "
      ]
     },
     "metadata": {},
     "output_type": "display_data"
    },
    {
     "name": "stdout",
     "output_type": "stream",
     "text": [
      "\n",
      "Phân bố giá trị cho chipset:\n"
     ]
    },
    {
     "data": {
      "text/plain": [
       "chipset\n",
       "Qualcomm SM8475 Snapdragon 8+ Gen 1 (4 nm) | 8 nhân (1x3.19 GHz & 3x2.75 GHz & 4x1.80 GHz) | GPU: Adreno 730               22\n",
       "Qualcomm SM8750-AB Snapdragon 8 Elite (3 nm) | 8 nhân (2x4.32 GHz & 6x3.53 GHz) | GPU: Adreno 830                          22\n",
       "Qualcomm SM8550-AB Snapdragon 8 Gen 2 (4 nm) | 8 nhân (1x3.2 GHz & 2x2.8 GHz & 2x2.8 GHz & 3x2.0 GHz) | GPU: Adreno 740    22\n",
       "Qualcomm SM6375 Snapdragon 695 5G (6 nm) | 8 nhân (2x2.2 GHz & 6x1.7 GHz) | GPU: Adreno 619                                19\n",
       "Qualcomm SM8650-AB Snapdragon 8 Gen 3 (4 nm) | 8 nhân (1x3.3 GHz & 3x3.2 GHz & 2x3.0 GHz & 2x2.3 GHz) | GPU: Adreno 750    18\n",
       "Qualcomm SM8450 Snapdragon 8 Gen 1 (4 nm) | 8 nhân (1x3.00 GHz & 3x2.50 GHz & 4x1.80 GHz) | GPU: Adreno 730                16\n",
       "Qualcomm SM8650-AB Snapdragon 8 Gen 3 (4 nm) | 8 nhân (1x3.3 GHz & 5x3.2 GHz & 2x2.3 GHz) | GPU: Adreno 750                15\n",
       "Qualcomm SM8550 Snapdragon 8 Gen 2 (4 nm) | 8 nhân (1x3.2 GHz & 2x2.8 GHz & 2x2.8 GHz & 3x2.0 GHz) | GPU: Adreno 740       13\n",
       "Qualcomm SM6450 Snapdragon 6 Gen 1 (4 nm) | 8 nhân (4x2.2 GHz & 4x1.8 GHz) | GPU: Adreno 710                               11\n",
       "MediaTek Dimensity 6300 (6 nm) | 8 nhân (2x2.4 GHz & 6x2.0 GHz) | GPU: Mali-G57 MC2                                        11\n",
       "Name: count, dtype: int64"
      ]
     },
     "metadata": {},
     "output_type": "display_data"
    },
    {
     "name": "stdout",
     "output_type": "stream",
     "text": [
      "\n",
      "Phân bố giá trị cho screen_tech:\n"
     ]
    },
    {
     "data": {
      "text/plain": [
       "screen_tech\n",
       "AMOLED                   360\n",
       "IPS LCD                  286\n",
       "OLED                     106\n",
       "Super AMOLED              90\n",
       "LTPO AMOLED               65\n",
       "Dynamic AMOLED 2X         49\n",
       "Super Retina XDR OLED     39\n",
       "LTPO OLED                 22\n",
       "PLS LCD                   16\n",
       "LCD                       14\n",
       "Name: count, dtype: int64"
      ]
     },
     "metadata": {},
     "output_type": "display_data"
    },
    {
     "name": "stdout",
     "output_type": "stream",
     "text": [
      "\n",
      "Phân bố giá trị cho security:\n"
     ]
    },
    {
     "data": {
      "text/plain": [
       "security\n",
       "Mật khẩu            651\n",
       "Vân tay             363\n",
       "Face ID, Vân tay    165\n",
       "Face ID              45\n",
       "Name: count, dtype: int64"
      ]
     },
     "metadata": {},
     "output_type": "display_data"
    }
   ],
   "source": [
    "# Thống kê mô tả cho các biến số\n",
    "print(\"\\nThống kê mô tả cho các biến số:\")\n",
    "display(df.describe())\n",
    "\n",
    "# Đối với các biến danh mục, hiển thị tần suất\n",
    "categorical_columns = ['chipset', 'screen_tech', 'wireless', 'security']\n",
    "for col in categorical_columns:\n",
    "    if col in df.columns:\n",
    "        print(f\"\\nPhân bố giá trị cho {col}:\")\n",
    "        display(df[col].value_counts().head(10))"
   ]
  },
  {
   "cell_type": "markdown",
   "metadata": {},
   "source": [
    "#### 4. Kiểm tra dữ liệu thiếu\n"
   ]
  },
  {
   "cell_type": "code",
   "execution_count": 1142,
   "metadata": {},
   "outputs": [
    {
     "name": "stdout",
     "output_type": "stream",
     "text": [
      "\n",
      "Thông tin về dữ liệu thiếu:\n"
     ]
    },
    {
     "data": {
      "application/vnd.microsoft.datawrangler.viewer.v0+json": {
       "columns": [
        {
         "name": "index",
         "rawType": "object",
         "type": "string"
        },
        {
         "name": "Số lượng giá trị thiếu",
         "rawType": "int64",
         "type": "integer"
        },
        {
         "name": "Phần trăm",
         "rawType": "float64",
         "type": "float"
        }
       ],
       "conversionMethod": "pd.DataFrame",
       "ref": "7ccbe133-0f43-4e61-873d-4823f1d0557f",
       "rows": [
        [
         "refresh_rate",
         "216",
         "17.65"
        ],
        [
         "battery_capacity",
         "29",
         "2.37"
        ],
        [
         "ram",
         "17",
         "1.39"
        ],
        [
         "screen_tech",
         "16",
         "1.31"
        ],
        [
         "screen_resolution",
         "12",
         "0.98"
        ],
        [
         "cpu",
         "4",
         "0.33"
        ],
        [
         "chipset",
         "4",
         "0.33"
        ],
        [
         "price",
         "2",
         "0.16"
        ],
        [
         "camera_main_resolution",
         "1",
         "0.08"
        ]
       ],
       "shape": {
        "columns": 2,
        "rows": 9
       }
      },
      "text/html": [
       "<div>\n",
       "<style scoped>\n",
       "    .dataframe tbody tr th:only-of-type {\n",
       "        vertical-align: middle;\n",
       "    }\n",
       "\n",
       "    .dataframe tbody tr th {\n",
       "        vertical-align: top;\n",
       "    }\n",
       "\n",
       "    .dataframe thead th {\n",
       "        text-align: right;\n",
       "    }\n",
       "</style>\n",
       "<table border=\"1\" class=\"dataframe\">\n",
       "  <thead>\n",
       "    <tr style=\"text-align: right;\">\n",
       "      <th></th>\n",
       "      <th>Số lượng giá trị thiếu</th>\n",
       "      <th>Phần trăm</th>\n",
       "    </tr>\n",
       "  </thead>\n",
       "  <tbody>\n",
       "    <tr>\n",
       "      <th>refresh_rate</th>\n",
       "      <td>216</td>\n",
       "      <td>17.65</td>\n",
       "    </tr>\n",
       "    <tr>\n",
       "      <th>battery_capacity</th>\n",
       "      <td>29</td>\n",
       "      <td>2.37</td>\n",
       "    </tr>\n",
       "    <tr>\n",
       "      <th>ram</th>\n",
       "      <td>17</td>\n",
       "      <td>1.39</td>\n",
       "    </tr>\n",
       "    <tr>\n",
       "      <th>screen_tech</th>\n",
       "      <td>16</td>\n",
       "      <td>1.31</td>\n",
       "    </tr>\n",
       "    <tr>\n",
       "      <th>screen_resolution</th>\n",
       "      <td>12</td>\n",
       "      <td>0.98</td>\n",
       "    </tr>\n",
       "    <tr>\n",
       "      <th>cpu</th>\n",
       "      <td>4</td>\n",
       "      <td>0.33</td>\n",
       "    </tr>\n",
       "    <tr>\n",
       "      <th>chipset</th>\n",
       "      <td>4</td>\n",
       "      <td>0.33</td>\n",
       "    </tr>\n",
       "    <tr>\n",
       "      <th>price</th>\n",
       "      <td>2</td>\n",
       "      <td>0.16</td>\n",
       "    </tr>\n",
       "    <tr>\n",
       "      <th>camera_main_resolution</th>\n",
       "      <td>1</td>\n",
       "      <td>0.08</td>\n",
       "    </tr>\n",
       "  </tbody>\n",
       "</table>\n",
       "</div>"
      ],
      "text/plain": [
       "                        Số lượng giá trị thiếu  Phần trăm\n",
       "refresh_rate                               216      17.65\n",
       "battery_capacity                            29       2.37\n",
       "ram                                         17       1.39\n",
       "screen_tech                                 16       1.31\n",
       "screen_resolution                           12       0.98\n",
       "cpu                                          4       0.33\n",
       "chipset                                      4       0.33\n",
       "price                                        2       0.16\n",
       "camera_main_resolution                       1       0.08"
      ]
     },
     "metadata": {},
     "output_type": "display_data"
    },
    {
     "data": {
      "image/png": "[encoded data removed]",
      "text/plain": [
       "<Figure size 1200x800 with 1 Axes>"
      ]
     },
     "metadata": {},
     "output_type": "display_data"
    }
   ],
   "source": [
    "# Phân tích dữ liệu thiếu\n",
    "missing_values = df.isnull().sum()\n",
    "missing_percentage = (missing_values / len(df)) * 100\n",
    "missing_data = pd.DataFrame({\n",
    "    'Số lượng giá trị thiếu': missing_values,\n",
    "    'Phần trăm': missing_percentage.round(2)\n",
    "})\n",
    "\n",
    "# Hiển thị các cột có giá trị thiếu\n",
    "print(\"\\nThông tin về dữ liệu thiếu:\")\n",
    "display(missing_data[missing_data['Số lượng giá trị thiếu'] > 0].sort_values('Phần trăm', ascending=False))\n",
    "\n",
    "# Vẽ heatmap dữ liệu thiếu\n",
    "plt.figure(figsize=(12, 8))\n",
    "sns.heatmap(df.isnull(), cbar=False, yticklabels=False, cmap='viridis')\n",
    "plt.title('Heatmap dữ liệu thiếu')\n",
    "plt.tight_layout()\n",
    "plt.show()"
   ]
  },
  {
   "cell_type": "markdown",
   "metadata": {},
   "source": [
    "#### 5. Trực quan hóa phân bố của các biến chính\n"
   ]
  },
  {
   "cell_type": "code",
   "execution_count": 1143,
   "metadata": {},
   "outputs": [
    {
     "data": {
      "image/png": "[encoded data removed]",
      "text/plain": [
       "<Figure size 1400x1000 with 4 Axes>"
      ]
     },
     "metadata": {},
     "output_type": "display_data"
    }
   ],
   "source": [
    "# Vẽ phân bố của 4 biến số quan trọng\n",
    "fig, axes = plt.subplots(2, 2, figsize=(14, 10))\n",
    "\n",
    "# Phân bố giá\n",
    "if 'price' in df.columns:\n",
    "    sns.histplot(df['price'].dropna(), kde=True, ax=axes[0, 0])\n",
    "    axes[0, 0].set_title('Phân bố giá')\n",
    "\n",
    "# Phân bố RAM\n",
    "if 'ram' in df.columns:\n",
    "    sns.histplot(df['ram'].dropna(), kde=True, ax=axes[0, 1])\n",
    "    axes[0, 1].set_title('Phân bố RAM (MB)')\n",
    "\n",
    "# Phân bố bộ nhớ trong\n",
    "if 'internal_memory' in df.columns:\n",
    "    sns.histplot(df['internal_memory'].dropna(), kde=True, ax=axes[1, 0])\n",
    "    axes[1, 0].set_title('Phân bố bộ nhớ trong (MB)')\n",
    "\n",
    "# Phân bố dung lượng pin\n",
    "if 'battery_capacity' in df.columns:\n",
    "    sns.histplot(df['battery_capacity'].dropna(), kde=True, ax=axes[1, 1])\n",
    "    axes[1, 1].set_title('Phân bố dung lượng pin (mAh)')\n",
    "\n",
    "plt.tight_layout()\n",
    "plt.show()"
   ]
  },
  {
   "cell_type": "markdown",
   "metadata": {},
   "source": [
    "#### 6. Kiểm tra outliers\n"
   ]
  },
  {
   "cell_type": "code",
   "execution_count": 1144,
   "metadata": {},
   "outputs": [
    {
     "data": {
      "image/png": "[encoded data removed]",
      "text/plain": [
       "<Figure size 1200x800 with 4 Axes>"
      ]
     },
     "metadata": {},
     "output_type": "display_data"
    }
   ],
   "source": [
    "# Vẽ boxplot cho các biến số chính\n",
    "numeric_cols = ['price', 'ram', 'internal_memory', 'battery_capacity']\n",
    "numeric_cols = [col for col in numeric_cols if col in df.columns]\n",
    "\n",
    "if numeric_cols:\n",
    "    plt.figure(figsize=(12, len(numeric_cols) * 2))\n",
    "    for i, col in enumerate(numeric_cols, 1):\n",
    "        plt.subplot(len(numeric_cols), 1, i)\n",
    "        sns.boxplot(x=df[col].dropna())\n",
    "        plt.title(f'Boxplot của {col}')\n",
    "        plt.tight_layout()\n",
    "    plt.show()"
   ]
  },
  {
   "cell_type": "markdown",
   "metadata": {},
   "source": [
    "#### 7. Mối tương quan ban đầu giữa các biến\n"
   ]
  },
  {
   "cell_type": "code",
   "execution_count": 1145,
   "metadata": {},
   "outputs": [
    {
     "data": {
      "image/png": "[encoded data removed]",
      "text/plain": [
       "<Figure size 1000x800 with 2 Axes>"
      ]
     },
     "metadata": {},
     "output_type": "display_data"
    }
   ],
   "source": [
    "# Tính ma trận tương quan giữa các biến số\n",
    "numeric_cols = df.select_dtypes(include=['number']).columns.tolist()\n",
    "if len(numeric_cols) > 1:\n",
    "    plt.figure(figsize=(10, 8))\n",
    "    corr_matrix = df[numeric_cols].corr()\n",
    "    sns.heatmap(corr_matrix, annot=True, cmap='coolwarm', fmt='.2f', linewidths=0.5)\n",
    "    plt.title('Ma trận tương quan giữa các biến số')\n",
    "    plt.tight_layout()\n",
    "    plt.show()"
   ]
  },
  {
   "cell_type": "markdown",
   "metadata": {},
   "source": [
    "#### 8. Phân tích biến mục tiêu (price)\n"
   ]
  },
  {
   "cell_type": "code",
   "execution_count": 1146,
   "metadata": {},
   "outputs": [
    {
     "name": "stdout",
     "output_type": "stream",
     "text": [
      "Top 5 biến có tương quan cao nhất với price:\n",
      "price               1.000000\n",
      "internal_memory     0.458270\n",
      "ram                 0.393551\n",
      "camera_count        0.323340\n",
      "battery_capacity   -0.035975\n",
      "Name: price, dtype: float64\n"
     ]
    },
    {
     "data": {
      "image/png": "[encoded data removed]",
      "text/plain": [
       "<Figure size 1000x600 with 1 Axes>"
      ]
     },
     "metadata": {},
     "output_type": "display_data"
    }
   ],
   "source": [
    "# Giả sử 'price' là biến mục tiêu\n",
    "target = 'price'\n",
    "if target in df.columns:\n",
    "    # Top 5 biến có tương quan cao nhất với price\n",
    "    if len(numeric_cols) > 1:\n",
    "        correlations = df[numeric_cols].corr()[target].sort_values(ascending=False)\n",
    "        print(f\"Top 5 biến có tương quan cao nhất với {target}:\")\n",
    "        print(correlations.head(6))  # +1 vì có chính nó\n",
    "        \n",
    "    # Scatter plot giữa RAM và giá\n",
    "    plt.figure(figsize=(10, 6))\n",
    "    sns.scatterplot(data=df, x='ram', y=target)\n",
    "    plt.title(f'Mối quan hệ giữa RAM và {target}')\n",
    "    plt.tight_layout()\n",
    "    plt.show()"
   ]
  },
  {
   "cell_type": "markdown",
   "metadata": {},
   "source": [
    "#### 9. Kết luận ban đầu\n"
   ]
  },
  {
   "cell_type": "markdown",
   "metadata": {},
   "source": [
    "Kết luận ban đầu:\n",
    "\n",
    "-   Tương quan với giá sản phẩm:\n",
    "    -   Các yếu tố ảnh hưởng mạnh đến giá bán điện thoại (theo thứ tự giảm dần): screen_width (0.65), total_pixels (0.50), RAM (0.40), aspect_ratio (0.39), và internal_memory (0.33)\n",
    "    -   Kích thước màn hình có ảnh hưởng lớn nhất đến giá bán, theo sau là tổng số điểm ảnh\n",
    "-   Phân bố dữ liệu:\n",
    "    -   Phần lớn điện thoại tập trung ở phân khúc giá thấp đến trung bình, với một số ít mẫu cao cấp có giá cao hơn đáng kể\n",
    "    -   RAM phổ biến nhất là 4GB-8GB, với xu hướng tăng ở các thiết bị cao cấp\n",
    "    -   Dung lượng pin tập trung chủ yếu quanh mức 5000mAh\n",
    "-   Phân khúc thị trường:\n",
    "\n",
    "    -   Bảo mật: Phần lớn sản phẩm sử dụng mật khẩu (669 sản phẩm) hoặc vân tay (363 sản phẩm)\n",
    "    -   Phân phối chipset không đồng đều, cho thấy sự đa dạng về nhà sản xuất chip\n",
    "\n",
    "-   Thiếu dữ liệu:\n",
    "    -   28 sản phẩm thiếu thông tin RAM (chủ yếu là iPhone 16 và một số thiết bị cơ bản)\n",
    "    -   7 sản phẩm thiếu thông tin chipset, đã được xử lý bằng cách gán giá trị \"Không xác định\"\n"
   ]
  },
  {
   "cell_type": "markdown",
   "metadata": {},
   "source": [
    "## 2. DATA CLEANING\n"
   ]
  },
  {
   "cell_type": "markdown",
   "metadata": {},
   "source": [
    "##### Xử lý dữ liêu trùng cùng tên và cùng giá\n"
   ]
  },
  {
   "cell_type": "code",
   "execution_count": 1147,
   "metadata": {},
   "outputs": [
    {
     "name": "stdout",
     "output_type": "stream",
     "text": [
      "Số lượng bản ghi ban đầu: 1224\n",
      "Số lượng bản ghi sau khi lọc: 1217\n"
     ]
    }
   ],
   "source": [
    "# Xóa các dòng trùng theo name + price, giữ lại bản ghi đầu tiên\n",
    "df_cleaned = df.drop_duplicates(subset=['name', 'price'])\n",
    "\n",
    "# Lưu lại file đã lọc\n",
    "df_cleaned.to_csv(base_data_clean_path + cleaned_data_name, index=False, encoding=\"utf-8-sig\")\n",
    "\n",
    "# Hiển thị số lượng bản ghi trước và sau khi lọc\n",
    "print(f\"Số lượng bản ghi ban đầu: {len(df)}\")\n",
    "print(f\"Số lượng bản ghi sau khi lọc: {len(df_cleaned)}\")"
   ]
  },
  {
   "cell_type": "markdown",
   "metadata": {},
   "source": [
    "##### Feature engineering: Trích xuất thông tin thương hiệu từ tên sản phẩm\n"
   ]
  },
  {
   "cell_type": "code",
   "execution_count": 1148,
   "metadata": {},
   "outputs": [
    {
     "name": "stdout",
     "output_type": "stream",
     "text": [
      "                                                name brand       os\n",
      "0                        ASUS ROG Phone 6 12GB 256GB  Asus  Android\n",
      "1                 Asus ROG Phone 2 (Snapdragon 855+)  Asus  Android\n",
      "2             Asus ROG Phone 3 Elite (Strix Edition)  Asus  Android\n",
      "3                           Asus ROG Phone 3 Tencent  Asus  Android\n",
      "4                      Asus ROG Phone 5S (Snap 888+)  Asus  Android\n",
      "5               Asus ROG Phone 5 5G (Snapdragon 888)  Asus  Android\n",
      "6                                  Asus ROG Phone 6D  Asus  Android\n",
      "7                         Asus ROG Phone 6D Ultimate  Asus  Android\n",
      "8  Asus ROG Phone 6 (Snapdragon 8+ Gen 1, pin 600...  Asus  Android\n",
      "9                               Asus ROG Phone 6 Pro  Asus  Android\n"
     ]
    }
   ],
   "source": [
    "import pandas as pd\n",
    "\n",
    "def extract_brand(name):\n",
    "    # Convert to lowercase for easier matching\n",
    "    name_lower = name.lower()\n",
    "    \n",
    "    # Define brand patterns\n",
    "    brand_patterns = {\n",
    "        'iphone': 'Apple',\n",
    "        'apple': 'Apple',\n",
    "        'samsung': 'Samsung',\n",
    "        'xiaomi': 'Xiaomi',\n",
    "        'asus': 'Asus',\n",
    "        'bphone': 'Bphone',\n",
    "        'redmi': 'Xiaomi',\n",
    "        'infinix': 'Infinix',\n",
    "        'inoi': 'Inoi',\n",
    "        'itel': 'Itel',\n",
    "        'nokia': 'Nokia',\n",
    "        'sony': 'Sony',\n",
    "        'nothing': 'Nothing',\n",
    "        'nubia': 'Nubia',\n",
    "        'poco': 'Xiaomi',\n",
    "        'huawei': 'Huawei',\n",
    "        'vivo': 'Vivo',\n",
    "        'oppo': 'OPPO',\n",
    "        'honor': 'Honor',\n",
    "        'realme': 'Realme',\n",
    "        'tecno': 'Tecno',\n",
    "        'viettel': 'Viettel',\n",
    "        'vsmart': 'Vsmart',\n",
    "        'zte': 'ZTE',\n",
    "        'google': 'Google',\n",
    "        'meizu': 'Meizu',\n",
    "        'motorola': 'Motorola',\n",
    "        'moto': 'Motorola',\n",
    "        'nio phone': 'NIO Phone',\n",
    "        'nothing': 'Nothing',\n",
    "        'oneplus': 'OnePlus',\n",
    "        'tesla': 'Tesla',\n",
    "        'unihertz': 'Unihertz',\n",
    "        'lenovo': 'Lenovo',\n",
    "        'red magic': 'Red Magic',\n",
    "        'moonstone': 'Moonstone',\n",
    "        'leeco': 'LeEco',\n",
    "        'blackview': 'Blackview',\n",
    "        'benco': 'Benco',\n",
    "        'fairphone': 'Fairphone',\n",
    "        'ulefone': 'Ulefone',\n",
    "        'smartisan': 'Smartisan',\n",
    "        'moondrop': 'Moondrop',\n",
    "        'gionee': 'Gionee',\n",
    "        'blu': 'Blu',\n",
    "    }\n",
    "    \n",
    "    # Try to match brand at the start of the name\n",
    "    for pattern, brand in brand_patterns.items():\n",
    "        if name_lower.startswith(pattern):\n",
    "            return brand\n",
    "    \n",
    "    # Look for brand anywhere in the name\n",
    "    for pattern, brand in brand_patterns.items():\n",
    "        if pattern in name_lower:\n",
    "            return brand\n",
    "    \n",
    "    return 'Other'\n",
    "\n",
    "def extract_os(brand):\n",
    "    if brand == 'Apple':\n",
    "        return 'iOS'\n",
    "    else:\n",
    "        return 'Android'\n",
    "\n",
    "def extract_brand_and_os(df):\n",
    "    # Extract brand\n",
    "    df['brand'] = df['name'].apply(extract_brand)\n",
    "    \n",
    "    # Infer OS based on brand\n",
    "    df['os'] = df['brand'].apply(extract_os)\n",
    "    \n",
    "    return df\n",
    "\n",
    "# Load your data\n",
    "df = pd.read_csv(base_data_clean_path + cleaned_data_name)\n",
    "\n",
    "# Apply feature engineering\n",
    "df = extract_brand_and_os(df)\n",
    "\n",
    "# Preview the results\n",
    "print(df[['name', 'brand', 'os']].head(10))\n",
    "\n",
    "# Save the enhanced dataset\n",
    "df.to_csv(base_data_clean_path + cleaned_data_name, index=False)"
   ]
  },
  {
   "cell_type": "markdown",
   "metadata": {},
   "source": []
  },
  {
   "cell_type": "markdown",
   "metadata": {},
   "source": [
    "##### Thông tin về dữ liệu thiếu:\n"
   ]
  },
  {
   "cell_type": "code",
   "execution_count": 1149,
   "metadata": {},
   "outputs": [
    {
     "name": "stdout",
     "output_type": "stream",
     "text": [
      "\n",
      "Thông tin về dữ liệu thiếu:\n"
     ]
    },
    {
     "data": {
      "application/vnd.microsoft.datawrangler.viewer.v0+json": {
       "columns": [
        {
         "name": "index",
         "rawType": "object",
         "type": "string"
        },
        {
         "name": "Số lượng giá trị thiếu",
         "rawType": "int64",
         "type": "integer"
        },
        {
         "name": "Phần trăm",
         "rawType": "float64",
         "type": "float"
        }
       ],
       "conversionMethod": "pd.DataFrame",
       "ref": "55f5e8bc-049f-4c12-8936-5dae96dcd820",
       "rows": [
        [
         "refresh_rate",
         "215",
         "17.67"
        ],
        [
         "battery_capacity",
         "29",
         "2.38"
        ],
        [
         "ram",
         "17",
         "1.4"
        ],
        [
         "screen_tech",
         "14",
         "1.15"
        ],
        [
         "screen_resolution",
         "12",
         "0.99"
        ],
        [
         "cpu",
         "4",
         "0.33"
        ],
        [
         "chipset",
         "4",
         "0.33"
        ],
        [
         "price",
         "2",
         "0.16"
        ],
        [
         "camera_main_resolution",
         "1",
         "0.08"
        ]
       ],
       "shape": {
        "columns": 2,
        "rows": 9
       }
      },
      "text/html": [
       "<div>\n",
       "<style scoped>\n",
       "    .dataframe tbody tr th:only-of-type {\n",
       "        vertical-align: middle;\n",
       "    }\n",
       "\n",
       "    .dataframe tbody tr th {\n",
       "        vertical-align: top;\n",
       "    }\n",
       "\n",
       "    .dataframe thead th {\n",
       "        text-align: right;\n",
       "    }\n",
       "</style>\n",
       "<table border=\"1\" class=\"dataframe\">\n",
       "  <thead>\n",
       "    <tr style=\"text-align: right;\">\n",
       "      <th></th>\n",
       "      <th>Số lượng giá trị thiếu</th>\n",
       "      <th>Phần trăm</th>\n",
       "    </tr>\n",
       "  </thead>\n",
       "  <tbody>\n",
       "    <tr>\n",
       "      <th>refresh_rate</th>\n",
       "      <td>215</td>\n",
       "      <td>17.67</td>\n",
       "    </tr>\n",
       "    <tr>\n",
       "      <th>battery_capacity</th>\n",
       "      <td>29</td>\n",
       "      <td>2.38</td>\n",
       "    </tr>\n",
       "    <tr>\n",
       "      <th>ram</th>\n",
       "      <td>17</td>\n",
       "      <td>1.40</td>\n",
       "    </tr>\n",
       "    <tr>\n",
       "      <th>screen_tech</th>\n",
       "      <td>14</td>\n",
       "      <td>1.15</td>\n",
       "    </tr>\n",
       "    <tr>\n",
       "      <th>screen_resolution</th>\n",
       "      <td>12</td>\n",
       "      <td>0.99</td>\n",
       "    </tr>\n",
       "    <tr>\n",
       "      <th>cpu</th>\n",
       "      <td>4</td>\n",
       "      <td>0.33</td>\n",
       "    </tr>\n",
       "    <tr>\n",
       "      <th>chipset</th>\n",
       "      <td>4</td>\n",
       "      <td>0.33</td>\n",
       "    </tr>\n",
       "    <tr>\n",
       "      <th>price</th>\n",
       "      <td>2</td>\n",
       "      <td>0.16</td>\n",
       "    </tr>\n",
       "    <tr>\n",
       "      <th>camera_main_resolution</th>\n",
       "      <td>1</td>\n",
       "      <td>0.08</td>\n",
       "    </tr>\n",
       "  </tbody>\n",
       "</table>\n",
       "</div>"
      ],
      "text/plain": [
       "                        Số lượng giá trị thiếu  Phần trăm\n",
       "refresh_rate                               215      17.67\n",
       "battery_capacity                            29       2.38\n",
       "ram                                         17       1.40\n",
       "screen_tech                                 14       1.15\n",
       "screen_resolution                           12       0.99\n",
       "cpu                                          4       0.33\n",
       "chipset                                      4       0.33\n",
       "price                                        2       0.16\n",
       "camera_main_resolution                       1       0.08"
      ]
     },
     "metadata": {},
     "output_type": "display_data"
    }
   ],
   "source": [
    "# Phân tích dữ liệu thiếu\n",
    "missing_values = df.isnull().sum()\n",
    "missing_percentage = (missing_values / len(df)) * 100\n",
    "missing_data = pd.DataFrame({\n",
    "    'Số lượng giá trị thiếu': missing_values,\n",
    "    'Phần trăm': missing_percentage.round(2)\n",
    "})\n",
    "\n",
    "# Hiển thị các cột có giá trị thiếu\n",
    "print(\"\\nThông tin về dữ liệu thiếu:\")\n",
    "display(missing_data[missing_data['Số lượng giá trị thiếu'] > 0].sort_values('Phần trăm', ascending=False))\n"
   ]
  },
  {
   "cell_type": "markdown",
   "metadata": {},
   "source": [
    "#### 1. RAM và Internal Memory (Bộ nhớ)\n"
   ]
  },
  {
   "cell_type": "markdown",
   "metadata": {},
   "source": [
    "Do dữ liêu ram bị miss tương đối ít nên em dùng cách: tạo phân khúc giá\n"
   ]
  },
  {
   "cell_type": "code",
   "execution_count": 1150,
   "metadata": {},
   "outputs": [
    {
     "name": "stderr",
     "output_type": "stream",
     "text": [
      "/tmp/ipykernel_10757/167578547.py:18: FutureWarning: The default of observed=False is deprecated and will be changed to True in a future version of pandas. Pass observed=False to retain current behavior or observed=True to adopt the future default and silence this warning.\n",
      "  df['ram'] = df.groupby('price_segment')['ram'].transform(\n",
      "/tmp/ipykernel_10757/167578547.py:22: FutureWarning: A value is trying to be set on a copy of a DataFrame or Series through chained assignment using an inplace method.\n",
      "The behavior will change in pandas 3.0. This inplace method will never work because the intermediate object on which we are setting values always behaves as a copy.\n",
      "\n",
      "For example, when doing 'df[col].method(value, inplace=True)', try using 'df.method({col: value}, inplace=True)' or df[col] = df[col].method(value) instead, to perform the operation inplace on the original object.\n",
      "\n",
      "\n",
      "  df['ram'].fillna(df['ram'].median(), inplace=True)\n"
     ]
    },
    {
     "data": {
      "image/png": "[encoded data removed]",
      "text/plain": [
       "<Figure size 1200x600 with 2 Axes>"
      ]
     },
     "metadata": {},
     "output_type": "display_data"
    },
    {
     "name": "stdout",
     "output_type": "stream",
     "text": [
      "Đã điền xong giá trị thiếu cho RAM.\n"
     ]
    }
   ],
   "source": [
    "import matplotlib.pyplot as plt\n",
    "import seaborn as sns\n",
    "\n",
    "# Vẽ biểu đồ trước khi điền dữ liệu trống\n",
    "plt.figure(figsize=(12, 6))\n",
    "plt.subplot(1, 2, 1)\n",
    "sns.histplot(df['ram'], kde=True, bins=20, color='blue')\n",
    "plt.title('Phân phối RAM trước khi điền dữ liệu trống')\n",
    "plt.xlabel('RAM (GB)')\n",
    "plt.ylabel('Tần suất')\n",
    "\n",
    "# Tạo nhóm lớn hơn dựa trên phân khúc giá hoặc đặc điểm kỹ thuật\n",
    "df['price_segment'] = pd.qcut(df['price'].fillna(df['price'].median()), \n",
    "                             q=3, \n",
    "                             labels=['Low', 'Medium', 'High'])\n",
    "\n",
    "# Điền giá trị RAM theo phân khúc giá thay vì theo brand\n",
    "df['ram'] = df.groupby('price_segment')['ram'].transform(\n",
    "    lambda x: x.fillna(x.median()) if x.count() >= 3 else x)\n",
    "\n",
    "# Nếu vẫn còn thiếu, điền bằng giá trị chung\n",
    "df['ram'].fillna(df['ram'].median(), inplace=True)\n",
    "\n",
    "# Vẽ biểu đồ sau khi điền dữ liệu trống\n",
    "plt.subplot(1, 2, 2)\n",
    "sns.histplot(df['ram'], kde=True, bins=20, color='green')\n",
    "plt.title('Phân phối RAM sau khi điền dữ liệu trống')\n",
    "plt.xlabel('RAM (GB)')\n",
    "plt.ylabel('Tần suất')\n",
    "\n",
    "# Hiển thị biểu đồ\n",
    "plt.tight_layout()\n",
    "plt.show()\n",
    "\n",
    "# Kiểm tra và thông báo\n",
    "if df['ram'].isnull().sum() == 0:\n",
    "    print(\"Đã điền xong giá trị thiếu cho RAM.\")\n",
    "\n",
    "# không lưu price_segment\n",
    "df.drop(columns=['price_segment'], inplace=True)\n",
    "\n",
    "# Lưu kết quả ra file CSV\n",
    "df.to_csv(base_data_clean_path + \"cleaned_data.csv\", index=False, encoding='utf-8-sig')"
   ]
  },
  {
   "cell_type": "markdown",
   "metadata": {},
   "source": [
    "#### 2. Xử lý dữ liệu thiếu trong cột giá\n"
   ]
  },
  {
   "cell_type": "code",
   "execution_count": 1151,
   "metadata": {},
   "outputs": [
    {
     "name": "stdout",
     "output_type": "stream",
     "text": [
      "Số sản phẩm thiếu giá: 2 (0.16%)\n",
      "Đã loại bỏ 2 dòng thiếu giá.\n"
     ]
    }
   ],
   "source": [
    "# Kiểm tra số lượng giá trị thiếu\n",
    "missing_price = df['price'].isna().sum()\n",
    "print(f\"Số sản phẩm thiếu giá: {missing_price} ({missing_price/len(df):.2%})\")\n",
    "\n",
    "# Loại bỏ các dòng thiếu giá nếu số lượng ít\n",
    "if missing_price/len(df) < 0.05:\n",
    "    df = df.dropna(subset=['price'])\n",
    "    print(f\"Đã loại bỏ {missing_price} dòng thiếu giá.\")\n"
   ]
  },
  {
   "cell_type": "markdown",
   "metadata": {},
   "source": [
    "### 3. Tốc độ làm mới màn hình\n"
   ]
  },
  {
   "cell_type": "markdown",
   "metadata": {},
   "source": [
    "Lý do chọn 60Hz để điền giá trị thiếu:\n",
    "\n",
    "1. 60Hz là tần số quét tiêu chuẩn trong ngành công nghiệp điện thoại di động\n",
    "2. Hầu hết các điện thoại không quảng cáo tần số quét đều mặc định là 60Hz\n",
    "3. Phân khúc phổ thông và trung cấp thường sử dụng màn hình 60Hz\n",
    "4. Đây là giá trị an toàn nhất để không tạo ra sai lệch về hiệu năng khi phân tích\n"
   ]
  },
  {
   "cell_type": "code",
   "execution_count": 1152,
   "metadata": {},
   "outputs": [
    {
     "name": "stdout",
     "output_type": "stream",
     "text": [
      "Phân bố refresh_rate trước khi điền:\n",
      "refresh_rate\n",
      "60.0      33\n",
      "90.0     176\n",
      "120.0    677\n",
      "144.0     94\n",
      "165.0     19\n",
      "180.0      1\n",
      "240.0      1\n",
      "Name: count, dtype: int64\n",
      "Tỷ lệ thiếu của refresh_rate: 17.61%\n",
      "Phân bố refresh_rate sau khi điền:\n",
      "refresh_rate\n",
      "60.0     247\n",
      "90.0     176\n",
      "120.0    677\n",
      "144.0     94\n",
      "165.0     19\n",
      "180.0      1\n",
      "240.0      1\n",
      "Name: count, dtype: int64\n"
     ]
    },
    {
     "name": "stderr",
     "output_type": "stream",
     "text": [
      "/tmp/ipykernel_10757/1454282712.py:12: FutureWarning: A value is trying to be set on a copy of a DataFrame or Series through chained assignment using an inplace method.\n",
      "The behavior will change in pandas 3.0. This inplace method will never work because the intermediate object on which we are setting values always behaves as a copy.\n",
      "\n",
      "For example, when doing 'df[col].method(value, inplace=True)', try using 'df.method({col: value}, inplace=True)' or df[col] = df[col].method(value) instead, to perform the operation inplace on the original object.\n",
      "\n",
      "\n",
      "  df['refresh_rate'].fillna(60, inplace=True)\n"
     ]
    },
    {
     "data": {
      "image/png": "[encoded data removed]",
      "text/plain": [
       "<Figure size 1400x500 with 2 Axes>"
      ]
     },
     "metadata": {},
     "output_type": "display_data"
    }
   ],
   "source": [
    "# Kiểm tra phân bố của refresh_rate trước khi điền\n",
    "import sys\n",
    "\n",
    "refresh_rate_counts = df['refresh_rate'].value_counts().sort_index()\n",
    "print(\"Phân bố refresh_rate trước khi điền:\")\n",
    "print(refresh_rate_counts)\n",
    "\n",
    "# Phân tích tỷ lệ thiếu\n",
    "missing_rate = df['refresh_rate'].isna().mean() * 100\n",
    "print(f\"Tỷ lệ thiếu của refresh_rate: {missing_rate:.2f}%\")\n",
    "\n",
    "df['refresh_rate'].fillna(60, inplace=True)\n",
    "\n",
    "# Kiểm tra phân bố sau khi điền\n",
    "refresh_rate_counts_after = df['refresh_rate'].value_counts().sort_index()\n",
    "print(\"Phân bố refresh_rate sau khi điền:\")\n",
    "print(refresh_rate_counts_after)\n",
    "\n",
    "# Tạo biểu đồ so sánh trước và sau khi điền\n",
    "if 'matplotlib' in sys.modules:\n",
    "    fig, ax = plt.subplots(1, 2, figsize=(14, 5))\n",
    "    \n",
    "    # Trước khi điền\n",
    "    ax[0].bar(refresh_rate_counts.index.astype(str), refresh_rate_counts.values)\n",
    "    ax[0].set_title('Phân bố refresh_rate trước khi điền')\n",
    "    ax[0].set_xlabel('Tần số quét (Hz)')\n",
    "    ax[0].set_ylabel('Số lượng thiết bị')\n",
    "    \n",
    "    # Sau khi điền\n",
    "    ax[1].bar(refresh_rate_counts_after.index.astype(str), refresh_rate_counts_after.values)\n",
    "    ax[1].set_title('Phân bố refresh_rate sau khi điền')\n",
    "    ax[1].set_xlabel('Tần số quét (Hz)')\n",
    "    ax[1].set_ylabel('Số lượng thiết bị')\n",
    "    \n",
    "    plt.tight_layout()\n",
    "    plt.show()"
   ]
  },
  {
   "cell_type": "markdown",
   "metadata": {},
   "source": [
    "Sau khi phân tích phân bố dữ liệu hiện có, tôi quyết định điền giá trị thiếu bằng 60Hz vì:\n",
    "\n",
    "-   60Hz là tần số quét tiêu chuẩn trong ngành công nghiệp điện thoại di động\n",
    "-   Các thiết bị không ghi rõ tần số quét thường mặc định là 60Hz\n",
    "\n",
    "Biểu đồ trước và sau khi điền cho thấy việc điền giá trị 60Hz không làm méo mó phân bố dữ liệu tổng thể.\n"
   ]
  },
  {
   "cell_type": "code",
   "execution_count": 1153,
   "metadata": {},
   "outputs": [
    {
     "name": "stdout",
     "output_type": "stream",
     "text": [
      "Đã điền xong giá trị thiếu cho refresh_rate.\n"
     ]
    }
   ],
   "source": [
    "# thêm 60hz vào các dòng thiếu\n",
    "df.loc[df['refresh_rate'].isna(), 'refresh_rate'] = 60\n",
    "\n",
    "if df[df['refresh_rate'].isna()].shape[0] == 0:\n",
    "    print(\"Đã điền xong giá trị thiếu cho refresh_rate.\")"
   ]
  },
  {
   "cell_type": "markdown",
   "metadata": {},
   "source": [
    "### 4. xử lý chipset missing\n",
    "\n",
    "-   do chỉ có 4 trường chipset thiếu. nên em sẽ thử tìm kiếm các loại đó ở trên mang và sau đó thêm vào\n"
   ]
  },
  {
   "cell_type": "code",
   "execution_count": 1154,
   "metadata": {},
   "outputs": [
    {
     "name": "stdout",
     "output_type": "stream",
     "text": [
      "Số lượng dòng thiếu chipset trước khi cập nhật: 4\n",
      "Đã cập nhật chipset cho Nubia Music NFC 4GB 128GB (Bản đặc biệt): Unisoc SC9863A\n",
      "Đã cập nhật chipset cho vivo Y03 4GB 128GB: Helio G85\n",
      "Đã cập nhật chipset cho Vivo Y28: Helio G85\n",
      "Đã cập nhật chipset cho Samsung Galaxy A51 6GB: Exynos 9611 8 nhân\n",
      "Số lượng dòng thiếu chipset sau khi cập nhật: 0\n",
      "Đã cập nhật được 4 dòng\n",
      "Đã cập nhật cpu cho Nubia Music NFC 4GB 128GB (Bản đặc biệt): Unisoc SC9863A\n",
      "Đã cập nhật cpu cho vivo Y03 4GB 128GB: Helio G85\n",
      "Đã cập nhật cpu cho Vivo Y28: Helio G85\n",
      "Đã cập nhật cpu cho Samsung Galaxy A51 6GB: Exynos 9611\n",
      "Số lượng dòng thiếu cpu sau khi cập nhật: 0\n"
     ]
    }
   ],
   "source": [
    "# Kiểm tra số lượng giá trị chipset thiếu trước khi cập nhật\n",
    "before_count = df['chipset'].isnull().sum()\n",
    "print(f\"Số lượng dòng thiếu chipset trước khi cập nhật: {before_count}\")\n",
    "\n",
    "# Dictionary chứa thông tin chipset cần cập nhật\n",
    "chipset_dict = {\n",
    "    \"Nubia Music NFC 4GB 128GB (Bản đặc biệt)\": \"Unisoc SC9863A\",\n",
    "    \"vivo Y03 4GB 128GB\": \"Helio G85\",\n",
    "    \"Vivo Y28\": \"Helio G85\",\n",
    "    \"Samsung Galaxy A51 6GB\": \"Exynos 9611 8 nhân\",\n",
    "}\n",
    "\n",
    "# Cập nhật chipset cho các dòng tương ứng\n",
    "for name, chip in chipset_dict.items():\n",
    "    # Tìm các dòng có name khớp và chipset đang là null\n",
    "    mask = (df['name'] == name) & (df['chipset'].isnull())\n",
    "    if mask.any():\n",
    "        df.loc[mask, 'chipset'] = chip\n",
    "        print(f\"Đã cập nhật chipset cho {name}: {chip}\")\n",
    "\n",
    "# Kiểm tra số lượng giá trị chipset thiếu sau khi cập nhật\n",
    "after_count = df['chipset'].isnull().sum()\n",
    "print(f\"Số lượng dòng thiếu chipset sau khi cập nhật: {after_count}\")\n",
    "print(f\"Đã cập nhật được {before_count - after_count} dòng\")\n",
    "\n",
    "# Hiển thị các dòng còn thiếu chipset (nếu có)\n",
    "remaining_null = df[df['chipset'].isnull()]\n",
    "if not remaining_null.empty:\n",
    "    print(\"\\nCác sản phẩm còn thiếu chipset:\")\n",
    "    print(remaining_null[['name', 'url', 'price']].head())\n",
    "    \n",
    "# cập nhật cpu\n",
    "cpu_dict = {\n",
    "    \"Nubia Music NFC 4GB 128GB (Bản đặc biệt)\": \"Unisoc SC9863A\",\n",
    "    \"vivo Y03 4GB 128GB\": \"Helio G85\",\n",
    "    \"Vivo Y28\": \"Helio G85\",\n",
    "    \"Samsung Galaxy A51 6GB\": \"Exynos 9611\",\n",
    "}\n",
    "\n",
    "# Cập nhật cpu cho các dòng tương ứng\n",
    "for name, cpu in cpu_dict.items():\n",
    "    # Tìm các dòng có name khớp và cpu đang là null\n",
    "    mask = (df['name'] == name) & (df['cpu'].isnull())\n",
    "    if mask.any():\n",
    "        df.loc[mask, 'cpu'] = cpu\n",
    "        print(f\"Đã cập nhật cpu cho {name}: {cpu}\")\n",
    "# Kiểm tra số lượng giá trị cpu thiếu sau khi cập nhật\n",
    "after_count = df['cpu'].isnull().sum()\n",
    "print(f\"Số lượng dòng thiếu cpu sau khi cập nhật: {after_count}\")\n",
    "    \n",
    "# Lưu lại file đã cập nhật\n",
    "df.to_csv(base_data_clean_path + cleaned_data_name, index=False, encoding='utf-8-sig')"
   ]
  },
  {
   "cell_type": "markdown",
   "metadata": {},
   "source": [

    "Tương tự với battery_capacity, screen_tech, screen_resolution, camera_main_resolution thì mình từ tìm dữ liệu bỏ vào vì dữ liêu miss tương đối ít, cao nhất chỉ 2.6%"
   ]
  },
  {
   "cell_type": "code",
   "execution_count": 1155,
   "metadata": {},
   "outputs": [
    {
     "name": "stdout",
     "output_type": "stream",
     "text": [
      "Số sản phẩm thiếu camera_main_resolution: 1 (0.08%)\n",
      "Các sản phẩm thiếu camera_main_resolution:\n",
      "                         name  \\\n",
      "87  TECNO SPARK 30C 4GB 128GB   \n",
      "\n",
      "                                                  url      price  \n",
      "87  https://cellphones.com.vn/dien-thoai-tecno-spa...  1990000.0  \n",
      "Đã cập nhật camera_main_resolution cho TECNO SPARK 30C 4GB 128GB: 50 MP\n"
     ]
    }
   ],
   "source": [
    "# camera_main_resolution\n",
    "# Kiểm tra số lượng giá trị thiếu\n",
    "missing_camera = df['camera_main_resolution'].isna().sum()\n",
    "print(f\"Số sản phẩm thiếu camera_main_resolution: {missing_camera} ({missing_camera/len(df):.2%})\")\n",
    "\n",
    "# in các dòng thiếu camera_main_resolution\n",
    "missing_camera_df = df[df['camera_main_resolution'].isna()]\n",
    "print(\"Các sản phẩm thiếu camera_main_resolution:\")\n",
    "print(missing_camera_df[['name', 'url', 'price']].head(10))\n",
    "\n",
    "# cập nh camera_main_resolution\n",
    "camera_dict = {\n",
    "    \"TECNO SPARK 30C 4GB 128GB\": 50,\n",
    "}\n",
    "\n",
    "# Cập nhật camera_main_resolution cho các dòng tương ứng\n",
    "for name, cam in camera_dict.items():\n",
    "    # Tìm các dòng có name khớp và camera_main_resolution đang là null\n",
    "    mask = (df['name'] == name) & (df['camera_main_resolution'].isnull())\n",
    "    if mask.any():\n",
    "        df.loc[mask, 'camera_main_resolution'] = cam\n",
    "        print(f\"Đã cập nhật camera_main_resolution cho {name}: {cam} MP\")\n",
    "        \n"
   ]
  },
  {
   "cell_type": "code",
   "execution_count": 1156,
   "metadata": {},
   "outputs": [
    {
     "name": "stdout",
     "output_type": "stream",
     "text": [
      "Số sản phẩm thiếu screen_resolution: 12 (0.99%)\n",
      "Các sản phẩm thiếu screen_resolution:\n",
      "Đã cập nhật screen_resolution cho Itel P55 Plus 8GB 128GB: 720 x 1612\n",
      "Đã cập nhật screen_resolution cho Nubia Neo 3 4G 8GB 128GB: 1080 x 2400\n",
      "Đã cập nhật screen_resolution cho OPPO Reno12 5G 12GB 256GB: 1080 x 2412\n",
      "Đã cập nhật screen_resolution cho OPPO Reno12 F 5G 8GB 256GB: 1080 x 2412\n",
      "Đã cập nhật screen_resolution cho realme C65 8GB 128GB: 720 x 1604\n",
      "Đã cập nhật screen_resolution cho realme C65 8GB 256GB: 720 x 1604\n",
      "Đã cập nhật screen_resolution cho realme Note 60x 3GB 64GB: 720 x 1600\n",
      "Đã cập nhật screen_resolution cho Sony Xperia 1VI 12GB 256GB: 1080 x 2340\n",
      "Đã cập nhật screen_resolution cho Sony Xperia 10VI 8GB 128GB: 1080 x 2520\n",
      "Đã cập nhật screen_resolution cho TECNO SPARK 30 Pro 8GB 256GB Transformer - Chỉ có tại CellphoneS: 2436 x 1080\n",
      "Đã cập nhật screen_resolution cho TECNO SPARK Go 1 4GB 64GB - Đã kích hoạt: 720 x 1600\n",
      "Đã cập nhật screen_resolution cho TECNO SPARK Go 1 4GB 64GB: 720 x 1600\n",
      "Số lượng dòng thiếu screen_resolution sau khi cập nhật: 0\n"
     ]
    }
   ],
   "source": [
    "# screen_resolution \n",
    "# Kiểm tra số lượng giá trị thiếu\n",
    "missing_screen = df['screen_resolution'].isna().sum()\n",
    "print(f\"Số sản phẩm thiếu screen_resolution: {missing_screen} ({missing_screen/len(df):.2%})\")\n",
    "# in các dòng thiếu screen_resolution\n",
    "missing_screen_df = df[df['screen_resolution'].isna()]\n",
    "print(\"Các sản phẩm thiếu screen_resolution:\")\n",
    "# cập nhật screen_resolution\n",
    "\n",
    "screen_dict = {\n",
    "    \"Itel P55 Plus 8GB 128GB\": \"720 x 1612\",\n",
    "    \"Nubia Neo 3 4G 8GB 128GB\": \"1080 x 2400\",\n",
    "    \"OPPO Reno12 5G 12GB 256GB\": \"1080 x 2412\",\n",
    "    \"OPPO Reno12 F 5G 8GB 256GB\": \"1080 x 2412\",\n",
    "    \"realme C65 8GB 128GB\": \"720 x 1604\",\n",
    "    \"realme C65 8GB 256GB\": \"720 x 1604\",\n",
    "    \"realme Note 60x 3GB 64GB\": \"720 x 1600\",\n",
    "    \"Sony Xperia 1VI 12GB 256GB\": \"1080 x 2340\",\n",
    "    \"Sony Xperia 10VI 8GB 128GB\": \"1080 x 2520\",\n",
    "    \"TECNO SPARK 30 Pro 8GB 256GB Transformer - Chỉ có tại CellphoneS\": \"2436 x 1080\",\n",
    "    \"TECNO SPARK Go 1 4GB 64GB - Đã kích hoạt\": \"720 x 1600\",\n",
    "    \"TECNO SPARK Go 1 4GB 64GB\": \"720 x 1600\",\n",
    "    \"Realme C51\": \"720 x 1600\",\n",
    "}\n",
    "\n",
    "# Cập nhật screen_resolution cho các dòng tương ứng\n",
    "for name, screen in screen_dict.items():\n",
    "    # Tìm các dòng có name khớp và screen_resolution đang là null\n",
    "    mask = (df['name'] == name) & (df['screen_resolution'].isnull())\n",
    "    if mask.any():\n",
    "        df.loc[mask, 'screen_resolution'] = screen\n",
    "        print(f\"Đã cập nhật screen_resolution cho {name}: {screen}\")\n",
    "        \n",
    "\n",
    "# Kiểm tra số lượng giá trị screen_resolution thiếu sau khi cập nhật\n",
    "after_count = df['screen_resolution'].isnull().sum()\n",
    "print(f\"Số lượng dòng thiếu screen_resolution sau khi cập nhật: {after_count}\")\n",
    "\n",
    "\n"
   ]
  },
  {
   "cell_type": "code",
   "execution_count": 1157,
   "metadata": {},
   "outputs": [
    {
     "name": "stdout",
     "output_type": "stream",
     "text": [
      "Số sản phẩm thiếu screen_tech: 14 (1.15%)\n",
      "Các sản phẩm thiếu screen_tech:\n",
      "                                   name  \\\n",
      "25               Benco S1 Pro 8GB 256GB   \n",
      "30             Infinix Hot 50 8GB 256GB   \n",
      "32              Itel P55 Plus 8GB 128GB   \n",
      "42             Nubia Neo 3 4G 8GB 128GB   \n",
      "43           Nubia V60 Design 6GB 256GB   \n",
      "87            TECNO SPARK 30C 4GB 128GB   \n",
      "103           Xiaomi Redmi A3 4GB 128GB   \n",
      "109  Điện thoại ZTE Blade A55 4GB 128GB   \n",
      "110   Điện thoại ZTE Blade A55 4GB 64GB   \n",
      "358                  OPPO A58 8GB 128GB   \n",
      "362                         OPPO A98 5G   \n",
      "856      Vivo V29 5G (Snapdragon 778G+)   \n",
      "916                        Vsmart Bee 5   \n",
      "941                   Redmi A2 3GB 32GB   \n",
      "\n",
      "                                                   url       price  \n",
      "25   https://cellphones.com.vn/dien-thoai-benco-s1-...   4290000.0  \n",
      "30   https://cellphones.com.vn/dien-thoai-infinix-h...   3790000.0  \n",
      "32   https://cellphones.com.vn/dien-thoai-itel-p55-...   2790000.0  \n",
      "42   https://cellphones.com.vn/dien-thoai-nubia-neo...   3990000.0  \n",
      "43   https://cellphones.com.vn/dien-thoai-nubia-v60...   2690000.0  \n",
      "87   https://cellphones.com.vn/dien-thoai-tecno-spa...   1990000.0  \n",
      "103  https://cellphones.com.vn/dien-thoai-xiaomi-re...   2390000.0  \n",
      "109  https://cellphones.com.vn/dien-thoai-zte-blade...   2190000.0  \n",
      "110  https://cellphones.com.vn/dien-thoai-zte-blade...   1990000.0  \n",
      "358  https://cellphones.com.vn/oppo-a58-8gb-128gb.html   4790000.0  \n",
      "362         https://cellphones.com.vn/oppo-a98-5g.html   5790000.0  \n",
      "856  https://mobilecity.vn/dien-thoai/vivo-v29-5g-s...  12550000.0  \n",
      "916        https://cellphones.com.vn/vsmart-bee-5.html   1590000.0  \n",
      "941  https://cellphones.com.vn/xiaomi-redmi-a2-3gb-...   2190000.0  \n",
      "Đã cập nhật screen_tech cho Benco S1 Pro 8GB 256GB: IPS LCD\n",
      "Đã cập nhật screen_tech cho Infinix Hot 50 8GB 256GB: IPS LCD\n",
      "Đã cập nhật screen_tech cho Itel P55 Plus 8GB 128GB: IPS LCD\n",
      "Đã cập nhật screen_tech cho Nubia Neo 3 4G 8GB 128GB: IPS LCD\n",
      "Đã cập nhật screen_tech cho Nubia V60 Design 6GB 256GB: IPS LCD\n",
      "Đã cập nhật screen_tech cho TECNO SPARK 30C 4GB 128GB: IPS LCD\n",
      "Đã cập nhật screen_tech cho Xiaomi Redmi A3 4GB 128GB: IPS LCD\n",
      "Đã cập nhật screen_tech cho Điện thoại ZTE Blade A55 4GB 128GB: IPS LCD\n",
      "Đã cập nhật screen_tech cho Điện thoại ZTE Blade A55 4GB 64GB: IPS LCD\n",
      "Đã cập nhật screen_tech cho OPPO A58 8GB 128GB: LTPS LCD\n",
      "Đã cập nhật screen_tech cho OPPO A98 5G: IPS LCD\n",
      "Đã cập nhật screen_tech cho Vivo V29 5G (Snapdragon 778G+): AMOLED\n",
      "Đã cập nhật screen_tech cho Vsmart Bee 5: IPS LCD\n",
      "Đã cập nhật screen_tech cho Redmi A2 3GB 32GB: IPS LCD\n",
      "Số lượng dòng thiếu screen_tech sau khi cập nhật: 0\n"
     ]
    }
   ],
   "source": [
    "# screen_tech\n",
    "# Kiểm tra số lượng giá trị thiếu\n",
    "missing_screen_tech = df['screen_tech'].isna().sum()\n",
    "print(f\"Số sản phẩm thiếu screen_tech: {missing_screen_tech} ({missing_screen_tech/len(df):.2%})\")\n",
    "# in các dòng thiếu screen_tech\n",
    "\n",
    "missing_screen_tech_df = df[df['screen_tech'].isna()]\n",
    "print(\"Các sản phẩm thiếu screen_tech:\")\n",
    "print(missing_screen_tech_df[['name', 'url', 'price']].head(20))\n",
    "# cập nhật screen_tech\n",
    "\n",
    "screen_tech_dict = {\n",
    "    \"Benco S1 Pro 8GB 256GB\": \"IPS LCD\",\n",
    "    \"Infinix Hot 50 8GB 256GB\": \"IPS LCD\",\n",
    "    \"Itel P55 Plus 8GB 128GB\": \"IPS LCD\",\n",
    "    \"Nubia Neo 3 4G 8GB 128GB\": \"IPS LCD\",\n",
    "    \"Nubia V60 Design 6GB 256GB\": \"IPS LCD\",\n",
    "    \"TECNO SPARK 30C 4GB 128GB\": \"IPS LCD\",\n",
    "    \"Xiaomi Redmi A3 4GB 128GB\": \"IPS LCD\",\n",
    "    \"Điện thoại ZTE Blade A55 4GB 128GB\": \"IPS LCD\",\n",
    "    \"Điện thoại ZTE Blade A55 4GB 64GB\": \"IPS LCD\",\n",
    "    \"OPPO A58 8GB 128GB\": \"LTPS LCD\",\n",
    "    \"OPPO A98 5G\": \"IPS LCD\",\n",
    "    \"Vivo V29 5G (Snapdragon 778G+)\": \"AMOLED\",\n",
    "    \"Vsmart Bee 5\": \"IPS LCD\",\n",
    "    \"Redmi A2 3GB 32GB\": \"IPS LCD\",\n",
    "}\n",
    "\n",
    "for name, screen_tech in screen_tech_dict.items():\n",
    "    # Tìm các dòng có name khớp và screen_tech đang là null\n",
    "    mask = (df['name'] == name) & (df['screen_tech'].isnull())\n",
    "    if mask.any():\n",
    "        df.loc[mask, 'screen_tech'] = screen_tech\n",
    "        print(f\"Đã cập nhật screen_tech cho {name}: {screen_tech}\")\n",
    "        \n",
    "# Kiểm tra số lượng giá trị screen_tech thiếu sau khi cập nhật\n",
    "after_count = df['screen_tech'].isnull().sum()\n",
    "print(f\"Số lượng dòng thiếu screen_tech sau khi cập nhật: {after_count}\")\n"
   ]
  },
  {
   "cell_type": "code",
   "execution_count": 1158,
   "metadata": {},
   "outputs": [
    {
     "name": "stdout",
     "output_type": "stream",
     "text": [
      "Số sản phẩm thiếu battery_capacity: 29 (2.39%)\n",
      "Các sản phẩm thiếu battery_capacity:\n",
      "                                          name  \\\n",
      "185          iPhone 12 128GB | Chính hãng VN/A   \n",
      "186  iPhone 12 Pro Max 256GB I Chính hãng VN/A   \n",
      "187  iPhone 12 Pro Max 128GB I Chính hãng VN/A   \n",
      "188      iPhone 12 Pro 128GB I Chính hãng VN/A   \n",
      "189           iPhone 12 64GB | Chính hãng VN/A   \n",
      "211          iPhone 16 256GB | Chính hãng VN/A   \n",
      "212     iPhone 16 Plus 256GB | Chính hãng VN/A   \n",
      "213     iPhone 16 Plus 512GB | Chính hãng VN/A   \n",
      "214     iPhone 16 Plus 128GB | Chính hãng VN/A   \n",
      "215        iPhone 16 Pro 1TB | Chính hãng VN/A   \n",
      "216      iPhone 16 Pro 256GB | Chính hãng VN/A   \n",
      "217      iPhone 16 Pro 512GB | Chính hãng VN/A   \n",
      "218    iPhone 16 Pro Max 1TB | Chính hãng VN/A   \n",
      "219  iPhone 16 Pro Max 512GB | Chính hãng VN/A   \n",
      "220  iPhone 16 Pro Max 256GB | Chính hãng VN/A   \n",
      "221      iPhone 16 Pro 128GB | Chính hãng VN/A   \n",
      "222          iPhone 16 128GB | Chính hãng VN/A   \n",
      "223         iPhone 16e 256GB | Chính hãng VN/A   \n",
      "224         iPhone 16e 512GB | Chính hãng VN/A   \n",
      "225         iPhone 16e 128GB | Chính hãng VN/A   \n",
      "230                  iPhone 14 Chính hãng VN/A   \n",
      "232                  iPhone 15 Chính hãng VN/A   \n",
      "233             iPhone 15 Plus Chính hãng VN/A   \n",
      "234              iPhone 15 Pro Chính hãng VN/A   \n",
      "235          iPhone 15 Pro Max Chính hãng VN/A   \n",
      "238             iPhone 16 Plus Chính hãng VN/A   \n",
      "240          iPhone 16 Pro Max Chính hãng VN/A   \n",
      "242                  iPhone SE 4 (Camera 48MP)   \n",
      "279                              Nokia X7 2018   \n",
      "\n",
      "                                                   url       price  \n",
      "185     https://cellphones.com.vn/iphone-12-128gb.html   9990000.0  \n",
      "186  https://cellphones.com.vn/iphone-12-pro-max-25...  27590000.0  \n",
      "187   https://cellphones.com.vn/iphone-12-pro-max.html  23490000.0  \n",
      "188       https://cellphones.com.vn/iphone-12-pro.html  24990000.0  \n",
      "189           https://cellphones.com.vn/iphone-12.html   7990000.0  \n",
      "211     https://cellphones.com.vn/iphone-16-256gb.html  22490000.0  \n",
      "212  https://cellphones.com.vn/iphone-16-plus-256gb...  25890000.0  \n",
      "213  https://cellphones.com.vn/iphone-16-plus-512gb...  29490000.0  \n",
      "214      https://cellphones.com.vn/iphone-16-plus.html  22490000.0  \n",
      "215   https://cellphones.com.vn/iphone-16-pro-1tb.html  39990000.0  \n",
      "216  https://cellphones.com.vn/iphone-16-pro-256gb....  28590000.0  \n",
      "217  https://cellphones.com.vn/iphone-16-pro-512gb....  34690000.0  \n",
      "218  https://cellphones.com.vn/iphone-16-pro-max-1t...  42990000.0  \n",
      "219  https://cellphones.com.vn/iphone-16-pro-max-51...  37490000.0  \n",
      "220   https://cellphones.com.vn/iphone-16-pro-max.html  30990000.0  \n",
      "221       https://cellphones.com.vn/iphone-16-pro.html  25290000.0  \n",
      "222           https://cellphones.com.vn/iphone-16.html  19190000.0  \n",
      "223    https://cellphones.com.vn/iphone-16e-256gb.html  19390000.0  \n",
      "224    https://cellphones.com.vn/iphone-16e-512gb.html  25490000.0  \n",
      "225          https://cellphones.com.vn/iphone-16e.html  16290000.0  \n",
      "230    https://mobilecity.vn/dien-thoai/iphone-14.html  21450000.0  \n",
      "232  https://mobilecity.vn/dien-thoai/iphone-15-chi...  18650000.0  \n",
      "233  https://mobilecity.vn/dien-thoai/iphone-15-plu...  22350000.0  \n",
      "234  https://mobilecity.vn/dien-thoai/iphone-15-pro...  28999000.0  \n",
      "235  https://mobilecity.vn/dien-thoai/iphone-15-pro...  25450000.0  \n",
      "238  https://mobilecity.vn/dien-thoai/iphone-16-plu...  24950000.0  \n",
      "240  https://mobilecity.vn/dien-thoai/iphone-16-pro...  34800000.0  \n",
      "242  https://mobilecity.vn/dien-thoai/iphone-se-4.html  12950000.0  \n",
      "279          https://mobilecity.vn/nokia/nokia-x7.html   5450000.0  \n",
      "Đã cập nhật battery_capacity cho iPhone 12 128GB | Chính hãng VN/A: 2815 mAh\n",
      "Đã cập nhật battery_capacity cho iPhone 12 Pro Max 256GB I Chính hãng VN/A: 3687 mAh\n",
      "Đã cập nhật battery_capacity cho iPhone 12 Pro Max 128GB I Chính hãng VN/A: 3687 mAh\n",
      "Đã cập nhật battery_capacity cho iPhone 12 Pro 128GB I Chính hãng VN/A: 2815 mAh\n",
      "Đã cập nhật battery_capacity cho iPhone 12 64GB | Chính hãng VN/A: 2815 mAh\n",
      "Đã cập nhật battery_capacity cho iPhone 16 256GB | Chính hãng VN/A: 3274 mAh\n",
      "Đã cập nhật battery_capacity cho iPhone 16 Plus 256GB | Chính hãng VN/A: 4325 mAh\n",
      "Đã cập nhật battery_capacity cho iPhone 16 Plus 512GB | Chính hãng VN/A: 4325 mAh\n",
      "Đã cập nhật battery_capacity cho iPhone 16 Plus 128GB | Chính hãng VN/A: 4325 mAh\n",
      "Đã cập nhật battery_capacity cho iPhone 16 Pro 1TB | Chính hãng VN/A: 3274 mAh\n",
      "Đã cập nhật battery_capacity cho iPhone 16 Pro Max 1TB | Chính hãng VN/A: 4325 mAh\n",
      "Đã cập nhật battery_capacity cho iPhone 16 Pro 256GB | Chính hãng VN/A: 3274 mAh\n",
      "Đã cập nhật battery_capacity cho iPhone 16 Pro Max 512GB | Chính hãng VN/A: 4325 mAh\n",
      "Đã cập nhật battery_capacity cho iPhone 16 Pro Max 256GB | Chính hãng VN/A: 4325 mAh\n",
      "Đã cập nhật battery_capacity cho iPhone 16 Pro 128GB | Chính hãng VN/A: 3274 mAh\n",
      "Đã cập nhật battery_capacity cho iPhone 16 128GB | Chính hãng VN/A: 3274 mAh\n",
      "Đã cập nhật battery_capacity cho iPhone 16e 256GB | Chính hãng VN/A: 4325 mAh\n",
      "Đã cập nhật battery_capacity cho iPhone 16e 512GB | Chính hãng VN/A: 4325 mAh\n",
      "Đã cập nhật battery_capacity cho iPhone 14 Chính hãng VN/A: 3274 mAh\n",
      "Đã cập nhật battery_capacity cho iPhone 15 Chính hãng VN/A: 3274 mAh\n",
      "Đã cập nhật battery_capacity cho iPhone 15 Plus Chính hãng VN/A: 4325 mAh\n",
      "Đã cập nhật battery_capacity cho iPhone 15 Pro Chính hãng VN/A: 3274 mAh\n",
      "Đã cập nhật battery_capacity cho iPhone 15 Pro Max Chính hãng VN/A: 4325 mAh\n",
      "Đã cập nhật battery_capacity cho iPhone 16 Plus Chính hãng VN/A: 4325 mAh\n",
      "Đã cập nhật battery_capacity cho iPhone 16 Pro Max Chính hãng VN/A: 4325 mAh\n",
      "Đã cập nhật battery_capacity cho iPhone SE 4 (Camera 48MP): 3274 mAh\n",
      "Đã cập nhật battery_capacity cho Nokia X7 2018: 3500 mAh\n",
      "Đã cập nhật battery_capacity cho iPhone 16 Pro 512GB | Chính hãng VN/A: 4325 mAh\n",
      "Đã cập nhật battery_capacity cho iPhone 16e 128GB | Chính hãng VN/A: 3274 mAh\n",
      "Số lượng dòng thiếu battery_capacity sau khi cập nhật: 0\n"
     ]
    }
   ],
   "source": [
    "# battery_capacity\n",
    "# Kiểm tra số lượng giá trị thiếu\n",
    "missing_battery = df['battery_capacity'].isna().sum()\n",
    "print(f\"Số sản phẩm thiếu battery_capacity: {missing_battery} ({missing_battery/len(df):.2%})\")\n",
    "# in các dòng thiếu battery_capacity\n",
    "missing_battery_df = df[df['battery_capacity'].isna()]\n",
    "print(\"Các sản phẩm thiếu battery_capacity:\")\n",
    "print(missing_battery_df[['name', 'url', 'price']].head(30))\n",
    "# cập nhật battery_capacity\n",
    "\n",
    "\n",
    "battery_dict = {\n",
    "    \"iPhone 12 128GB | Chính hãng VN/A\": 2815,\n",
    "    \"iPhone 12 Pro Max 256GB I Chính hãng VN/A\": 3687,\n",
    "    \"iPhone 12 Pro Max 128GB I Chính hãng VN/A\": 3687,\n",
    "    \"iPhone 12 Pro 128GB I Chính hãng VN/A\": 2815,\n",
    "    \"iPhone 12 64GB | Chính hãng VN/A\": 2815,\n",
    "    \"iPhone 16 256GB | Chính hãng VN/A\": 3274,\n",
    "    \"iPhone 16 Plus 256GB | Chính hãng VN/A\": 4325,\n",
    "    \"iPhone 16 Plus 512GB | Chính hãng VN/A\": 4325,\n",
    "    \"iPhone 16 Plus 128GB | Chính hãng VN/A\": 4325,\n",
    "    \"iPhone 16 Pro 1TB | Chính hãng VN/A\": 3274,\n",
    "    \"iPhone 16 Pro Max 1TB | Chính hãng VN/A\": 4325,\n",
    "    \"iPhone 16 Pro 256GB | Chính hãng VN/A\": 3274,\n",
    "    \"iPhone 16 Pro Max 512GB | Chính hãng VN/A\": 4325,\n",
    "    \"iPhone 16 Pro Max 256GB | Chính hãng VN/A\": 4325,\n",
    "    \"iPhone 16 Pro 128GB | Chính hãng VN/A\": 3274,\n",
    "    \"iPhone 16 128GB | Chính hãng VN/A\": 3274,\n",
    "    \"iPhone 16e 256GB | Chính hãng VN/A\": 4325,\n",
    "    \"iPhone 16e 512GB | Chính hãng VN/A\": 4325,\n",
    "    \"iPhone 14 Chính hãng VN/A\": 3274,\n",
    "    \"iPhone 15 Chính hãng VN/A\": 3274,\n",
    "    \"iPhone 15 Plus Chính hãng VN/A\": 4325,\n",
    "    \"iPhone 15 Pro Chính hãng VN/A\": 3274,\n",
    "    \"iPhone 15 Pro Max Chính hãng VN/A\": 4325,\n",
    "    \"iPhone 16 Plus Chính hãng VN/A\": 4325,\n",
    "    \"iPhone 16 Pro Max Chính hãng VN/A\": 4325,\n",
    "    \"iPhone SE 4 (Camera 48MP)\": 3274,\n",
    "    \"Nokia X7 2018\": 3500,\n",
    "    \"iPhone 16 Pro 512GB | Chính hãng VN/A\": 4325,\n",
    "    \"iPhone 16e 128GB | Chính hãng VN/A\": 3274,\n",
    "}\n",
    "\n",
    "# Cập nhật battery_capacity cho các dòng tương ứng\n",
    "for name, battery in battery_dict.items():\n",
    "    # Tìm các dòng có name khớp và battery_capacity đang là null\n",
    "    mask = (df['name'] == name) & (df['battery_capacity'].isnull())\n",
    "    if mask.any():\n",
    "        df.loc[mask, 'battery_capacity'] = battery\n",
    "        print(f\"Đã cập nhật battery_capacity cho {name}: {battery} mAh\")\n",
    "        \n",
    "# Kiểm tra số lượng giá trị battery_capacity thiếu sau khi cập nhật\n",
    "after_count = df['battery_capacity'].isnull().sum()\n",
    "print(f\"Số lượng dòng thiếu battery_capacity sau khi cập nhật: {after_count}\")\n",
    "\n"
   ]
  },
  {
   "cell_type": "code",
   "execution_count": 1159,
   "metadata": {},
   "outputs": [
    {
     "name": "stdout",
     "output_type": "stream",
     "text": [
      "\n",
      "Thông tin về dữ liệu thiếu:\n"
     ]
    },
    {
     "data": {
      "application/vnd.microsoft.datawrangler.viewer.v0+json": {
       "columns": [
        {
         "name": "index",
         "rawType": "object",
         "type": "string"
        },
        {
         "name": "Số lượng giá trị thiếu",
         "rawType": "int64",
         "type": "integer"
        },
        {
         "name": "Phần trăm",
         "rawType": "float64",
         "type": "float"
        }
       ],
       "conversionMethod": "pd.DataFrame",
       "ref": "5ba019fb-aa37-43b1-a365-942ea103f77c",
       "rows": [],
       "shape": {
        "columns": 2,
        "rows": 0
       }
      },
      "text/html": [
       "<div>\n",
       "<style scoped>\n",
       "    .dataframe tbody tr th:only-of-type {\n",
       "        vertical-align: middle;\n",
       "    }\n",
       "\n",
       "    .dataframe tbody tr th {\n",
       "        vertical-align: top;\n",
       "    }\n",
       "\n",
       "    .dataframe thead th {\n",
       "        text-align: right;\n",
       "    }\n",
       "</style>\n",
       "<table border=\"1\" class=\"dataframe\">\n",
       "  <thead>\n",
       "    <tr style=\"text-align: right;\">\n",
       "      <th></th>\n",
       "      <th>Số lượng giá trị thiếu</th>\n",
       "      <th>Phần trăm</th>\n",
       "    </tr>\n",
       "  </thead>\n",
       "  <tbody>\n",
       "  </tbody>\n",
       "</table>\n",
       "</div>"
      ],
      "text/plain": [
       "Empty DataFrame\n",
       "Columns: [Số lượng giá trị thiếu, Phần trăm]\n",
       "Index: []"
      ]
     },
     "metadata": {},
     "output_type": "display_data"
    }
   ],
   "source": [
    "# Phân tích dữ liệu thiếu\n",
    "missing_values = df.isnull().sum()\n",
    "missing_percentage = (missing_values / len(df)) * 100\n",
    "missing_data = pd.DataFrame({\n",
    "    'Số lượng giá trị thiếu': missing_values,\n",
    "    'Phần trăm': missing_percentage.round(2)\n",
    "})\n",
    "\n",
    "# Hiển thị các cột có giá trị thiếu\n",
    "print(\"\\nThông tin về dữ liệu thiếu:\")\n",
    "display(missing_data[missing_data['Số lượng giá trị thiếu'] > 0].sort_values('Phần trăm', ascending=False))\n"
   ]
  },
  {
   "cell_type": "markdown",
   "metadata": {},
   "source": [
    "## Cleaning\n"
   ]
  },
  {
   "cell_type": "markdown",
   "metadata": {},
   "source": [
    "### Loại bỏ các kí tự đặc biệt và trống trong chipset và name\n"
   ]
  },
  {
   "cell_type": "code",
   "execution_count": 1160,
   "metadata": {},
   "outputs": [
    {
     "name": "stdout",
     "output_type": "stream",
     "text": [
      "\n",
      "Mẫu dữ liệu SAU khi làm sạch cải tiến:\n",
      "Name gốc: 'Tecno POVA 6 Neo (Helio G99 Ultimate, Pin 7000mAh)'\n",
      "Name đã làm sạch: 'Tecno POVA 6 Neo'\n",
      "Chipset gốc: 'Mediatek Helio G99 Ultimate (6nm) | 8 nhân (2x2.2 GHz & 6x2.0 GHz) | GPU: Mali-G57 MC2'\n",
      "Chipset đã làm sạch: 'Mediatek Helio G99 Ultimate 8 nhân GPU MaliG57 MC2'\n",
      "\n",
      "Name gốc: 'Vivo iQOO Neo 11 Pro (Dimensity 9500)'\n",
      "Name đã làm sạch: 'Vivo iQOO Neo 11 Pro'\n",
      "Chipset gốc: 'Dimensity 9500 (3 nm) | 8 nhân | (dự kiến)'\n",
      "Chipset đã làm sạch: 'Dimensity 9500 8 nhân'\n",
      "\n",
      "Name gốc: 'Nubia V60 Design 6GB 256GB'\n",
      "Name đã làm sạch: 'Nubia V60 Design 6GB 256GB'\n",
      "Chipset gốc: 'Unisoc T606'\n",
      "Chipset đã làm sạch: 'Unisoc T606'\n",
      "\n",
      "Name gốc: 'Honor Magic Vs ( gập - Snap 8+ Gen 1)'\n",
      "Name đã làm sạch: 'Honor Magic Vs'\n",
      "Chipset gốc: 'Qualcomm SM8475 Snapdragon 8+ Gen 1 (4 nm) | 8 nhân (1x3.19 GHz & 3x2.75 GHz & 4x1.80 GHz) | GPU: Adreno 730'\n",
      "Chipset đã làm sạch: 'Qualcomm SM8475 Snapdragon 8 Gen 1 8 nhân GPU Adreno 730'\n",
      "\n",
      "Name gốc: 'Realme GT5 Pro 5G (Snapdragon 8 Gen 3)'\n",
      "Name đã làm sạch: 'Realme GT5 Pro 5G'\n",
      "Chipset gốc: 'Qualcomm SM8650-AB Snapdragon 8 Gen 3 (4 nm) | 8 nhân (1x3.3 GHz & 5x3.2 GHz & 2x2.3 GHz) | GPU: Adreno 750'\n",
      "Chipset đã làm sạch: 'Qualcomm SM8650AB Snapdragon 8 Gen 3 8 nhân GPU Adreno 750'\n",
      "\n",
      "\n",
      "Kiểm tra Zenfone trong DataFrame:\n",
      "Name gốc: 'Asus Zenfone 10 5G (Snapdragon 8 Gen 2)'\n",
      "Name đã làm sạch: 'Asus Zenfone 10 5G'\n",
      "\n",
      "Name gốc: 'Asus Zenfone 11 Ultra 5G (Snapdragon 8 Gen 3)'\n",
      "Name đã làm sạch: 'Asus Zenfone 11 Ultra 5G'\n",
      "\n",
      "DataFrame đã được lưu thành công.\n"
     ]
    }
   ],
   "source": [
    "import re\n",
    "import numpy as np\n",
    "import pandas as pd\n",
    "\n",
    "# Hàm làm sạch chuỗi tên\n",
    "def clean_name(text):\n",
    "    if not isinstance(text, str):\n",
    "        return text\n",
    "    \n",
    "    # Xóa nội dung trong ngoặc đơn\n",
    "    cleaned = re.sub(r'\\([^)]*\\)', '', text)\n",
    "    cleaned = re.sub(r'\\[[^\\]]*\\]', '', cleaned)\n",
    "    \n",
    "    # Chuẩn hóa khoảng trắng\n",
    "    cleaned = re.sub(r'\\s+', ' ', cleaned)\n",
    "    cleaned = cleaned.strip()\n",
    "    \n",
    "    return cleaned\n",
    "\n",
    "# Hàm làm sạch chipset - bảo toàn thông tin quan trọng\n",
    "def clean_chipset(text):\n",
    "    if not isinstance(text, str):\n",
    "        return text\n",
    "    \n",
    "    # Xóa các phần không quan trọng nhưng giữ thông tin chính về chipset\n",
    "    cleaned = re.sub(r'\\([^)]*\\)', '', text)\n",
    "    cleaned = re.sub(r'[^\\w\\s]', '', cleaned)\n",
    "    cleaned = re.sub(r'\\s+', ' ', cleaned)\n",
    "    cleaned = cleaned.strip()\n",
    "    \n",
    "    return cleaned\n",
    "\n",
    "# Điền giá trị NaN trước khi làm sạch\n",
    "df['name'] = df['name'].fillna(\"\")\n",
    "df['chipset'] = df['chipset'].fillna(\"\")\n",
    "\n",
    "# Áp dụng hàm làm sạch riêng biệt cho từng cột\n",
    "if 'name' in df.columns:\n",
    "    df['name_clean'] = df['name'].apply(clean_name)\n",
    "if 'chipset' in df.columns:\n",
    "    df['chipset_clean'] = df['chipset'].apply(clean_chipset)\n",
    "\n",
    "# Lấy mẫu dữ liệu để kiểm tra\n",
    "sample_df = df.sample(5, random_state=42)\n",
    "print(\"\\nMẫu dữ liệu SAU khi làm sạch cải tiến:\")\n",
    "for idx, row in sample_df.iterrows():\n",
    "    print(f\"Name gốc: '{row['name']}'\")\n",
    "    print(f\"Name đã làm sạch: '{row['name_clean']}'\")\n",
    "    print(f\"Chipset gốc: '{row['chipset']}'\")\n",
    "    print(f\"Chipset đã làm sạch: '{row['chipset_clean']}'\\n\")\n",
    "\n",
    "# Kiểm tra Asus Zenfone nếu có\n",
    "zenfone_rows = df[df['name'].str.contains('Zenfone', case=False, na=False)]\n",
    "if not zenfone_rows.empty:\n",
    "    print(\"\\nKiểm tra Zenfone trong DataFrame:\")\n",
    "    for idx, row in zenfone_rows.head(2).iterrows():\n",
    "        print(f\"Name gốc: '{row['name']}'\")\n",
    "        print(f\"Name đã làm sạch: '{row['name_clean']}'\")\n",
    "        print()\n",
    "\n",
    "# Thay thế cột gốc nếu hài lòng với kết quả\n",
    "df['name'] = df['name_clean']\n",
    "df['chipset'] = df['chipset_clean']\n",
    "df = df.drop(['name_clean', 'chipset_clean'], axis=1)\n",
    "\n",
    "# Kiểm tra và lưu DataFrame\n",
    "if not df.empty:\n",
    "    df.to_csv(base_data_clean_path + cleaned_data_name, index=False, encoding='utf-8-sig')\n",
    "    print(\"DataFrame đã được lưu thành công.\")\n",
    "else:\n",
    "    print(\"DataFrame rỗng, không thể lưu.\")"
   ]
  },
  {
   "cell_type": "markdown",
   "metadata": {},
   "source": [
    "### Camera main resolution cleaning\n"
   ]
  },
  {
   "cell_type": "code",
   "execution_count": 1161,
   "metadata": {},
   "outputs": [],
   "source": [
    "def clean_camera_resolution(camera_text):\n",
    "    \"\"\"\n",
    "    Chuẩn hóa giá trị độ phân giải camera về số MP (megapixel).\n",
    "    \n",
    "    :param camera_text: Chuỗi mô tả độ phân giải camera (VD: '50 MP', '108MP', '12 + 8 MP', ...)\n",
    "    :return: Số nguyên đại diện cho độ phân giải camera chính (MP) hoặc None nếu không hợp lệ.\n",
    "    \"\"\"\n",
    "    if not isinstance(camera_text, str):\n",
    "        return None  # Trả về None nếu không phải chuỗi\n",
    "\n",
    "    # Tìm tất cả các số trong chuỗi (để xử lý trường hợp '50 + 8 + 2 MP')\n",
    "    mp_values = re.findall(r'(\\d+)', camera_text)\n",
    "    \n",
    "    if not mp_values:\n",
    "        return None  # Không tìm thấy số nào hợp lệ\n",
    "\n",
    "    # Chuyển đổi tất cả về số nguyên\n",
    "    mp_values = list(map(int, mp_values))\n",
    "\n",
    "    # Trả về giá trị MP cao nhất (thường là camera chính)\n",
    "    return max(mp_values)\n",
    "\n",
    "df = pd.read_csv(base_data_clean_path + cleaned_data_name)\n",
    "\n",
    "# Làm sạch cột camera_main_resolution\n",
    "df['camera_main_resolution'] = df['camera_main_resolution'].apply(clean_camera_resolution)\n",
    "\n",
    "# Lưu lại file đã được làm sạch\n",
    "\n"
   ]
  },
  {
   "cell_type": "markdown",
   "metadata": {},
   "source": [
    "##### clean_resolution\n"
   ]
  },
  {
   "cell_type": "code",
   "execution_count": 1162,
   "metadata": {},
   "outputs": [],
   "source": [
    "K_RESOLUTIONS = {\n",
    "    \"HD\": (1280, 720),\n",
    "    \"FHD\": (1920, 1080),\n",
    "    \"2K\": (2560, 1440),\n",
    "    \"2.5K\": (2880, 1620),\n",
    "     \"3K\": (3200, 1800),\n",
    "    \"4K\": (3840, 2160),\n",
    "    \"5K\": (5120, 2880),\n",
    "    \"6K\": (6144, 3160),\n",
    "    \"8K\": (7680, 4320)\n",
    "}\n",
    "\n",
    "def clean_resolution(res_text):\n",
    "    \"\"\"\n",
    "    Chuẩn hóa dữ liệu độ phân giải màn hình về dạng 'width x height'.\n",
    "    Hỗ trợ cả dạng K (2.5K, 4K) và dạng số ('1080 x 2400').\n",
    "    \"\"\"\n",
    "    if not isinstance(res_text, str):\n",
    "        return None\n",
    "\n",
    "    res_text = res_text.lower().strip()\n",
    "\n",
    "    # Nếu là chuẩn K (ví dụ: '2.5K', '4K', '8K')\n",
    "    k_match = re.search(r'(\\d+(\\.\\d+)?)\\s*k', res_text, re.IGNORECASE)\n",
    "    if k_match:\n",
    "        k_value = k_match.group(1)  # Lấy giá trị số\n",
    "        k_key = f\"{float(k_value)}K\" if \".\" in k_value else f\"{int(float(k_value))}K\"\n",
    "        return f\"{K_RESOLUTIONS[k_key][0]} x {K_RESOLUTIONS[k_key][1]}\" if k_key in K_RESOLUTIONS else None\n",
    "\n",
    "    # Nếu là dạng '1080 x 2400' hoặc biến thể khác\n",
    "    res_text = re.sub(r'[^0-9x]', ' ', res_text)  # Chuẩn hóa ký tự x\n",
    "    res_text = re.sub(r'\\s*x\\s*', ' x ', res_text)\n",
    "\n",
    "    matches = re.findall(r'\\d+', res_text)\n",
    "    if len(matches) == 2:\n",
    "        width, height = sorted(map(int, matches))  # Sắp xếp width < height\n",
    "        return f\"{width} x {height}\"\n",
    "    return None\n",
    "\n",
    "\n",
    "df['screen_resolution'] = df['screen_resolution'].apply(clean_resolution)  # Chuẩn hóa dữ liệu\n",
    "df.to_csv(base_data_clean_path + \"cleaned_data.csv\", index=False, encoding=\"utf-8-sig\")\n",
    "\n"
   ]
  },
  {
   "cell_type": "code",
   "execution_count": 1163,
   "metadata": {},
   "outputs": [
    {
     "name": "stdout",
     "output_type": "stream",
     "text": [
      "Số lượng bản ghi ban đầu: 1215\n",
      "Số lượng bản ghi sau khi lọc: 1212\n"
     ]
    }
   ],
   "source": [
    "# Xóa các dòng trùng theo name + price, giữ lại bản ghi đầu tiên\n",
    "df_cleaned = df.drop_duplicates(subset=['name', 'price'])\n",
    "\n",
    "# Lưu lại file đã lọc\n",
    "df_cleaned.to_csv(base_data_clean_path + \"cleaned_data.csv\", index=False, encoding=\"utf-8-sig\")\n",
    "\n",
    "# Hiển thị số lượng bản ghi trước và sau khi lọc\n",
    "print(f\"Số lượng bản ghi ban đầu: {len(df)}\")\n",
    "print(f\"Số lượng bản ghi sau khi lọc: {len(df_cleaned)}\")"
   ]
  },
  {
   "cell_type": "markdown",
   "metadata": {},
   "source": []
  },
  {
   "cell_type": "code",
   "execution_count": 1164,
   "metadata": {},
   "outputs": [
    {
     "name": "stdout",
     "output_type": "stream",
     "text": [
      "brand\n",
      "Xiaomi      280\n",
      "Vivo        163\n",
      "Samsung     148\n",
      "Realme      144\n",
      "OPPO         96\n",
      "Apple        60\n",
      "Tecno        45\n",
      "OnePlus      42\n",
      "Honor        38\n",
      "Nubia        26\n",
      "ZTE          23\n",
      "Asus         21\n",
      "Google       17\n",
      "Motorola     15\n",
      "Nothing      14\n",
      "Infinix      12\n",
      "Vsmart       11\n",
      "Sony         10\n",
      "Itel          8\n",
      "Huawei        8\n",
      "Meizu         8\n",
      "Name: count, dtype: int64\n"
     ]
    }
   ],
   "source": [
    "# xóa các điện thoại các hãng mà có dưới 8 sản phẩm\n",
    "\n",
    "brand_counts = df['brand'].value_counts()\n",
    "brands_to_remove = brand_counts[brand_counts < 8].index\n",
    "df = df[~df['brand'].isin(brands_to_remove)]\n",
    "# df_filtered.to_csv(\"filtered_data.csv\", index=False, encoding=\"utf-8-sig\")\n",
    "\n",
    "print(df['brand'].value_counts())\n",
    "\n"
   ]
  },
  {
   "cell_type": "markdown",
   "metadata": {},
   "source": [
    "## Outliers\n"
   ]
  },
  {
   "cell_type": "code",
   "execution_count": 1165,
   "metadata": {},
   "outputs": [
    {
     "data": {
      "image/png": "[encoded data removed]",
      "text/plain": [
       "<Figure size 1500x2000 with 10 Axes>"
      ]
     },
     "metadata": {},
     "output_type": "display_data"
    }
   ],
   "source": [
    "# 1. Phân tích outliers bằng trực quan\n",
    "def visualize_outliers(df, columns):\n",
    "    plt.figure(figsize=(15, len(columns)*4))\n",
    "    for i, col in enumerate(columns, 1):\n",
    "        plt.subplot(len(columns), 2, i*2-1)\n",
    "        sns.boxplot(x=df[col])\n",
    "        plt.title(f'Boxplot của {col}')\n",
    "        \n",
    "        plt.subplot(len(columns), 2, i*2)\n",
    "        sns.histplot(df[col], kde=True)\n",
    "        plt.title(f'Phân bố của {col}')\n",
    "    plt.tight_layout()\n",
    "    plt.show()\n",
    "\n",
    "# 2. Phân loại thay vì loại bỏ\n",
    "def categorize_price(price):\n",
    "    if price < 3000000: return 'Low'\n",
    "    elif price < 8000000: return 'Medium'\n",
    "    elif price < 15000000: return 'High'\n",
    "    else: return 'Premium'\n",
    "\n",
    "# Thực hiện\n",
    "numeric_cols = ['price', 'ram', 'internal_memory', 'battery_capacity', 'camera_main_resolution']\n",
    "visualize_outliers(df, numeric_cols)\n",
    "\n",
    "# Thêm cột phân loại giá\n",
    "df['price_category'] = df['price'].apply(categorize_price)"
   ]
  },
  {
   "cell_type": "markdown",
   "metadata": {},
   "source": [
    "## Feature engineering\n"
   ]
  },
  {
   "cell_type": "markdown",
   "metadata": {},
   "source": [
    "##### Brand and os\n"
   ]
  },
  {
   "cell_type": "code",
   "execution_count": 1166,
   "metadata": {},
   "outputs": [
    {
     "name": "stdout",
     "output_type": "stream",
     "text": [
      "                          name brand       os\n",
      "0  ASUS ROG Phone 6 12GB 256GB  Asus  Android\n",
      "1             Asus ROG Phone 2  Asus  Android\n",
      "2       Asus ROG Phone 3 Elite  Asus  Android\n",
      "3     Asus ROG Phone 3 Tencent  Asus  Android\n",
      "4            Asus ROG Phone 5S  Asus  Android\n",
      "5          Asus ROG Phone 5 5G  Asus  Android\n",
      "6            Asus ROG Phone 6D  Asus  Android\n",
      "7   Asus ROG Phone 6D Ultimate  Asus  Android\n",
      "8             Asus ROG Phone 6  Asus  Android\n",
      "9         Asus ROG Phone 6 Pro  Asus  Android\n"
     ]
    }
   ],
   "source": [
    "import pandas as pd\n",
    "import re\n",
    "\n",
    "def extract_brand(name):\n",
    "    # Convert to lowercase for easier matching\n",
    "    name_lower = name.lower()\n",
    "    \n",
    "    # Define brand patterns\n",
    "    brand_patterns = {\n",
    "        'iphone': 'Apple',\n",
    "        'apple': 'Apple',\n",
    "        'samsung': 'Samsung',\n",
    "        'xiaomi': 'Xiaomi',\n",
    "        'asus': 'Asus',\n",
    "        'bphone': 'Bphone',\n",
    "        'redmi': 'Xiaomi',\n",
    "        'infinix': 'Infinix',\n",
    "        'inoi': 'Inoi',\n",
    "        'itel': 'Itel',\n",
    "        'nokia': 'Nokia',\n",
    "        'sony': 'Sony',\n",
    "        'nothing': 'Nothing',\n",
    "        'nubia': 'Nubia',\n",
    "        'poco': 'Xiaomi',\n",
    "        'huawei': 'Huawei',\n",
    "        'vivo': 'Vivo',\n",
    "        'oppo': 'OPPO',\n",
    "        'honor': 'Honor',\n",
    "        'realme': 'Realme',\n",
    "        'tecno': 'Tecno',\n",
    "        'viettel': 'Viettel',\n",
    "        'vsmart': 'Vsmart',\n",
    "        'zte': 'ZTE',\n",
    "        'google': 'Google',\n",
    "        'meizu': 'Meizu',\n",
    "        'motorola': 'Motorola',\n",
    "        'moto': 'Motorola',\n",
    "        'nio phone': 'NIO Phone',\n",
    "        'nothing': 'Nothing',\n",
    "        'oneplus': 'OnePlus',\n",
    "        'tesla': 'Tesla',\n",
    "        'unihertz': 'Unihertz',\n",
    "        'lenovo': 'Lenovo',\n",
    "        'red magic': 'Red Magic',\n",
    "        'moonstone': 'Moonstone',\n",
    "        'leeco': 'LeEco',\n",
    "        'blackview': 'Blackview',\n",
    "        'benco': 'Benco',\n",
    "        'fairphone': 'Fairphone',\n",
    "        'ulefone': 'Ulefone',\n",
    "        'smartisan': 'Smartisan',\n",
    "        'moondrop': 'Moondrop',\n",
    "        'gionee': 'Gionee',\n",
    "        'blu': 'Blu',\n",
    "    }\n",
    "    \n",
    "    # Try to match brand at the start of the name\n",
    "    for pattern, brand in brand_patterns.items():\n",
    "        if name_lower.startswith(pattern):\n",
    "            return brand\n",
    "    \n",
    "    # Look for brand anywhere in the name\n",
    "    for pattern, brand in brand_patterns.items():\n",
    "        if pattern in name_lower:\n",
    "            return brand\n",
    "    \n",
    "    return 'Other'\n",
    "\n",
    "def extract_os(brand):\n",
    "    if brand == 'Apple':\n",
    "        return 'iOS'\n",
    "    else:\n",
    "        return 'Android'\n",
    "\n",
    "\n",
    "def extract_brand_and_os(df):\n",
    "    # Extract brand\n",
    "    df['brand'] = df['name'].apply(extract_brand)\n",
    "    \n",
    "    # Infer OS based on brand\n",
    "    df['os'] = df['brand'].apply(extract_os)\n",
    "    \n",
    "    # Special case handling for specific products\n",
    "    # If needed, you can add special rules for certain models\n",
    "    \n",
    "    return df\n",
    "\n",
    "\n",
    "# Apply feature engineering\n",
    "df = extract_brand_and_os(df)\n",
    "\n",
    "# Preview the results\n",
    "print(df[['name', 'brand', 'os']].head(10))\n",
    "\n",
    "# Save the enhanced dataset\n",
    "df.to_csv(base_data_clean_path + 'feature_engineering.csv', index=False)"
   ]
  },
  {
   "cell_type": "code",
   "execution_count": null,
   "metadata": {},
   "outputs": [],
   "source": []
  },
  {
   "cell_type": "markdown",
   "metadata": {},
   "source": [
    "##### sceen_resolution -> to K\n"
   ]
  },
  {
   "cell_type": "code",
   "execution_count": 1167,
   "metadata": {},
   "outputs": [],
   "source": [
    "# sceen_resolution cleaning\n",
    "# Định nghĩa độ phân giải phổ biến cho chuẩn K\n",
    "K_RESOLUTIONS = {\n",
    "    \"HD\": (1280, 720),\n",
    "    \"FHD\": (1920, 1080),\n",
    "    \"2K\": (2560, 1440),\n",
    "    \"2.5K\": (2880, 1620),\n",
    "     \"3K\": (3200, 1800),\n",
    "    \"4K\": (3840, 2160),\n",
    "    \"5K\": (5120, 2880),\n",
    "    \"6K\": (6144, 3160),\n",
    "    \"8K\": (7680, 4320)\n",
    "}\n",
    "\n",
    "def resolution_to_k(width, height):\n",
    "    \"\"\"\n",
    "    Xác định độ phân giải gần nhất theo chuẩn K.\n",
    "    \"\"\"\n",
    "    min_diff = float('inf')\n",
    "    best_match = \"Unknown\"\n",
    "\n",
    "    for k, (w, h) in K_RESOLUTIONS.items():\n",
    "        diff = abs(width - w) + abs(height - h)  # Tính khoảng cách\n",
    "        if diff < min_diff:\n",
    "            min_diff = diff\n",
    "            best_match = k\n",
    "\n",
    "    return best_match\n",
    "\n",
    "\n",
    "def extract_resolution_features(df, col_name=\"screen_resolution\"):\n",
    "    \"\"\"\n",
    "    Feature engineering: Tách độ phân giải thành nhiều cột.\n",
    "    :param df: DataFrame chứa cột độ phân giải\n",
    "    :param col_name: Tên cột chứa độ phân giải\n",
    "    :return: DataFrame với các cột mới\n",
    "    \"\"\"\n",
    "    \n",
    "    # Tách chiều rộng và chiều cao\n",
    "    df[['screen_width', 'screen_height']] = df[col_name].str.split(' x ', expand=True).astype(float)\n",
    "\n",
    "    # Thêm các feature mới\n",
    "    df[\"screen_resolution_k\"] = df.apply(lambda row: resolution_to_k(row[\"screen_width\"], row[\"screen_height\"]), axis=1)\n",
    "\n",
    "    # không lưu screen_witdh, screen_height\n",
    "    df.drop(columns=['screen_width', 'screen_height'], inplace=True)\n",
    "    \n",
    "    \n",
    "    return df\n",
    "\n",
    "# Chuẩn hóa và tạo feature\n",
    "df = extract_resolution_features(df, col_name=\"screen_resolution\")\n"
   ]
  },
  {
   "cell_type": "markdown",
   "metadata": {},
   "source": []
  },
  {
   "cell_type": "code",
   "execution_count": 1168,
   "metadata": {},
   "outputs": [
    {
     "name": "stdout",
     "output_type": "stream",
     "text": [
      "                          name brand       os\n",
      "0  ASUS ROG Phone 6 12GB 256GB  Asus  Android\n",
      "1             Asus ROG Phone 2  Asus  Android\n",
      "2       Asus ROG Phone 3 Elite  Asus  Android\n",
      "3     Asus ROG Phone 3 Tencent  Asus  Android\n",
      "4            Asus ROG Phone 5S  Asus  Android\n",
      "5          Asus ROG Phone 5 5G  Asus  Android\n",
      "6            Asus ROG Phone 6D  Asus  Android\n",
      "7   Asus ROG Phone 6D Ultimate  Asus  Android\n",
      "8             Asus ROG Phone 6  Asus  Android\n",
      "9         Asus ROG Phone 6 Pro  Asus  Android\n"
     ]
    }
   ],
   "source": [
    "import re\n",
    "\n",
    "def extract_chip_model(cpu_string):\n",
    "    \"\"\"\n",
    "    Trích xuất tên loại chip từ thông tin CPU\n",
    "    \"\"\"\n",
    "    if not cpu_string or not isinstance(cpu_string, str):\n",
    "        return \"Unknown\"\n",
    "    \n",
    "    cpu_lower = cpu_string.lower()\n",
    "    \n",
    "    # Pattern cho các loại chip phổ biến\n",
    "    chip_patterns = [\n",
    "        # Qualcomm Snapdragon\n",
    "        (r'snapdragon\\s*(\\d+\\s*(?:gen\\s*\\d+|plus|ultra|pro|g|e|c)?\\+?)', 'Snapdragon {0}'),\n",
    "        (r'sm\\d+[a-z]*-?(\\d+)', 'Snapdragon {0}'),  # SM8450 = Snapdragon 8 Gen 1\n",
    "        \n",
    "        # MediaTek\n",
    "        (r'dimensity\\s*(\\d+\\s*(?:ultra|max|pro|plus|\\+)?)', 'Dimensity {0}'),\n",
    "        (r'helio\\s*([a-z]\\d+\\s*(?:ultra|max|pro|plus|\\+)?)', 'Helio {0}'),\n",
    "        (r'mt\\d+[a-z]*-?(\\d+)', 'MediaTek {0}'),\n",
    "        \n",
    "        # Apple\n",
    "        (r'a(\\d+)\\s*(?:bionic)?', 'A{0} Bionic'),\n",
    "        (r'm(\\d+)\\s*(?:pro|max|ultra)?', 'M{0}'),\n",
    "        \n",
    "        # Samsung\n",
    "        (r'exynos\\s*(\\d+(?:\\s*\\d*)?)', 'Exynos {0}'),\n",
    "        \n",
    "        # HiSilicon\n",
    "        (r'kirin\\s*(\\d+(?:\\s*\\d*)?(?:\\s*(?:pro|plus|e|\\+))?)', 'Kirin {0}'),\n",
    "        \n",
    "        # Google\n",
    "        (r'tensor\\s*(g\\d+|\\d+|)', 'Tensor {0}'),\n",
    "        \n",
    "        # Unisoc\n",
    "        (r'tiger\\s*([a-z]\\d+(?:\\s*\\d*)?)', 'Tiger {0}'),\n",
    "        (r'unisoc\\s*([a-z]\\d+(?:\\s*\\d*)?)', 'Unisoc {0}'),\n",
    "    ]\n",
    "    \n",
    "    # Tìm kiếm các mẫu trong văn bản CPU\n",
    "    for pattern, template in chip_patterns:\n",
    "        match = re.search(pattern, cpu_lower)\n",
    "        if match:\n",
    "            model = match.group(1).strip()\n",
    "            if model:  # Đảm bảo model không trống\n",
    "                return template.format(model.upper() if model.startswith('g') else model)\n",
    "    \n",
    "    # Nếu không tìm thấy mẫu cụ thể, thử tìm bất kỳ số model nào\n",
    "    general_match = re.search(r'(\\w+)\\s*(\\d+\\w*(?:\\s*(?:gen|plus|ultra|pro|max|\\+)?\\s*\\d*))', cpu_lower)\n",
    "    if general_match:\n",
    "        brand = general_match.group(1).capitalize()\n",
    "        model = general_match.group(2)\n",
    "        return f\"{brand} {model}\"\n",
    "    \n",
    "    # Nếu không tìm được gì, trả về chuỗi gốc đã làm sạch\n",
    "    return re.sub(r'\\s+', ' ', cpu_string).strip() if cpu_string else \"Unknown\"\n",
    "\n",
    "\n",
    "# Apply feature engineering\n",
    "df = extract_brand_and_os(df)\n",
    "\n",
    "# Áp dụng hàm để tạo cột mới 'chip_model'\n",
    "df['chip_model'] = df['chipset'].apply(extract_chip_model)  # Hoặc df['cpu'] tùy vào dữ liệu\n",
    "\n",
    "# Preview the results\n",
    "print(df[['name', 'brand', 'os']].head(10))\n",
    "\n",
    "# Save the enhanced dataset\n",
    "df.to_csv(base_data_clean_path + 'feature_engineering.csv', index=False)"
   ]
  },
  {
   "cell_type": "code",
   "execution_count": 1169,
   "metadata": {},
   "outputs": [
    {
     "data": {
      "application/vnd.microsoft.datawrangler.viewer.v0+json": {
       "columns": [
        {
         "name": "index",
         "rawType": "int64",
         "type": "integer"
        },
        {
         "name": "name",
         "rawType": "object",
         "type": "string"
        },
        {
         "name": "url",
         "rawType": "object",
         "type": "string"
        },
        {
         "name": "price",
         "rawType": "float64",
         "type": "float"
        },
        {
         "name": "chipset",
         "rawType": "object",
         "type": "string"
        },
        {
         "name": "ram",
         "rawType": "float64",
         "type": "float"
        },
        {
         "name": "internal_memory",
         "rawType": "int64",
         "type": "integer"
        },
        {
         "name": "screen_size",
         "rawType": "object",
         "type": "string"
        },
        {
         "name": "screen_resolution",
         "rawType": "object",
         "type": "string"
        },
        {
         "name": "screen_tech",
         "rawType": "object",
         "type": "string"
        },
        {
         "name": "refresh_rate",
         "rawType": "float64",
         "type": "float"
        },
        {
         "name": "camera_main_resolution",
         "rawType": "int64",
         "type": "integer"
        },
        {
         "name": "camera_count",
         "rawType": "int64",
         "type": "integer"
        },
        {
         "name": "battery_capacity",
         "rawType": "float64",
         "type": "float"
        },
        {
         "name": "security",
         "rawType": "object",
         "type": "string"
        },
        {
         "name": "cpu",
         "rawType": "object",
         "type": "string"
        },
        {
         "name": "os",
         "rawType": "object",
         "type": "string"
        },
        {
         "name": "price_category",
         "rawType": "object",
         "type": "string"
        },
        {
         "name": "chip_model",
         "rawType": "object",
         "type": "string"
        },
        {
         "name": "screen_tech_grouped_Dynamic AMOLED",
         "rawType": "bool",
         "type": "boolean"
        },
        {
         "name": "screen_tech_grouped_Dynamic AMOLED 2X",
         "rawType": "bool",
         "type": "boolean"
        },
        {
         "name": "screen_tech_grouped_Dynamic LTPO AMOLED 2X",
         "rawType": "bool",
         "type": "boolean"
        },
        {
         "name": "screen_tech_grouped_Fluid AMOLED",
         "rawType": "bool",
         "type": "boolean"
        },
        {
         "name": "screen_tech_grouped_Foldable LTPO AMOLED | Màn phụ: AMOLED",
         "rawType": "bool",
         "type": "boolean"
        },
        {
         "name": "screen_tech_grouped_IPS LCD",
         "rawType": "bool",
         "type": "boolean"
        },
        {
         "name": "screen_tech_grouped_LCD",
         "rawType": "bool",
         "type": "boolean"
        },
        {
         "name": "screen_tech_grouped_LTPO AMOLED",
         "rawType": "bool",
         "type": "boolean"
        },
        {
         "name": "screen_tech_grouped_LTPO OLED",
         "rawType": "bool",
         "type": "boolean"
        },
        {
         "name": "screen_tech_grouped_LTPO Super Retina XDR OLED",
         "rawType": "bool",
         "type": "boolean"
        },
        {
         "name": "screen_tech_grouped_LTPO4 AMOLED",
         "rawType": "bool",
         "type": "boolean"
        },
        {
         "name": "screen_tech_grouped_LTPS LCD",
         "rawType": "bool",
         "type": "boolean"
        },
        {
         "name": "screen_tech_grouped_OLED",
         "rawType": "bool",
         "type": "boolean"
        },
        {
         "name": "screen_tech_grouped_Other",
         "rawType": "bool",
         "type": "boolean"
        },
        {
         "name": "screen_tech_grouped_P-OLED",
         "rawType": "bool",
         "type": "boolean"
        },
        {
         "name": "screen_tech_grouped_PLS LCD",
         "rawType": "bool",
         "type": "boolean"
        },
        {
         "name": "screen_tech_grouped_Super AMOLED",
         "rawType": "bool",
         "type": "boolean"
        },
        {
         "name": "screen_tech_grouped_Super AMOLED Plus",
         "rawType": "bool",
         "type": "boolean"
        },
        {
         "name": "screen_tech_grouped_Super Retina XDR OLED",
         "rawType": "bool",
         "type": "boolean"
        },
        {
         "name": "screen_tech_grouped_TFT LCD",
         "rawType": "bool",
         "type": "boolean"
        },
        {
         "name": "screen_resolution_k_2K",
         "rawType": "bool",
         "type": "boolean"
        },
        {
         "name": "screen_resolution_k_FHD",
         "rawType": "bool",
         "type": "boolean"
        },
        {
         "name": "screen_resolution_k_HD",
         "rawType": "bool",
         "type": "boolean"
        },
        {
         "name": "brand_Honor",
         "rawType": "bool",
         "type": "boolean"
        },
        {
         "name": "brand_Nubia",
         "rawType": "bool",
         "type": "boolean"
        },
        {
         "name": "brand_OPPO",
         "rawType": "bool",
         "type": "boolean"
        },
        {
         "name": "brand_OnePlus",
         "rawType": "bool",
         "type": "boolean"
        },
        {
         "name": "brand_Other",
         "rawType": "bool",
         "type": "boolean"
        },
        {
         "name": "brand_Realme",
         "rawType": "bool",
         "type": "boolean"
        },
        {
         "name": "brand_Samsung",
         "rawType": "bool",
         "type": "boolean"
        },
        {
         "name": "brand_Tecno",
         "rawType": "bool",
         "type": "boolean"
        },
        {
         "name": "brand_Vivo",
         "rawType": "bool",
         "type": "boolean"
        },
        {
         "name": "brand_Xiaomi",
         "rawType": "bool",
         "type": "boolean"
        },
        {
         "name": "chip_model_grouped_Helio G99",
         "rawType": "bool",
         "type": "boolean"
        },
        {
         "name": "chip_model_grouped_Other",
         "rawType": "bool",
         "type": "boolean"
        },
        {
         "name": "chip_model_grouped_Snapdragon 680",
         "rawType": "bool",
         "type": "boolean"
        },
        {
         "name": "chip_model_grouped_Snapdragon 695",
         "rawType": "bool",
         "type": "boolean"
        },
        {
         "name": "chip_model_grouped_Snapdragon 8 e",
         "rawType": "bool",
         "type": "boolean"
        },
        {
         "name": "chip_model_grouped_Snapdragon 8 gen 1",
         "rawType": "bool",
         "type": "boolean"
        },
        {
         "name": "chip_model_grouped_Snapdragon 8 gen 2",
         "rawType": "bool",
         "type": "boolean"
        },
        {
         "name": "chip_model_grouped_Snapdragon 8 gen 3",
         "rawType": "bool",
         "type": "boolean"
        },
        {
         "name": "chip_model_grouped_Snapdragon 865",
         "rawType": "bool",
         "type": "boolean"
        },
        {
         "name": "chip_model_grouped_Snapdragon 888",
         "rawType": "bool",
         "type": "boolean"
        }
       ],
       "conversionMethod": "pd.DataFrame",
       "ref": "04bf271b-085f-4a52-84fc-a8905b1086f2",
       "rows": [
        [
         "0",
         "ASUS ROG Phone 6 12GB 256GB",
         "https://cellphones.com.vn/asus-rog-phone-6-12gb-256gb.html",
         "14490000.0",
         "Qualcomm Snapdragon 8 thế hệ 1",
         "12.0",
         "256",
         "6.78",
         "1080 x 2448",
         "AMOLED",
         "60.0",
         "50",
         "3",
         "6000.0",
         "Vân tay",
         "Qualcomm ® Snapdragon ® 8+ thế hệ 1",
         "Android",
         "High",
         "Snapdragon 8",
         "False",
         "False",
         "False",
         "False",
         "False",
         "False",
         "False",
         "False",
         "False",
         "False",
         "False",
         "False",
         "False",
         "False",
         "False",
         "False",
         "False",
         "False",
         "False",
         "False",
         "False",
         "False",
         "True",
         "False",
         "False",
         "False",
         "False",
         "True",
         "False",
         "False",
         "False",
         "False",
         "False",
         "False",
         "True",
         "False",
         "False",
         "False",
         "False",
         "False",
         "False",
         "False",
         "False"
        ],
        [
         "1",
         "Asus ROG Phone 2",
         "https://mobilecity.vn/asus/asus-rog-phone-2.html",
         "11950000.0",
         "Qualcomm SM8150 Snapdragon 855 8 nhân GPU Adreno 640",
         "12.0",
         "1024",
         "6.59",
         "1080 x 2340",
         "AMOLED",
         "120.0",
         "48",
         "2",
         "6000.0",
         "Mật khẩu",
         "Qualcomm SM8150 Snapdragon 855+ (7 nm)",
         "Android",
         "High",
         "Snapdragon 855",
         "False",
         "False",
         "False",
         "False",
         "False",
         "False",
         "False",
         "False",
         "False",
         "False",
         "False",
         "False",
         "False",
         "False",
         "False",
         "False",
         "False",
         "False",
         "False",
         "False",
         "False",
         "False",
         "True",
         "False",
         "False",
         "False",
         "False",
         "True",
         "False",
         "False",
         "False",
         "False",
         "False",
         "False",
         "True",
         "False",
         "False",
         "False",
         "False",
         "False",
         "False",
         "False",
         "False"
        ],
        [
         "2",
         "Asus ROG Phone 3 Elite",
         "https://mobilecity.vn/asus/asus-rog-phone-3-strix.html",
         "10750000.0",
         "Qualcomm SM8250 Snapdragon 865",
         "12.0",
         "256",
         "6.59",
         "1080 x 2340",
         "AMOLED",
         "144.0",
         "64",
         "3",
         "6000.0",
         "Mật khẩu",
         "Qualcomm SM8250 Snapdragon 865 (7 nm+)",
         "Android",
         "High",
         "Snapdragon 865",
         "False",
         "False",
         "False",
         "False",
         "False",
         "False",
         "False",
         "False",
         "False",
         "False",
         "False",
         "False",
         "False",
         "False",
         "False",
         "False",
         "False",
         "False",
         "False",
         "False",
         "False",
         "False",
         "True",
         "False",
         "False",
         "False",
         "False",
         "True",
         "False",
         "False",
         "False",
         "False",
         "False",
         "False",
         "False",
         "False",
         "False",
         "False",
         "False",
         "False",
         "False",
         "True",
         "False"
        ],
        [
         "3",
         "Asus ROG Phone 3 Tencent",
         "https://mobilecity.vn/asus/asus-rog-phone-3.html",
         "11450000.0",
         "Qualcomm SM8250 Snapdragon 865 8 nhân GPU Adreno 650",
         "16.0",
         "512",
         "6.59",
         "1080 x 2340",
         "AMOLED",
         "144.0",
         "64",
         "3",
         "6000.0",
         "Mật khẩu",
         "Qualcomm SM8250 Snapdragon 865+ (7 nm+)",
         "Android",
         "High",
         "Snapdragon 865",
         "False",
         "False",
         "False",
         "False",
         "False",
         "False",
         "False",
         "False",
         "False",
         "False",
         "False",
         "False",
         "False",
         "False",
         "False",
         "False",
         "False",
         "False",
         "False",
         "False",
         "False",
         "False",
         "True",
         "False",
         "False",
         "False",
         "False",
         "True",
         "False",
         "False",
         "False",
         "False",
         "False",
         "False",
         "False",
         "False",
         "False",
         "False",
         "False",
         "False",
         "False",
         "True",
         "False"
        ],
        [
         "4",
         "Asus ROG Phone 5S",
         "https://mobilecity.vn/asus/asus-rog-phone-5s.html",
         "14450000.0",
         "Qualcomm SM8350 Snapdragon 888 5G 8 nhân GPU Adreno 660",
         "16.0",
         "512",
         "6.78",
         "1080 x 2448",
         "AMOLED",
         "144.0",
         "64",
         "3",
         "6000.0",
         "Vân tay",
         "Qualcomm SM8350 Snapdragon 888+ 5G (5 nm)",
         "Android",
         "High",
         "Snapdragon 888",
         "False",
         "False",
         "False",
         "False",
         "False",
         "False",
         "False",
         "False",
         "False",
         "False",
         "False",
         "False",
         "False",
         "False",
         "False",
         "False",
         "False",
         "False",
         "False",
         "False",
         "False",
         "False",
         "True",
         "False",
         "False",
         "False",
         "False",
         "True",
         "False",
         "False",
         "False",
         "False",
         "False",
         "False",
         "False",
         "False",
         "False",
         "False",
         "False",
         "False",
         "False",
         "False",
         "True"
        ]
       ],
       "shape": {
        "columns": 61,
        "rows": 5
       }
      },
      "text/html": [
       "<div>\n",
       "<style scoped>\n",
       "    .dataframe tbody tr th:only-of-type {\n",
       "        vertical-align: middle;\n",
       "    }\n",
       "\n",
       "    .dataframe tbody tr th {\n",
       "        vertical-align: top;\n",
       "    }\n",
       "\n",
       "    .dataframe thead th {\n",
       "        text-align: right;\n",
       "    }\n",
       "</style>\n",
       "<table border=\"1\" class=\"dataframe\">\n",
       "  <thead>\n",
       "    <tr style=\"text-align: right;\">\n",
       "      <th></th>\n",
       "      <th>name</th>\n",
       "      <th>url</th>\n",
       "      <th>price</th>\n",
       "      <th>chipset</th>\n",
       "      <th>ram</th>\n",
       "      <th>internal_memory</th>\n",
       "      <th>screen_size</th>\n",
       "      <th>screen_resolution</th>\n",
       "      <th>screen_tech</th>\n",
       "      <th>refresh_rate</th>\n",
       "      <th>...</th>\n",
       "      <th>chip_model_grouped_Helio G99</th>\n",
       "      <th>chip_model_grouped_Other</th>\n",
       "      <th>chip_model_grouped_Snapdragon 680</th>\n",
       "      <th>chip_model_grouped_Snapdragon 695</th>\n",
       "      <th>chip_model_grouped_Snapdragon 8 e</th>\n",
       "      <th>chip_model_grouped_Snapdragon 8 gen 1</th>\n",
       "      <th>chip_model_grouped_Snapdragon 8 gen 2</th>\n",
       "      <th>chip_model_grouped_Snapdragon 8 gen 3</th>\n",
       "      <th>chip_model_grouped_Snapdragon 865</th>\n",
       "      <th>chip_model_grouped_Snapdragon 888</th>\n",
       "    </tr>\n",
       "  </thead>\n",
       "  <tbody>\n",
       "    <tr>\n",
       "      <th>0</th>\n",
       "      <td>ASUS ROG Phone 6 12GB 256GB</td>\n",
       "      <td>https://cellphones.com.vn/asus-rog-phone-6-12g...</td>\n",
       "      <td>14490000.0</td>\n",
       "      <td>Qualcomm Snapdragon 8 thế hệ 1</td>\n",
       "      <td>12.0</td>\n",
       "      <td>256</td>\n",
       "      <td>6.78</td>\n",
       "      <td>1080 x 2448</td>\n",
       "      <td>AMOLED</td>\n",
       "      <td>60.0</td>\n",
       "      <td>...</td>\n",
       "      <td>False</td>\n",
       "      <td>True</td>\n",
       "      <td>False</td>\n",
       "      <td>False</td>\n",
       "      <td>False</td>\n",
       "      <td>False</td>\n",
       "      <td>False</td>\n",
       "      <td>False</td>\n",
       "      <td>False</td>\n",
       "      <td>False</td>\n",
       "    </tr>\n",
       "    <tr>\n",
       "      <th>1</th>\n",
       "      <td>Asus ROG Phone 2</td>\n",
       "      <td>https://mobilecity.vn/asus/asus-rog-phone-2.html</td>\n",
       "      <td>11950000.0</td>\n",
       "      <td>Qualcomm SM8150 Snapdragon 855 8 nhân GPU Adre...</td>\n",
       "      <td>12.0</td>\n",
       "      <td>1024</td>\n",
       "      <td>6.59</td>\n",
       "      <td>1080 x 2340</td>\n",
       "      <td>AMOLED</td>\n",
       "      <td>120.0</td>\n",
       "      <td>...</td>\n",
       "      <td>False</td>\n",
       "      <td>True</td>\n",
       "      <td>False</td>\n",
       "      <td>False</td>\n",
       "      <td>False</td>\n",
       "      <td>False</td>\n",
       "      <td>False</td>\n",
       "      <td>False</td>\n",
       "      <td>False</td>\n",
       "      <td>False</td>\n",
       "    </tr>\n",
       "    <tr>\n",
       "      <th>2</th>\n",
       "      <td>Asus ROG Phone 3 Elite</td>\n",
       "      <td>https://mobilecity.vn/asus/asus-rog-phone-3-st...</td>\n",
       "      <td>10750000.0</td>\n",
       "      <td>Qualcomm SM8250 Snapdragon 865</td>\n",
       "      <td>12.0</td>\n",
       "      <td>256</td>\n",
       "      <td>6.59</td>\n",
       "      <td>1080 x 2340</td>\n",
       "      <td>AMOLED</td>\n",
       "      <td>144.0</td>\n",
       "      <td>...</td>\n",
       "      <td>False</td>\n",
       "      <td>False</td>\n",
       "      <td>False</td>\n",
       "      <td>False</td>\n",
       "      <td>False</td>\n",
       "      <td>False</td>\n",
       "      <td>False</td>\n",
       "      <td>False</td>\n",
       "      <td>True</td>\n",
       "      <td>False</td>\n",
       "    </tr>\n",
       "    <tr>\n",
       "      <th>3</th>\n",
       "      <td>Asus ROG Phone 3 Tencent</td>\n",
       "      <td>https://mobilecity.vn/asus/asus-rog-phone-3.html</td>\n",
       "      <td>11450000.0</td>\n",
       "      <td>Qualcomm SM8250 Snapdragon 865 8 nhân GPU Adre...</td>\n",
       "      <td>16.0</td>\n",
       "      <td>512</td>\n",
       "      <td>6.59</td>\n",
       "      <td>1080 x 2340</td>\n",
       "      <td>AMOLED</td>\n",
       "      <td>144.0</td>\n",
       "      <td>...</td>\n",
       "      <td>False</td>\n",
       "      <td>False</td>\n",
       "      <td>False</td>\n",
       "      <td>False</td>\n",
       "      <td>False</td>\n",
       "      <td>False</td>\n",
       "      <td>False</td>\n",
       "      <td>False</td>\n",
       "      <td>True</td>\n",
       "      <td>False</td>\n",
       "    </tr>\n",
       "    <tr>\n",
       "      <th>4</th>\n",
       "      <td>Asus ROG Phone 5S</td>\n",
       "      <td>https://mobilecity.vn/asus/asus-rog-phone-5s.html</td>\n",
       "      <td>14450000.0</td>\n",
       "      <td>Qualcomm SM8350 Snapdragon 888 5G 8 nhân GPU A...</td>\n",
       "      <td>16.0</td>\n",
       "      <td>512</td>\n",
       "      <td>6.78</td>\n",
       "      <td>1080 x 2448</td>\n",
       "      <td>AMOLED</td>\n",
       "      <td>144.0</td>\n",
       "      <td>...</td>\n",
       "      <td>False</td>\n",
       "      <td>False</td>\n",
       "      <td>False</td>\n",
       "      <td>False</td>\n",
       "      <td>False</td>\n",
       "      <td>False</td>\n",
       "      <td>False</td>\n",
       "      <td>False</td>\n",
       "      <td>False</td>\n",
       "      <td>True</td>\n",
       "    </tr>\n",
       "  </tbody>\n",
       "</table>\n",
       "<p>5 rows × 61 columns</p>\n",
       "</div>"
      ],
      "text/plain": [
       "                          name  \\\n",
       "0  ASUS ROG Phone 6 12GB 256GB   \n",
       "1             Asus ROG Phone 2   \n",
       "2       Asus ROG Phone 3 Elite   \n",
       "3     Asus ROG Phone 3 Tencent   \n",
       "4            Asus ROG Phone 5S   \n",
       "\n",
       "                                                 url       price  \\\n",
       "0  https://cellphones.com.vn/asus-rog-phone-6-12g...  14490000.0   \n",
       "1   https://mobilecity.vn/asus/asus-rog-phone-2.html  11950000.0   \n",
       "2  https://mobilecity.vn/asus/asus-rog-phone-3-st...  10750000.0   \n",
       "3   https://mobilecity.vn/asus/asus-rog-phone-3.html  11450000.0   \n",
       "4  https://mobilecity.vn/asus/asus-rog-phone-5s.html  14450000.0   \n",
       "\n",
       "                                             chipset   ram  internal_memory  \\\n",
       "0                     Qualcomm Snapdragon 8 thế hệ 1  12.0              256   \n",
       "1  Qualcomm SM8150 Snapdragon 855 8 nhân GPU Adre...  12.0             1024   \n",
       "2                     Qualcomm SM8250 Snapdragon 865  12.0              256   \n",
       "3  Qualcomm SM8250 Snapdragon 865 8 nhân GPU Adre...  16.0              512   \n",
       "4  Qualcomm SM8350 Snapdragon 888 5G 8 nhân GPU A...  16.0              512   \n",
       "\n",
       "  screen_size screen_resolution screen_tech  refresh_rate  ...  \\\n",
       "0        6.78       1080 x 2448      AMOLED          60.0  ...   \n",
       "1        6.59       1080 x 2340      AMOLED         120.0  ...   \n",
       "2        6.59       1080 x 2340      AMOLED         144.0  ...   \n",
       "3        6.59       1080 x 2340      AMOLED         144.0  ...   \n",
       "4        6.78       1080 x 2448      AMOLED         144.0  ...   \n",
       "\n",
       "   chip_model_grouped_Helio G99  chip_model_grouped_Other  \\\n",
       "0                         False                      True   \n",
       "1                         False                      True   \n",
       "2                         False                     False   \n",
       "3                         False                     False   \n",
       "4                         False                     False   \n",
       "\n",
       "   chip_model_grouped_Snapdragon 680 chip_model_grouped_Snapdragon 695  \\\n",
       "0                              False                             False   \n",
       "1                              False                             False   \n",
       "2                              False                             False   \n",
       "3                              False                             False   \n",
       "4                              False                             False   \n",
       "\n",
       "  chip_model_grouped_Snapdragon 8 e chip_model_grouped_Snapdragon 8 gen 1  \\\n",
       "0                             False                                 False   \n",
       "1                             False                                 False   \n",
       "2                             False                                 False   \n",
       "3                             False                                 False   \n",
       "4                             False                                 False   \n",
       "\n",
       "  chip_model_grouped_Snapdragon 8 gen 2 chip_model_grouped_Snapdragon 8 gen 3  \\\n",
       "0                                 False                                 False   \n",
       "1                                 False                                 False   \n",
       "2                                 False                                 False   \n",
       "3                                 False                                 False   \n",
       "4                                 False                                 False   \n",
       "\n",
       "   chip_model_grouped_Snapdragon 865  chip_model_grouped_Snapdragon 888  \n",
       "0                              False                              False  \n",
       "1                              False                              False  \n",
       "2                               True                              False  \n",
       "3                               True                              False  \n",
       "4                              False                               True  \n",
       "\n",
       "[5 rows x 61 columns]"
      ]
     },
     "metadata": {},
     "output_type": "display_data"
    }
   ],
   "source": [
    "data_encode = df.copy()\n",
    "# Giữ lại top 20 giá trị phổ biến nhất, gộp các giá trị còn lại thành \"Other\"\n",
    "top_screen_tech = data_encode['screen_tech'].value_counts().nlargest(20).index\n",
    "data_encode['screen_tech_grouped'] = data_encode['screen_tech'].apply(lambda x: x if x in top_screen_tech else 'Other')\n",
    "\n",
    "# One-Hot Encoding cho biến screen_Tech sau khi gộp\n",
    "data_encode = pd.get_dummies(data_encode, columns=['screen_tech_grouped'], drop_first=True)\n",
    "# One-Hot Encoding cho biến screen_resolution_k\n",
    "data_encode = pd.get_dummies(data_encode, columns=['screen_resolution_k'], drop_first=True)\n",
    "top_brand = data_encode['brand'].value_counts().nlargest(10).index\n",
    "# Giữ lại top 10 giá trị phổ biến nhất, gộp các giá trị còn lại thành \"Other\"\n",
    "data_encode['brand'] = data_encode['brand'].apply(lambda x: x if x in top_brand else 'Other')\n",
    "# One-Hot Encoding cho biến brand sau khi gộp\n",
    "data_encode = pd.get_dummies(data_encode, columns=['brand'], drop_first=True)\n",
    "# Giữ lại top 20 chip_model phổ biến nhất, gộp các giá trị còn lại thành \"Other\"\n",
    "top_chip_model = data_encode['chip_model'].value_counts().nlargest(10).index\n",
    "data_encode['chip_model_grouped'] = data_encode['chip_model'].apply(lambda x: x if x in top_chip_model else 'Other')\n",
    "\n",
    "# One-Hot Encoding cho biến chip_model sau khi gộp\n",
    "data_encode = pd.get_dummies(data_encode, columns=['chip_model_grouped'], drop_first=True)\n",
    "\n",
    "display(data_encode.head())  # Xem trước vài dòng sau khi mã hóa\n",
    "\n"
   ]
  }
 ],
 "metadata": {
  "kernelspec": {
   "display_name": ".venv",
   "language": "python",
   "name": "python3"
  },
  "language_info": {
   "codemirror_mode": {
    "name": "ipython",
    "version": 3
   },
   "file_extension": ".py",
   "mimetype": "text/x-python",
   "name": "python",
   "nbconvert_exporter": "python",
   "pygments_lexer": "ipython3",
   "version": "3.12.3"
  }
 },
 "nbformat": 4,
 "nbformat_minor": 2
}
