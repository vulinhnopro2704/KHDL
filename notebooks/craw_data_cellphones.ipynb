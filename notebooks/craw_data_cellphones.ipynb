{
 "cells": [
  {
   "cell_type": "markdown",
   "metadata": {},
   "source": [
    "### Phát biểu bài toán:\n",
    "\n",
    "-   Phân tích mức độ ảnh hưởng của phần cứng và thương hiệu đến giá của điện thoại di động\n",
    "\n",
    "### Nguồn Dữ liệu:\n",
    "\n",
    "-   Dữ liệu được thu thập từ trang web:\n",
    "    -   https://mobilecity.vn/dien-thoai\n",
    "    -   https://cellphones.com.vn/mobile.html\n",
    "\n",
    "Phân tích dữ liệu nhằm khảo sát tính khả thi cho việc xây dựng mô hình dự đoán biến mục tiêu (target variable) \"Giá - Price\" từ các biến/đặc trưng phần cứng và thương hiệu Xi (i=1..N).\n",
    "Vì biến đăng trưng Y là biến số liên tục (continuous variable) -> việc mô hình hóa là bài toán hồi quy (regression).\n",
    "\n",
    "### Các bước thực hiện:\n",
    "\n",
    "-   Bước 1: Khai thác dữ liệu (Data Exploration)\n",
    "-   Bước 2: Tiền xử lý dữ liệu (Data Preprocessing)\n",
    "-   Bước 3: Phân tích dữ liệu (Data Analysis)\n",
    "-   Bước 4: Xây dựng mô hình hồi quy (Regression Model Building)\n",
    "\n",
    "### Vì phạm vi của bài toán là thu thập và phân tích dữ liệu, nên chúng ta sẽ không đi sâu vào bước 4 (xây dựng mô hình hồi quy - Bài tập sau).\n"
   ]
  },
  {
   "cell_type": "markdown",
   "metadata": {},
   "source": [
    "# Bước 1: Khai thác dữ liệu (Data Exploration)\n"
   ]
  },
  {
   "cell_type": "markdown",
   "metadata": {},
   "source": [
    "Cài đặt các thư viện cần thiết\n"
   ]
  },
  {
   "cell_type": "code",
   "execution_count": null,
   "metadata": {},
   "outputs": [],
   "source": [
    "%pip install selenium"
   ]
  },
  {
   "cell_type": "code",
   "execution_count": null,
   "metadata": {},
   "outputs": [],
   "source": [
    "%pip install webdriver_manager"
   ]
  },
  {
   "cell_type": "markdown",
   "metadata": {},
   "source": [
    "### Import các thư viện cần thiết\n"
   ]
  },
  {
   "cell_type": "code",
   "execution_count": 2,
   "metadata": {},
   "outputs": [],
   "source": [
    "from selenium import webdriver\n",
    "from selenium.webdriver.chrome.service import Service\n",
    "from selenium.webdriver.common.by import By\n",
    "from selenium.webdriver.support.ui import WebDriverWait\n",
    "from selenium.webdriver.support import expected_conditions as EC\n",
    "from webdriver_manager.chrome import ChromeDriverManager\n",
    "import time"
   ]
  },
  {
   "cell_type": "markdown",
   "metadata": {},
   "source": [
    "## Đối với trang web cellphones.com.vn/mobile.html\n"
   ]
  },
  {
   "cell_type": "markdown",
   "metadata": {},
   "source": [
    "### Đầu tiên ta sẽ set up, cào các Link cần thiết và kiểm thử từng bước trước khi tự động hóa toàn bộ quy trình\n"
   ]
  },
  {
   "cell_type": "code",
   "execution_count": 3,
   "metadata": {},
   "outputs": [],
   "source": [
    "url = \"https://cellphones.com.vn/mobile.html\"\n",
    "btn_show_more_cn = \"button__show-more-product\""
   ]
  },
  {
   "cell_type": "code",
   "execution_count": 4,
   "metadata": {},
   "outputs": [],
   "source": [
    "driver = webdriver.Chrome(service=Service(ChromeDriverManager().install()))\n",
    "driver.get(url)"
   ]
  },
  {
   "cell_type": "code",
   "execution_count": 5,
   "metadata": {},
   "outputs": [],
   "source": [
    "# Khai báo các đường dẫn file sẽ sử dụng:\n",
    "cellphones_links = \"../link/product_links_cellphones.csv\"\n",
    "json_product_detail_folder = \"../data/json\"\n",
    "json_all_product_detail_file = \"../data/processed/filtered_product.json\"\n"
   ]
  },
  {
   "cell_type": "markdown",
   "metadata": {},
   "source": [
    "Hiển thị toàn bộ sản phẩm trước khi lấy link\n"
   ]
  },
  {
   "cell_type": "code",
   "execution_count": 6,
   "metadata": {},
   "outputs": [],
   "source": [
    "# Function to click all \"Show More\" buttons until none remain\n",
    "def click_all_show_more(button_class, max_attempts=20):\n",
    "    attempts = 0\n",
    "    while attempts < max_attempts:\n",
    "        try:\n",
    "            # Find the button (adjust selector as needed)\n",
    "            buttons = driver.find_elements(By.CLASS_NAME, button_class)\n",
    "            if not buttons:\n",
    "                print(\"No more 'Show More' buttons found\")\n",
    "                break\n",
    "                \n",
    "            # Scroll to button\n",
    "            driver.execute_script(\"arguments[0].scrollIntoView({block: 'center'});\", buttons[0])\n",
    "            time.sleep(1)\n",
    "            \n",
    "            # Click using JavaScript (bypasses visibility requirements)\n",
    "            driver.execute_script(\"arguments[0].click();\", buttons[0])\n",
    "            \n",
    "            print(f\"Clicked 'Show More' button: {attempts+1} times\")\n",
    "            attempts += 1\n",
    "            \n",
    "            # Wait for new content to load\n",
    "            time.sleep(3)\n",
    "        except Exception as e:\n",
    "            print(f\"Error: {e}\")\n",
    "            break"
   ]
  },
  {
   "cell_type": "code",
   "execution_count": 7,
   "metadata": {},
   "outputs": [
    {
     "name": "stdout",
     "output_type": "stream",
     "text": [
      "Clicked 'Show More' button: 1 times\n",
      "Clicked 'Show More' button: 2 times\n",
      "Clicked 'Show More' button: 3 times\n",
      "Clicked 'Show More' button: 4 times\n",
      "Clicked 'Show More' button: 5 times\n",
      "Clicked 'Show More' button: 6 times\n",
      "Clicked 'Show More' button: 7 times\n",
      "Clicked 'Show More' button: 8 times\n",
      "Clicked 'Show More' button: 9 times\n",
      "Clicked 'Show More' button: 10 times\n"
     ]
    }
   ],
   "source": [
    "# Wait until the button is clickable\n",
    "wait = WebDriverWait(driver, 10)\n",
    "button = wait.until(EC.element_to_be_clickable((By.CLASS_NAME, btn_show_more_cn)))\n",
    "click_all_show_more(btn_show_more_cn, max_attempts=10)\n",
    "product_card_cn = \"div.product-info-container\""
   ]
  },
  {
   "cell_type": "markdown",
   "metadata": {},
   "source": [
    "Xác định số lượng sản phẩm trên trang web\n"
   ]
  },
  {
   "cell_type": "code",
   "execution_count": 8,
   "metadata": {},
   "outputs": [
    {
     "name": "stdout",
     "output_type": "stream",
     "text": [
      "Total number of products found: 220\n"
     ]
    }
   ],
   "source": [
    "product_elements = driver.find_elements(By.CSS_SELECTOR, \"div.product-info-container.product-item .product-info\")\n",
    "print(f\"Total number of products found: {len(product_elements)}\")"
   ]
  },
  {
   "cell_type": "markdown",
   "metadata": {},
   "source": [
    "Xem thử thông tin của 1 sản phẩm\n"
   ]
  },
  {
   "cell_type": "code",
   "execution_count": 9,
   "metadata": {},
   "outputs": [
    {
     "name": "stdout",
     "output_type": "stream",
     "text": [
      "iPhone 16 Pro Max 256GB | Chính hãng VN/A\n",
      "6.9 inches\n",
      "256 GB\n",
      "30.990.000đ\n",
      "34.990.000đ\n",
      "Giảm 11%\n",
      "Smember giảm thêm đến \n",
      "307.000đ\n",
      "Không phí chuyển đổi khi trả góp 0% qua thẻ tín dụng kỳ hạn 3-6 tháng\n"
     ]
    }
   ],
   "source": [
    "print(product_elements[0].text)"
   ]
  },
  {
   "cell_type": "markdown",
   "metadata": {},
   "source": [
    "### Trích xuất các link sản phẩm từ trang web cellphones.com.vn/mobile.html dựa vào html của các thẻ sản phẩm\n"
   ]
  },
  {
   "cell_type": "code",
   "execution_count": 10,
   "metadata": {},
   "outputs": [
    {
     "name": "stdout",
     "output_type": "stream",
     "text": [
      "Found 220 product links\n",
      "['https://cellphones.com.vn/iphone-16-pro-max.html', 'https://cellphones.com.vn/dien-thoai-samsung-galaxy-s25-ultra.html', 'https://cellphones.com.vn/xiaomi-14t-pro.html', 'https://cellphones.com.vn/samsung-galaxy-s24-ultra.html', 'https://cellphones.com.vn/dien-thoai-xiaomi-redmi-note-14.html']\n"
     ]
    }
   ],
   "source": [
    "import concurrent.futures\n",
    "from threading import Lock\n",
    "\n",
    "# Thread-safe list and lock\n",
    "product_links = []\n",
    "link_lock = Lock()\n",
    "\n",
    "# Function each thread will execute\n",
    "def extract_product_link(product):\n",
    "    try:\n",
    "        # Check product price is not None, not empty, and not \"Liên hệ\" or \"Giá liên hệ\"\n",
    "        price_element = product.find_element(By.CSS_SELECTOR, \".product__price--show\").text.strip()\n",
    "        if not price_element:\n",
    "            print(f\"Skipping product with empty price\")\n",
    "            return None\n",
    "        if price_element in [\"Liên hệ\", \"Giá liên hệ\", \"\"]:\n",
    "            print(f\"Skipping product with price: {price_element}\")\n",
    "            return None\n",
    "        \n",
    "        # Find the link (adjust selector based on actual HTML structure)\n",
    "        link_element = product.find_element(By.CSS_SELECTOR, \"a.product__link\")\n",
    "        link = link_element.get_attribute(\"href\")\n",
    "        \n",
    "        # Thread-safe append to the shared list\n",
    "        with link_lock:\n",
    "            product_links.append(link)\n",
    "        \n",
    "        return link\n",
    "    except Exception as e:\n",
    "        print(f\"Error: {e} in product {product.text} - skipping\")\n",
    "        return None\n",
    "\n",
    "# Number of threads to use\n",
    "num_threads = 12  # Adjust based on your system's capabilities\n",
    "\n",
    "# Use ThreadPoolExecutor to parallelize the work\n",
    "with concurrent.futures.ThreadPoolExecutor(max_workers=num_threads) as executor:\n",
    "    # Submit all products to the thread pool\n",
    "    futures = [executor.submit(extract_product_link, product) for product in product_elements]\n",
    "    \n",
    "    # Wait for all to complete\n",
    "    concurrent.futures.wait(futures)\n",
    "\n",
    "print(f\"Found {len(product_links)} product links\")\n",
    "print(product_links[:5])"
   ]
  },
  {
   "cell_type": "markdown",
   "metadata": {},
   "source": [
    "### Sau khi lấy được các Link hợp lệ, ta tiến hành lưu vào file để đảm bảo không bị mất dữ liệu trong quá trình cào dữ liệu.\n"
   ]
  },
  {
   "cell_type": "code",
   "execution_count": null,
   "metadata": {},
   "outputs": [],
   "source": [
    "import csv\n",
    "\n",
    "# Write the links to a CSV file\n",
    "with open(cellphones_links, \"w\", newline=\"\") as csvfile:\n",
    "    writer = csv.writer(csvfile)\n",
    "    writer.writerow([\"Product Link\"])\n",
    "    writer.writerows([[link] for link in product_links])"
   ]
  },
  {
   "cell_type": "markdown",
   "metadata": {},
   "source": [
    "### Tiếp theo, ta tiến hành cào dữ liệu thô, ở đây do cấu trúc dữ liệu phức tạp nên sẽ lưu theo cấu trúc JSON\n"
   ]
  },
  {
   "cell_type": "code",
   "execution_count": 11,
   "metadata": {},
   "outputs": [],
   "source": [
    "import json\n",
    "import time\n",
    "import traceback\n",
    "from selenium.webdriver.common.by import By\n",
    "from selenium.webdriver.remote.webdriver import WebDriver\n",
    "from selenium.webdriver.support.ui import WebDriverWait\n",
    "from selenium.webdriver.support import expected_conditions as EC\n",
    "from selenium.common.exceptions import TimeoutException, NoSuchElementException, ElementNotInteractableException, StaleElementReferenceException\n",
    "from typing import Dict, Optional, Any, List\n",
    "\n",
    "def execute_js(driver, js_script, *args):\n",
    "    \"\"\"\n",
    "    Execute JavaScript with any number of arguments\n",
    "    \n",
    "    Parameters:\n",
    "    - driver: Selenium WebDriver instance\n",
    "    - js_script: JavaScript code to execute\n",
    "    - *args: Any number of arguments to pass to the JavaScript\n",
    "    \n",
    "    Returns:\n",
    "    - The result of the JavaScript execution\n",
    "    \"\"\"\n",
    "    return driver.execute_script(js_script, *args)\n",
    "\n",
    "def extract_product_common_info(driver: WebDriver, product_link: str) -> Dict[str, Any]:\n",
    "    \"\"\"\n",
    "    Extract common product information from a product page with improved robustness.\n",
    "    \n",
    "    Parameters:\n",
    "    - driver: Selenium WebDriver instance\n",
    "    - product_link: URL of the product page\n",
    "    \n",
    "    Returns:\n",
    "    - Dictionary containing product information\n",
    "    \"\"\"\n",
    "    # Initialize result dictionary with default values\n",
    "    product_data = {\n",
    "        \"url\": product_link,\n",
    "        \"name\": \"\",\n",
    "        \"price\": \"\",\n",
    "        \"specifications\": []\n",
    "    }\n",
    "    \n",
    "    try:\n",
    "        print(f\"Extracting data from: {product_link}\")\n",
    "        \n",
    "        # Loại bỏ chat model và các overlay nếu có\n",
    "        execute_js(driver, \"\"\"\n",
    "            var elements = [\n",
    "                document.getElementById('cs-live-chat'),\n",
    "                document.querySelector('.csh-overlay'),\n",
    "                document.querySelector('.chat-widget'),\n",
    "                document.querySelector('.modal-overlay')\n",
    "            ];\n",
    "            elements.forEach(el => { if(el) el.remove(); });\n",
    "        \"\"\")\n",
    "        time.sleep(1)\n",
    "        \n",
    "        # CHIẾN LƯỢC 1: Lấy tên sản phẩm (thử nhiều selector)\n",
    "        try:\n",
    "            name_selectors = [\n",
    "                \".box-product-name h1\", \n",
    "                \"a.item-linked.active strong\",\n",
    "            ]\n",
    "            \n",
    "            for selector in name_selectors:\n",
    "                try:\n",
    "                    name_element = driver.find_element(By.CSS_SELECTOR, selector)\n",
    "                    name = name_element.text.strip()\n",
    "                    if name:\n",
    "                        product_data[\"name\"] = name\n",
    "                        print(f\"Found product name: {name}\")\n",
    "                        if (name.strip() != \"\"):\n",
    "                            break\n",
    "                except (NoSuchElementException, StaleElementReferenceException):\n",
    "                    continue\n",
    "        except Exception as e:\n",
    "            print(f\"Error getting product name: {e}\")\n",
    "            \n",
    "        # CHIẾN LƯỢC 2: Lấy giá sản phẩm (thử nhiều selector)\n",
    "        try:\n",
    "            price_selectors = [\n",
    "                \"a.item-linked.active span\",\n",
    "                \".product__price--show\", \n",
    "                \".total-price\",\n",
    "            ]\n",
    "            \n",
    "            for selector in price_selectors:\n",
    "                try:\n",
    "                    price_element = driver.find_element(By.CSS_SELECTOR, selector)\n",
    "                    price = price_element.text.strip()\n",
    "                    if price:\n",
    "                        product_data[\"price\"] = price\n",
    "                        print(f\"Found product price: {price}\")\n",
    "                        if (price != \"\" and price != \"0\"):\n",
    "                            break\n",
    "                except (NoSuchElementException, StaleElementReferenceException):\n",
    "                    continue\n",
    "        except Exception as e:\n",
    "            print(f\"Error getting product price: {e}\")\n",
    "        \n",
    "        # CHIẾN LƯỢC 3: Trích xuất thông số kỹ thuật qua nhiều cách\n",
    "        specifications = []\n",
    "        spec_extracted = False\n",
    "        \n",
    "        # Cách 1: Thử click vào button và lấy từ modal\n",
    "        try:\n",
    "            # Scroll xuống trang để button xuất hiện\n",
    "            for scroll_position in [250, 500, 750, 1000, 1250]:\n",
    "                try:\n",
    "                    execute_js(driver, f\"window.scrollTo(0, {scroll_position});\")\n",
    "                    time.sleep(0.5)\n",
    "                    \n",
    "                    # Thử tìm và click button bằng nhiều cách\n",
    "                    button_clicked = False\n",
    "                    \n",
    "                    # Cách 1: Sử dụng selector trực tiếp\n",
    "                    try:\n",
    "                        button_selectors = [\n",
    "                            \".button__show-modal-technical\",\n",
    "                            \"button:contains('Xem cấu hình chi tiết')\",\n",
    "                        ]\n",
    "                        \n",
    "                        for selector in button_selectors:\n",
    "                            try:\n",
    "                                click_script = f\"\"\"\n",
    "                                    var btn = document.querySelector('{selector}');\n",
    "                                    if(btn) {{\n",
    "                                        btn.scrollIntoView({{block: 'center'}});\n",
    "                                        btn.click();\n",
    "                                        return true;\n",
    "                                    }}\n",
    "                                    return false;\n",
    "                                \"\"\"\n",
    "                                button_clicked = execute_js(driver, click_script)\n",
    "                                if button_clicked:\n",
    "                                    print(f\"Clicked technical button with selector: {selector}\")\n",
    "                                    time.sleep(1.5)\n",
    "                                    break\n",
    "                            except:\n",
    "                                continue\n",
    "                    except Exception as e:\n",
    "                        print(f\"Error clicking button with selector: {e}\")\n",
    "                    \n",
    "                    # Cách 2: Tìm bằng XPath với nội dung text\n",
    "                    if not button_clicked:\n",
    "                        try:\n",
    "                            xpath_patterns = [\n",
    "                                \"//button[contains(text(), 'Xem cấu hình chi tiết')]\",\n",
    "                                \"//a[contains(text(), 'Xem cấu hình chi tiết')]\",\n",
    "                                \"//div[contains(text(), 'Xem cấu hình chi tiết')]\",\n",
    "                                \"//span[contains(text(), 'Xem cấu hình chi tiết')]\"\n",
    "                            ]\n",
    "                            \n",
    "                            for xpath in xpath_patterns:\n",
    "                                try:\n",
    "                                    button = driver.find_element(By.XPATH, xpath)\n",
    "                                    if button.is_displayed():\n",
    "                                        execute_js(driver, \"arguments[0].scrollIntoView({block: 'center'});\", button)\n",
    "                                        time.sleep(0.5)\n",
    "                                        execute_js(driver, \"arguments[0].click();\", button)\n",
    "                                        button_clicked = True\n",
    "                                        print(f\"Clicked technical button with xpath: {xpath}\")\n",
    "                                        time.sleep(1.5)\n",
    "                                        break\n",
    "                                except:\n",
    "                                    continue\n",
    "                        except Exception as e:\n",
    "                            print(f\"Error clicking button with xpath: {e}\")\n",
    "                    \n",
    "                    if button_clicked:\n",
    "                        # Đợi modal hiển thị\n",
    "                        try:\n",
    "                            modal_selectors = [\n",
    "                                \".technical-content-modal\",\n",
    "                                \".modal-content\",\n",
    "                            ]\n",
    "                            \n",
    "                            modal_found = False\n",
    "                            for selector in modal_selectors:\n",
    "                                try:\n",
    "                                    WebDriverWait(driver, 3).until(\n",
    "                                        EC.visibility_of_element_located((By.CSS_SELECTOR, selector))\n",
    "                                    )\n",
    "                                    print(f\"Modal found with selector: {selector}\")\n",
    "                                    modal_found = True\n",
    "                                    \n",
    "                                    # Trích xuất dữ liệu từ modal với JS\n",
    "                                    js_script = \"\"\"\n",
    "                                    function extractSpecifications() {\n",
    "                                        // Thử với cấu trúc modal cellphones.com.vn\n",
    "                                        const ul = document.querySelector('ul.technical-content-modal');\n",
    "                                        if (ul) {\n",
    "                                            const items = Array.from(ul.querySelectorAll('li.technical-content-modal-item'));\n",
    "                                            return items.map(item => {\n",
    "                                                const titleElem = item.querySelector('p.title');\n",
    "                                                const category = titleElem ? titleElem.innerText.trim() : \"\";\n",
    "                                                const specDivs = item.querySelectorAll('div.modal-item-description > div');\n",
    "                                                const details = {};\n",
    "                                                \n",
    "                                                specDivs.forEach(div => {\n",
    "                                                    const keyElem = div.querySelector('p');\n",
    "                                                    const valueElem = div.querySelector('div');\n",
    "                                                    if(keyElem && valueElem) {\n",
    "                                                        const key = keyElem.innerText.trim();\n",
    "                                                        let value = valueElem.innerText.trim();\n",
    "                                                        if(value.indexOf('\\\\n') !== -1) {\n",
    "                                                            value = value.split('\\\\n').map(s => s.trim()).filter(s => s !== \"\");\n",
    "                                                        }\n",
    "                                                        details[key] = value;\n",
    "                                                    }\n",
    "                                                });\n",
    "                                                return { category: category, details: details };\n",
    "                                            });\n",
    "                                        }\n",
    "                                        \n",
    "                                        // Thử với cấu trúc bảng thông thường\n",
    "                                        const tables = document.querySelectorAll('table.specifications-table, table.tech-spec-table, .modal-content table');\n",
    "                                        if (tables.length > 0) {\n",
    "                                            const result = [];\n",
    "                                            \n",
    "                                            tables.forEach(table => {\n",
    "                                                let currentCategory = \"Thông số kỹ thuật\";\n",
    "                                                const categoryHeader = table.querySelector('th, caption, .spec-title');\n",
    "                                                if (categoryHeader) {\n",
    "                                                    currentCategory = categoryHeader.innerText.trim();\n",
    "                                                }\n",
    "                                                \n",
    "                                                const details = {};\n",
    "                                                const rows = table.querySelectorAll('tr');\n",
    "                                                \n",
    "                                                rows.forEach(row => {\n",
    "                                                    const cells = row.querySelectorAll('td');\n",
    "                                                    if (cells.length >= 2) {\n",
    "                                                        const key = cells[0].innerText.trim();\n",
    "                                                        let value = cells[1].innerText.trim();\n",
    "                                                        \n",
    "                                                        if(value.indexOf('\\\\n') !== -1) {\n",
    "                                                            value = value.split('\\\\n').map(s => s.trim()).filter(s => s !== \"\");\n",
    "                                                        }\n",
    "                                                        \n",
    "                                                        if (key && value) {\n",
    "                                                            details[key] = value;\n",
    "                                                        }\n",
    "                                                    }\n",
    "                                                });\n",
    "                                                \n",
    "                                                if (Object.keys(details).length > 0) {\n",
    "                                                    result.push({ category: currentCategory, details: details });\n",
    "                                                }\n",
    "                                            });\n",
    "                                            \n",
    "                                            return result;\n",
    "                                        }\n",
    "                                        \n",
    "                                        // Không tìm thấy dữ liệu nào\n",
    "                                        return [];\n",
    "                                    }\n",
    "                                    return JSON.stringify(extractSpecifications());\n",
    "                                    \"\"\"\n",
    "                                    \n",
    "                                    json_data = execute_js(driver, js_script)\n",
    "                                    extracted_specs = json.loads(json_data)\n",
    "                                    \n",
    "                                    if extracted_specs and len(extracted_specs) > 0:\n",
    "                                        specifications = extracted_specs\n",
    "                                        spec_extracted = True\n",
    "                                        print(f\"Extracted {len(extracted_specs)} specification categories from modal\")\n",
    "                                        break\n",
    "                                except:\n",
    "                                    continue\n",
    "                            \n",
    "                            if modal_found and spec_extracted:\n",
    "                                break\n",
    "                        except Exception as e:\n",
    "                            print(f\"Error extracting from modal: {e}\")\n",
    "                except Exception as e:\n",
    "                    print(f\"Error during modal interaction at scroll {scroll_position}: {e}\")\n",
    "                    \n",
    "                if spec_extracted:\n",
    "                    break\n",
    "        except Exception as e:\n",
    "            print(f\"Error in modal extraction strategy: {e}\")\n",
    "        \n",
    "        # Lưu thông số vào kết quả\n",
    "        if specifications:\n",
    "            product_data[\"specifications\"] = specifications\n",
    "            \n",
    "    except Exception as e:\n",
    "        print(f\"Error during extraction: {traceback.format_exc()}\")\n",
    "    \n",
    "    print(f\"product name common data: \", product_data)\n",
    "    return product_data"
   ]
  },
  {
   "cell_type": "markdown",
   "metadata": {},
   "source": [
    "### Gọi hàm lấy dữ liệu và lưu dữ liệu vào file json\n"
   ]
  },
  {
   "cell_type": "code",
   "execution_count": 12,
   "metadata": {},
   "outputs": [],
   "source": [
    "def getAndSaveProductInfo(driver: WebDriver, product_link: str) -> Dict[str, Any]:\n",
    "    \"\"\"\n",
    "    Lấy thông tin sản phẩm từ trang product_link bằng cách cào thông tin common và variant, sau đó merge lại thành 1 dict.\n",
    "    \n",
    "    Returns:\n",
    "    - Dictionary chứa thông tin sản phẩm, bao gồm:\n",
    "         - url, specifications, variant_prices\n",
    "    \"\"\"\n",
    "    driver.get(product_link)\n",
    "    time.sleep(2)\n",
    "    \n",
    "    product_common_data = extract_product_common_info(driver, product_link)\n",
    "    if product_common_data is None:\n",
    "        product_common_data = {\"url\": product_link, \"specifications\": {}}\n",
    "    \n",
    "    file_name = product_link.split(\"/\")[-1].replace(\".html\", \"\")\n",
    "    print(\"product name common data: \", product_common_data)\n",
    "    with open(json_product_detail_folder + file_name + \".json\", \"w\", encoding=\"utf-8\") as f:\n",
    "        json.dump(product_common_data, f, indent=4, ensure_ascii=False)\n",
    "        \n",
    "    return product_common_data"
   ]
  },
  {
   "cell_type": "markdown",
   "metadata": {},
   "source": [
    "Test hàm với 1 link sản phẩm ngẫu nhiên triong file product_links.csv\n"
   ]
  },
  {
   "cell_type": "code",
   "execution_count": 13,
   "metadata": {},
   "outputs": [
    {
     "name": "stdout",
     "output_type": "stream",
     "text": [
      "Extracting data from: https://cellphones.com.vn/iphone-16-pro-max.html\n",
      "Found product name: iPhone 16 Pro Max 256GB | Chính hãng VN/A\n",
      "Found product price: 30.990.000 đ\n",
      "Clicked technical button with selector: .button__show-modal-technical\n",
      "Modal found with selector: .technical-content-modal\n",
      "Extracted 15 specification categories from modal\n",
      "product name common data:  {'url': 'https://cellphones.com.vn/iphone-16-pro-max.html', 'name': 'iPhone 16 Pro Max 256GB | Chính hãng VN/A', 'price': '30.990.000 đ', 'specifications': [{'category': 'Màn hình', 'details': {'Kích thước màn hình': '6.9 inches', 'Công nghệ màn hình': 'Super Retina XDR OLED', 'Độ phân giải màn hình': '2868 x 1320 pixels', 'Tính năng màn hình': ['Dynamic Island', 'Màn hình Luôn Bật', 'Công nghệ ProMotion với tốc độ làm mới thích ứng lên đến 120Hz', 'Màn hình HDR', 'True Tone', 'Dải màu rộng (P3)', 'Haptic Touch', 'Tỷ lệ tương phản 2.000.000:1'], 'Tần số quét': '120Hz', 'Kiểu màn hình': 'Dynamic Island'}}, {'category': 'Camera sau', 'details': {'Camera sau': ['Camera chính: 48MP, f/1.78, 24mm, 2µm, chống rung quang học dịch chuyển cảm biến thế hệ thứ hai, Focus Pixels 100%', 'Telephoto 2x 12MP: 52 mm, ƒ/1.6', 'Camera góc siêu rộng: 48MP, 13 mm,ƒ/2.2 và trường ảnh 120°, Hybrid Focus Pixels, ảnh có độ phân giải'], 'Quay video': ['4K@24 fps, 4K@25 fps, 4K@30 fps, 4K@60 fps, 4K@100 fps, 4K@120 fps', '1080p@25fps, 1080p@30 fps, 1080p@60 fps hoặc 1080p@120 fps', '720p@30 fps'], 'Tính năng camera': ['Flash True Tone', 'Photonic Engine', 'Deep Fusion', 'HDR thông minh thế hệ 5', 'Hiệu ứng Chiếu Sáng Chân Dung với sáu chế độ', 'Chế độ Ban Đêm', 'Chụp ảnh toàn cảnh Panorama (lên đến 63MP)', 'Phong Cách Nhiếp Ảnh thế hệ mới nhất', 'Ảnh không gian']}}, {'category': 'Camera trước', 'details': {'Camera trước': '12MP, ƒ/1.9, Tự động lấy nét theo pha Focus Pixels', 'Quay video trước': ['4K@24 fps, 4K@25 fps, 4K@30 fps, 4K@60 fps', '1080p@25fps, 1080p@30 fps, hoặc 1080p@60 fps']}}, {'category': 'Vi xử lý & đồ họa', 'details': {'Chipset': 'Apple A18 Pro', 'GPU': 'GPU 6 lõi mới'}}, {'category': 'Giao tiếp & kết nối', 'details': {'Công nghệ NFC': 'Có', 'Thẻ SIM': 'Sim kép (nano-Sim và e-Sim) - Hỗ trợ 2 e-Sim', 'Hỗ trợ mạng': '5G', 'GPS': 'GPS, GLONASS, Galileo, QZSS, BeiDou và NavIC'}}, {'category': 'RAM & lưu trữ', 'details': {'Bộ nhớ trong': '256 GB'}}, {'category': 'Tính năng khác', 'details': {'Hệ điều hành': 'iOS 18'}}, {'category': 'Bộ xử lý & Đồ họa', 'details': {'Loại CPU': 'CPU 6 lõi mới với 2 lõi hiệu năng và 4 lõi hiệu suất'}}, {'category': 'Kích thước & Trọng lượng', 'details': {'Kích thước': '163 x 77,6 x 8,25 mm', 'Trọng lượng': '227 gram'}}, {'category': 'Thiết kế & Trọng lượng', 'details': {'Chất liệu mặt lưng': 'Kính', 'Chất liệu khung viền': 'Titanium'}}, {'category': 'Thông số khác', 'details': {'Tương thích': 'Tương Thích Với Thiết Bị Trợ Thính', 'Chỉ số kháng nước, bụi': 'IP68 chống nước ở độ sâu tối đa 6 mét trong vòng tối đa 30 phút) theo tiêu chuẩn IEC 60529', 'Công nghệ - Tiện ích': 'Face ID, FaceTime', 'Tiện ích khác': ['Apple Pay', 'SOS Khẩn Cấp', 'Phát Hiện Va Chạm'], 'Công nghệ âm thanh': 'AAC, APAC, MP3, Apple Lossless, FLAC, Dolby Digital, Dolby Digital Plus, và Dolby Atmos'}}, {'category': 'Pin & công nghệ sạc', 'details': {'Công nghệ sạc': ['Sạc không dây MagSafe lên đến 25W với bộ tiếp hợp 30W trở lên', 'Sạc không dây Qi2 lên đến 15W', 'Sạc không dây Qi lên đến 7,5W'], 'Cổng sạc': 'USB Type-C'}}, {'category': 'Tiện ích khác', 'details': {'Các loại cảm biến': 'Cảm biến gia tốc, Cảm biến tiệm cận, Cảm biến ánh sáng, La bàn, Con quay hồi chuyển, Cảm biến áp kế, Cảm biến trọng lực', 'Tính năng đặc biệt': 'Hỗ trợ 5G, Sạc không dây, Nhận diện khuôn mặt, Kháng nước, kháng bụi, Điện thoại AI'}}, {'category': 'Cổng kết nối', 'details': {'Wi-Fi': 'Wi‑Fi 7 (802.11be) với 2x2 MIMO7', 'Bluetooth': 'Bluetooth 5.3'}}, {'category': 'Thông tin chung', 'details': {'Thời điểm ra mắt': '09/2024'}}]}\n",
      "product name common data:  {'url': 'https://cellphones.com.vn/iphone-16-pro-max.html', 'name': 'iPhone 16 Pro Max 256GB | Chính hãng VN/A', 'price': '30.990.000 đ', 'specifications': [{'category': 'Màn hình', 'details': {'Kích thước màn hình': '6.9 inches', 'Công nghệ màn hình': 'Super Retina XDR OLED', 'Độ phân giải màn hình': '2868 x 1320 pixels', 'Tính năng màn hình': ['Dynamic Island', 'Màn hình Luôn Bật', 'Công nghệ ProMotion với tốc độ làm mới thích ứng lên đến 120Hz', 'Màn hình HDR', 'True Tone', 'Dải màu rộng (P3)', 'Haptic Touch', 'Tỷ lệ tương phản 2.000.000:1'], 'Tần số quét': '120Hz', 'Kiểu màn hình': 'Dynamic Island'}}, {'category': 'Camera sau', 'details': {'Camera sau': ['Camera chính: 48MP, f/1.78, 24mm, 2µm, chống rung quang học dịch chuyển cảm biến thế hệ thứ hai, Focus Pixels 100%', 'Telephoto 2x 12MP: 52 mm, ƒ/1.6', 'Camera góc siêu rộng: 48MP, 13 mm,ƒ/2.2 và trường ảnh 120°, Hybrid Focus Pixels, ảnh có độ phân giải'], 'Quay video': ['4K@24 fps, 4K@25 fps, 4K@30 fps, 4K@60 fps, 4K@100 fps, 4K@120 fps', '1080p@25fps, 1080p@30 fps, 1080p@60 fps hoặc 1080p@120 fps', '720p@30 fps'], 'Tính năng camera': ['Flash True Tone', 'Photonic Engine', 'Deep Fusion', 'HDR thông minh thế hệ 5', 'Hiệu ứng Chiếu Sáng Chân Dung với sáu chế độ', 'Chế độ Ban Đêm', 'Chụp ảnh toàn cảnh Panorama (lên đến 63MP)', 'Phong Cách Nhiếp Ảnh thế hệ mới nhất', 'Ảnh không gian']}}, {'category': 'Camera trước', 'details': {'Camera trước': '12MP, ƒ/1.9, Tự động lấy nét theo pha Focus Pixels', 'Quay video trước': ['4K@24 fps, 4K@25 fps, 4K@30 fps, 4K@60 fps', '1080p@25fps, 1080p@30 fps, hoặc 1080p@60 fps']}}, {'category': 'Vi xử lý & đồ họa', 'details': {'Chipset': 'Apple A18 Pro', 'GPU': 'GPU 6 lõi mới'}}, {'category': 'Giao tiếp & kết nối', 'details': {'Công nghệ NFC': 'Có', 'Thẻ SIM': 'Sim kép (nano-Sim và e-Sim) - Hỗ trợ 2 e-Sim', 'Hỗ trợ mạng': '5G', 'GPS': 'GPS, GLONASS, Galileo, QZSS, BeiDou và NavIC'}}, {'category': 'RAM & lưu trữ', 'details': {'Bộ nhớ trong': '256 GB'}}, {'category': 'Tính năng khác', 'details': {'Hệ điều hành': 'iOS 18'}}, {'category': 'Bộ xử lý & Đồ họa', 'details': {'Loại CPU': 'CPU 6 lõi mới với 2 lõi hiệu năng và 4 lõi hiệu suất'}}, {'category': 'Kích thước & Trọng lượng', 'details': {'Kích thước': '163 x 77,6 x 8,25 mm', 'Trọng lượng': '227 gram'}}, {'category': 'Thiết kế & Trọng lượng', 'details': {'Chất liệu mặt lưng': 'Kính', 'Chất liệu khung viền': 'Titanium'}}, {'category': 'Thông số khác', 'details': {'Tương thích': 'Tương Thích Với Thiết Bị Trợ Thính', 'Chỉ số kháng nước, bụi': 'IP68 chống nước ở độ sâu tối đa 6 mét trong vòng tối đa 30 phút) theo tiêu chuẩn IEC 60529', 'Công nghệ - Tiện ích': 'Face ID, FaceTime', 'Tiện ích khác': ['Apple Pay', 'SOS Khẩn Cấp', 'Phát Hiện Va Chạm'], 'Công nghệ âm thanh': 'AAC, APAC, MP3, Apple Lossless, FLAC, Dolby Digital, Dolby Digital Plus, và Dolby Atmos'}}, {'category': 'Pin & công nghệ sạc', 'details': {'Công nghệ sạc': ['Sạc không dây MagSafe lên đến 25W với bộ tiếp hợp 30W trở lên', 'Sạc không dây Qi2 lên đến 15W', 'Sạc không dây Qi lên đến 7,5W'], 'Cổng sạc': 'USB Type-C'}}, {'category': 'Tiện ích khác', 'details': {'Các loại cảm biến': 'Cảm biến gia tốc, Cảm biến tiệm cận, Cảm biến ánh sáng, La bàn, Con quay hồi chuyển, Cảm biến áp kế, Cảm biến trọng lực', 'Tính năng đặc biệt': 'Hỗ trợ 5G, Sạc không dây, Nhận diện khuôn mặt, Kháng nước, kháng bụi, Điện thoại AI'}}, {'category': 'Cổng kết nối', 'details': {'Wi-Fi': 'Wi‑Fi 7 (802.11be) với 2x2 MIMO7', 'Bluetooth': 'Bluetooth 5.3'}}, {'category': 'Thông tin chung', 'details': {'Thời điểm ra mắt': '09/2024'}}]}\n"
     ]
    }
   ],
   "source": [
    "product_info = getAndSaveProductInfo(driver, \"https://cellphones.com.vn/iphone-16-pro-max.html\")"
   ]
  },
  {
   "cell_type": "code",
   "execution_count": 14,
   "metadata": {},
   "outputs": [
    {
     "data": {
      "text/plain": [
       "['https://cellphones.com.vn/iphone-16-pro-max.html',\n",
       " 'https://cellphones.com.vn/dien-thoai-xiaomi-redmi-note-14.html',\n",
       " 'https://cellphones.com.vn/dien-thoai-xiaomi-15.html',\n",
       " 'https://cellphones.com.vn/dien-thoai-samsung-galaxy-s25.html',\n",
       " 'https://cellphones.com.vn/oppo-reno10-pro-plus.html']"
      ]
     },
     "execution_count": 14,
     "metadata": {},
     "output_type": "execute_result"
    }
   ],
   "source": [
    "import csv\n",
    "product_links = []\n",
    "with open(cellphones_links, \"r\") as f:\n",
    "    reader = csv.reader(f)\n",
    "    next(reader)  # Skip header\n",
    "    for row in reader:\n",
    "        product_links.append(row[0])\n",
    "product_links[:5]"
   ]
  },
  {
   "cell_type": "code",
   "execution_count": 15,
   "metadata": {},
   "outputs": [],
   "source": [
    "import os\n",
    "\n",
    "# Lưu kết quả vào file JSON mà không ghi đè dữ liệu cũ\n",
    "def save_results_append(results, filename=json_all_product_detail_file):\n",
    "    try:\n",
    "        all_data = []\n",
    "        \n",
    "        # Kiểm tra xem file đã tồn tại chưa\n",
    "        if os.path.exists(filename):\n",
    "            # Đọc dữ liệu từ file hiện có\n",
    "            with open(filename, \"r\", encoding=\"utf-8\") as f:\n",
    "                try:\n",
    "                    all_data = json.load(f)\n",
    "                    print(f\"Đọc được {len(all_data)} sản phẩm từ {filename}\")\n",
    "                except json.JSONDecodeError:\n",
    "                    print(f\"File {filename} không phải định dạng JSON hợp lệ. Sẽ tạo file mới.\")\n",
    "                    all_data = []\n",
    "        \n",
    "        # Kiểm tra xem all_data có phải là list không\n",
    "        if not isinstance(all_data, list):\n",
    "            print(f\"Dữ liệu trong {filename} không phải là danh sách. Sẽ tạo danh sách mới.\")\n",
    "            all_data = []\n",
    "        \n",
    "        # Tìm các URL đã tồn tại để tránh trùng lặp\n",
    "        existing_urls = {item.get(\"url\", \"\") for item in all_data}\n",
    "        new_items = 0\n",
    "        \n",
    "        # Thêm các mục mới chưa tồn tại\n",
    "        for result in results:\n",
    "            url = result.get(\"url\", \"\")\n",
    "            if url and url not in existing_urls:\n",
    "                all_data.append(result)\n",
    "                existing_urls.add(url)\n",
    "                new_items += 1\n",
    "        \n",
    "        # Ghi toàn bộ dữ liệu vào file\n",
    "        with open(filename, \"w\", encoding=\"utf-8\") as f:\n",
    "            json.dump(all_data, f, indent=4, ensure_ascii=False)\n",
    "        \n",
    "        print(f\"Đã thêm {new_items} sản phẩm mới vào {filename}\")\n",
    "        print(f\"Tổng số sản phẩm hiện tại: {len(all_data)}\")\n",
    "        \n",
    "    except Exception as e:\n",
    "        print(f\"Lỗi khi lưu {filename}: {str(e)}\")"
   ]
  },
  {
   "cell_type": "markdown",
   "metadata": {},
   "source": [
    "### Cuối cùng đây là hàm chính để chạy và cào dữ liệu, đảm bảo đã làm xong bước get Link và chạy các khai báo hàm rồi mới chạy được ở đây\n",
    "\n",
    "-   Để giảm thời gian cào, ở đây nhóm sử dụng Đa luồng đa tuyến để cào dữ liệu. Lưu lại các Link lỗi để tiếp tục xử lí sau khi cào xong\n",
    "-   Sử dụng 1 vài thư viện để log thông tin dễ theo dõi, debug trong quá trình cào dữ liệu\n"
   ]
  },
  {
   "cell_type": "code",
   "execution_count": null,
   "metadata": {},
   "outputs": [
    {
     "name": "stdout",
     "output_type": "stream",
     "text": [
      "Chia thành 2 batch, mỗi batch 5 sản phẩm\n",
      "Đang xử lý batch 1/2\n"
     ]
    },
    {
     "name": "stderr",
     "output_type": "stream",
     "text": [
      "Batch 1:   0%|          | 0/5 [00:00<?, ?it/s]"
     ]
    },
    {
     "name": "stdout",
     "output_type": "stream",
     "text": [
      "Extracting data from: https://cellphones.com.vn/dien-thoai-samsung-galaxy-s25.html\n",
      "Found product name: Samsung Galaxy S25 256GB\n",
      "Found product price: 19.290.000 đ\n",
      "Clicked technical button with selector: .button__show-modal-technical\n",
      "Extracting data from: https://cellphones.com.vn/dien-thoai-xiaomi-15.html\n",
      "Found product name: Xiaomi 15 5G 12GB 256GB\n",
      "Found product price: 21.990.000 đ\n",
      "Modal found with selector: .technical-content-modal\n",
      "Extracted 14 specification categories from modal\n",
      "product name common data:  {'url': 'https://cellphones.com.vn/dien-thoai-samsung-galaxy-s25.html', 'name': 'Samsung Galaxy S25 256GB', 'price': '19.290.000 đ', 'specifications': [{'category': 'Màn hình', 'details': {'Kích thước màn hình': '6.2 inches', 'Công nghệ màn hình': 'Dynamic AMOLED 2X', 'Độ phân giải màn hình': '2340 x 1080-pixel', 'Tính năng màn hình': ['120Hz', '2600 nits', 'Corning® Gorilla® Armor 2'], 'Tần số quét': '120Hz'}}, {'category': 'Camera sau', 'details': {'Camera sau': ['Camera siêu rộng 12MP', 'Camera góc rộng 50MP', 'Camera Tele 10MP'], 'Tính năng camera': ['Quay Log Video', 'Chụp hình Super HDR', 'Chế độ quay phim 10-bit HDR', 'Chân dung', 'Tự động lấy nét', 'Quay Video đêm']}}, {'category': 'Camera trước', 'details': {'Camera trước': '12MP'}}, {'category': 'Vi xử lý & đồ họa', 'details': {'Chipset': 'Snapdragon 8 Elite dành cho Galaxy (3nm)'}}, {'category': 'Giao tiếp & kết nối', 'details': {'Công nghệ NFC': 'Có', 'Thẻ SIM': '2 Nano-SIM + eSIM', 'Hỗ trợ mạng': '5G', 'GPS': 'GPS, Glonass, Beidou, Galileo, QZSS'}}, {'category': 'RAM & lưu trữ', 'details': {'Dung lượng RAM': '12 GB', 'Bộ nhớ trong': '256 GB'}}, {'category': 'Pin & công nghệ sạc', 'details': {'Pin': '4000 mAh', 'Công nghệ sạc': 'Sạc nhanh 25W', 'Cổng sạc': 'USB Type-C'}}, {'category': 'Tính năng khác', 'details': {'Hệ điều hành': 'Android 17'}}, {'category': 'Bộ xử lý & Đồ họa', 'details': {'Loại CPU': ['Tốc độ CPU 4.47GHz, 3.5GHz', '8 nhân']}}, {'category': 'Kích thước & Trọng lượng', 'details': {'Kích thước': 'Dài 146.9mm - Ngang 70.5mm - Dày 7.2mm', 'Trọng lượng': '162g'}}, {'category': 'Thông số khác', 'details': {'Chỉ số kháng nước, bụi': 'IP68', 'Công nghệ - Tiện ích': 'Thực hiện tác vụ liên ứng dụng bằng lời nói (Seamless Actions across Apps)', 'Tiện ích khác': ['Biên tập Video thông minh (Auto trim)', 'Khoanh tròn để tìm kiếm (Circle to Search)', 'Trợ lý cuộc gọi (Call Assist)', 'Trợ lý chỉnh ảnh (Photo Assist)'], 'Công nghệ âm thanh': 'Lọc âm thanh (Audio Eraser)'}}, {'category': 'Tiện ích khác', 'details': {'Cảm biến vân tay': 'Cảm biến vân tay trong màn hình', 'Tính năng đặc biệt': 'Hỗ trợ 5G, Nhận diện khuôn mặt, Kháng nước, kháng bụi, Điện thoại AI'}}, {'category': 'Cổng kết nối', 'details': {'Wi-Fi': '802.11a/b/g/n/ac/ax/be 2.4GHz+5GHz+6GHz, EHT320, MIMO, 4096-QAM', 'Bluetooth': 'Bluetooth v5.4'}}, {'category': 'Thông tin chung', 'details': {'Thời điểm ra mắt': '02-2025'}}]}\n",
      "product name common data:  {'url': 'https://cellphones.com.vn/dien-thoai-samsung-galaxy-s25.html', 'name': 'Samsung Galaxy S25 256GB', 'price': '19.290.000 đ', 'specifications': [{'category': 'Màn hình', 'details': {'Kích thước màn hình': '6.2 inches', 'Công nghệ màn hình': 'Dynamic AMOLED 2X', 'Độ phân giải màn hình': '2340 x 1080-pixel', 'Tính năng màn hình': ['120Hz', '2600 nits', 'Corning® Gorilla® Armor 2'], 'Tần số quét': '120Hz'}}, {'category': 'Camera sau', 'details': {'Camera sau': ['Camera siêu rộng 12MP', 'Camera góc rộng 50MP', 'Camera Tele 10MP'], 'Tính năng camera': ['Quay Log Video', 'Chụp hình Super HDR', 'Chế độ quay phim 10-bit HDR', 'Chân dung', 'Tự động lấy nét', 'Quay Video đêm']}}, {'category': 'Camera trước', 'details': {'Camera trước': '12MP'}}, {'category': 'Vi xử lý & đồ họa', 'details': {'Chipset': 'Snapdragon 8 Elite dành cho Galaxy (3nm)'}}, {'category': 'Giao tiếp & kết nối', 'details': {'Công nghệ NFC': 'Có', 'Thẻ SIM': '2 Nano-SIM + eSIM', 'Hỗ trợ mạng': '5G', 'GPS': 'GPS, Glonass, Beidou, Galileo, QZSS'}}, {'category': 'RAM & lưu trữ', 'details': {'Dung lượng RAM': '12 GB', 'Bộ nhớ trong': '256 GB'}}, {'category': 'Pin & công nghệ sạc', 'details': {'Pin': '4000 mAh', 'Công nghệ sạc': 'Sạc nhanh 25W', 'Cổng sạc': 'USB Type-C'}}, {'category': 'Tính năng khác', 'details': {'Hệ điều hành': 'Android 17'}}, {'category': 'Bộ xử lý & Đồ họa', 'details': {'Loại CPU': ['Tốc độ CPU 4.47GHz, 3.5GHz', '8 nhân']}}, {'category': 'Kích thước & Trọng lượng', 'details': {'Kích thước': 'Dài 146.9mm - Ngang 70.5mm - Dày 7.2mm', 'Trọng lượng': '162g'}}, {'category': 'Thông số khác', 'details': {'Chỉ số kháng nước, bụi': 'IP68', 'Công nghệ - Tiện ích': 'Thực hiện tác vụ liên ứng dụng bằng lời nói (Seamless Actions across Apps)', 'Tiện ích khác': ['Biên tập Video thông minh (Auto trim)', 'Khoanh tròn để tìm kiếm (Circle to Search)', 'Trợ lý cuộc gọi (Call Assist)', 'Trợ lý chỉnh ảnh (Photo Assist)'], 'Công nghệ âm thanh': 'Lọc âm thanh (Audio Eraser)'}}, {'category': 'Tiện ích khác', 'details': {'Cảm biến vân tay': 'Cảm biến vân tay trong màn hình', 'Tính năng đặc biệt': 'Hỗ trợ 5G, Nhận diện khuôn mặt, Kháng nước, kháng bụi, Điện thoại AI'}}, {'category': 'Cổng kết nối', 'details': {'Wi-Fi': '802.11a/b/g/n/ac/ax/be 2.4GHz+5GHz+6GHz, EHT320, MIMO, 4096-QAM', 'Bluetooth': 'Bluetooth v5.4'}}, {'category': 'Thông tin chung', 'details': {'Thời điểm ra mắt': '02-2025'}}]}\n",
      "Clicked technical button with selector: .button__show-modal-technical\n"
     ]
    },
    {
     "name": "stderr",
     "output_type": "stream",
     "text": [
      "Batch 1:  20%|██        | 1/5 [00:20<01:22, 20.62s/it]"
     ]
    },
    {
     "name": "stdout",
     "output_type": "stream",
     "text": [
      "Modal found with selector: .technical-content-modal\n",
      "Extracted 15 specification categories from modal\n",
      "product name common data:  {'url': 'https://cellphones.com.vn/dien-thoai-xiaomi-15.html', 'name': 'Xiaomi 15 5G 12GB 256GB', 'price': '21.990.000 đ', 'specifications': [{'category': 'Màn hình', 'details': {'Kích thước màn hình': '6.36 inches', 'Công nghệ màn hình': 'CrystalRes AMOLED', 'Độ phân giải màn hình': '2670 x 1200 pixels', 'Tính năng màn hình': ['Độ sáng 3200 nits', 'Tự động tinh chỉnh tần số quét 1-120Hz', 'Tốc độ phản hồi cảm ứng lên đến 300Hz', 'Hỗ trợ 68 tỷ màu', 'Dải màu DCI-P3', 'Hỗ trợ Dolby Vision, HDR10+, HDR10', 'Độ sáng DC', 'Công nghệ cảm ứng ướt'], 'Tần số quét': '120Hz', 'Kiểu màn hình': 'Đục lỗ (Nốt ruồi)'}}, {'category': 'Camera sau', 'details': {'Camera sau': ['Camera chính Leica: 50MP, ƒ/1.62, OIS, Tiêu cự tương đương 23mm', 'Camera tele Leica: 50MP, ƒ/2.0, OIS', 'Camera góc siêu rộng Leica: 50MP, ƒ/2.2, 115°'], 'Quay video': ['(HDR và Dolby Vision)', 'Quay video 8K@24/30fps', 'Quay video 4K@24/30/60fps', '1080p@30/60fps', '720p@30fps', 'Video chuyển động chậm 720p', 'Video chuyển động chậm 1080p'], 'Tính năng camera': ['HDR', 'Chụp ảnh động', 'Chế độ ban đêm', 'Chế độ chân dung', 'Super macro', 'Toàn cảnh', 'Chuyển động chậm', 'Chuyển động nhanh', 'Quay đêm Ultra Night Video', 'Chụp ảnh bằng giọng nói', 'Quay video ở độ phân giải HDR10+']}}, {'category': 'Camera trước', 'details': {'Camera trước': 'Camera trước: 32MP, ƒ/2.0, 90°, Tiêu cự 21mm', 'Quay video trước': ['4K@30/60fps', '1080p@30/60fps', '720p@30fps']}}, {'category': 'Vi xử lý & đồ họa', 'details': {'Chipset': 'Snapdragon 8 Elite (Tiến trình sản xuất 3nm)', 'GPU': 'Adreno GPU'}}, {'category': 'Giao tiếp & kết nối', 'details': {'Công nghệ NFC': 'Có', 'Thẻ SIM': 'Sim kép (nano-Sim và e-Sim) - Hỗ trợ 2 e-Sim', 'Hỗ trợ mạng': '5G', 'GPS': ['GPS: L1+L5', 'Galileo: E1+E5a | GLONASS: G1 | Beidou | QZSS: L1 + L5 | NavIC: L5']}}, {'category': 'RAM & lưu trữ', 'details': {'Dung lượng RAM': '12 GB', 'Bộ nhớ trong': '256 GB'}}, {'category': 'Pin & công nghệ sạc', 'details': {'Pin': '5240mAh', 'Công nghệ sạc': ['Sạc 90W HyperCharge', 'Sạc không dây 50W', 'Hỗ trợ QC3+ / QC3.0 / QC2.0 / PD3.0 / PD2.0 / MI FC 2.0'], 'Cổng sạc': 'USB Type-C'}}, {'category': 'Tính năng khác', 'details': {'Hệ điều hành': 'Xiaomi HyperOS 2'}}, {'category': 'Bộ xử lý & Đồ họa', 'details': {'Loại CPU': ['2 x Lõi Prime, tốc độ tối đa 4,32GHz', '6 x Lõi hiệu suất, lên đến 3,53GHz']}}, {'category': 'Kích thước & Trọng lượng', 'details': {'Kích thước': '152.3 x 71.2 x 8.08 mm', 'Trọng lượng': '191g'}}, {'category': 'Thiết kế & Trọng lượng', 'details': {'Chất liệu khung viền': 'Nhôm'}}, {'category': 'Thông số khác', 'details': {'Hệ thống làm mát': 'Hệ thống cánh tản nhiệt Xiaomi IceLoop', 'Chỉ số kháng nước, bụi': 'Kháng nước & bụi chuẩn IP68', 'Công nghệ - Tiện ích': ['Xiaomi HyperAI', 'Viết AI', 'Nhận diện giọng nói AI', 'Phiên dịch AI', 'Khoanh vùng tìm kiếm AI', 'Trợ lý sáng tạo AI'], 'Công nghệ âm thanh': ['4 Mic', 'Hỗ trợ Dolby Atmos', 'Chứng nhận Hi-Res, Hi-Res Audio Wireless']}}, {'category': 'Tiện ích khác', 'details': {'Cảm biến vân tay': 'Cảm biến vân tay siêu âm', 'Các loại cảm biến': 'Cảm biến gia tốc, Cảm biến tiệm cận, Cảm biến ánh sáng, La bàn, Con quay hồi chuyển, Cảm biến áp kế', 'Tính năng đặc biệt': 'Hỗ trợ 5G, Sạc không dây, Bảo mật vân tay, Nhận diện khuôn mặt, Kháng nước, kháng bụi, Điện thoại AI'}}, {'category': 'Cổng kết nối', 'details': {'Wi-Fi': 'Hỗ trợ Wi-Fi 7', 'Bluetooth': 'Bluetooth 6.0, Dual-Bluetooth'}}, {'category': 'Thông tin chung', 'details': {'Thời điểm ra mắt': '2025'}}]}\n",
      "product name common data:  {'url': 'https://cellphones.com.vn/dien-thoai-xiaomi-15.html', 'name': 'Xiaomi 15 5G 12GB 256GB', 'price': '21.990.000 đ', 'specifications': [{'category': 'Màn hình', 'details': {'Kích thước màn hình': '6.36 inches', 'Công nghệ màn hình': 'CrystalRes AMOLED', 'Độ phân giải màn hình': '2670 x 1200 pixels', 'Tính năng màn hình': ['Độ sáng 3200 nits', 'Tự động tinh chỉnh tần số quét 1-120Hz', 'Tốc độ phản hồi cảm ứng lên đến 300Hz', 'Hỗ trợ 68 tỷ màu', 'Dải màu DCI-P3', 'Hỗ trợ Dolby Vision, HDR10+, HDR10', 'Độ sáng DC', 'Công nghệ cảm ứng ướt'], 'Tần số quét': '120Hz', 'Kiểu màn hình': 'Đục lỗ (Nốt ruồi)'}}, {'category': 'Camera sau', 'details': {'Camera sau': ['Camera chính Leica: 50MP, ƒ/1.62, OIS, Tiêu cự tương đương 23mm', 'Camera tele Leica: 50MP, ƒ/2.0, OIS', 'Camera góc siêu rộng Leica: 50MP, ƒ/2.2, 115°'], 'Quay video': ['(HDR và Dolby Vision)', 'Quay video 8K@24/30fps', 'Quay video 4K@24/30/60fps', '1080p@30/60fps', '720p@30fps', 'Video chuyển động chậm 720p', 'Video chuyển động chậm 1080p'], 'Tính năng camera': ['HDR', 'Chụp ảnh động', 'Chế độ ban đêm', 'Chế độ chân dung', 'Super macro', 'Toàn cảnh', 'Chuyển động chậm', 'Chuyển động nhanh', 'Quay đêm Ultra Night Video', 'Chụp ảnh bằng giọng nói', 'Quay video ở độ phân giải HDR10+']}}, {'category': 'Camera trước', 'details': {'Camera trước': 'Camera trước: 32MP, ƒ/2.0, 90°, Tiêu cự 21mm', 'Quay video trước': ['4K@30/60fps', '1080p@30/60fps', '720p@30fps']}}, {'category': 'Vi xử lý & đồ họa', 'details': {'Chipset': 'Snapdragon 8 Elite (Tiến trình sản xuất 3nm)', 'GPU': 'Adreno GPU'}}, {'category': 'Giao tiếp & kết nối', 'details': {'Công nghệ NFC': 'Có', 'Thẻ SIM': 'Sim kép (nano-Sim và e-Sim) - Hỗ trợ 2 e-Sim', 'Hỗ trợ mạng': '5G', 'GPS': ['GPS: L1+L5', 'Galileo: E1+E5a | GLONASS: G1 | Beidou | QZSS: L1 + L5 | NavIC: L5']}}, {'category': 'RAM & lưu trữ', 'details': {'Dung lượng RAM': '12 GB', 'Bộ nhớ trong': '256 GB'}}, {'category': 'Pin & công nghệ sạc', 'details': {'Pin': '5240mAh', 'Công nghệ sạc': ['Sạc 90W HyperCharge', 'Sạc không dây 50W', 'Hỗ trợ QC3+ / QC3.0 / QC2.0 / PD3.0 / PD2.0 / MI FC 2.0'], 'Cổng sạc': 'USB Type-C'}}, {'category': 'Tính năng khác', 'details': {'Hệ điều hành': 'Xiaomi HyperOS 2'}}, {'category': 'Bộ xử lý & Đồ họa', 'details': {'Loại CPU': ['2 x Lõi Prime, tốc độ tối đa 4,32GHz', '6 x Lõi hiệu suất, lên đến 3,53GHz']}}, {'category': 'Kích thước & Trọng lượng', 'details': {'Kích thước': '152.3 x 71.2 x 8.08 mm', 'Trọng lượng': '191g'}}, {'category': 'Thiết kế & Trọng lượng', 'details': {'Chất liệu khung viền': 'Nhôm'}}, {'category': 'Thông số khác', 'details': {'Hệ thống làm mát': 'Hệ thống cánh tản nhiệt Xiaomi IceLoop', 'Chỉ số kháng nước, bụi': 'Kháng nước & bụi chuẩn IP68', 'Công nghệ - Tiện ích': ['Xiaomi HyperAI', 'Viết AI', 'Nhận diện giọng nói AI', 'Phiên dịch AI', 'Khoanh vùng tìm kiếm AI', 'Trợ lý sáng tạo AI'], 'Công nghệ âm thanh': ['4 Mic', 'Hỗ trợ Dolby Atmos', 'Chứng nhận Hi-Res, Hi-Res Audio Wireless']}}, {'category': 'Tiện ích khác', 'details': {'Cảm biến vân tay': 'Cảm biến vân tay siêu âm', 'Các loại cảm biến': 'Cảm biến gia tốc, Cảm biến tiệm cận, Cảm biến ánh sáng, La bàn, Con quay hồi chuyển, Cảm biến áp kế', 'Tính năng đặc biệt': 'Hỗ trợ 5G, Sạc không dây, Bảo mật vân tay, Nhận diện khuôn mặt, Kháng nước, kháng bụi, Điện thoại AI'}}, {'category': 'Cổng kết nối', 'details': {'Wi-Fi': 'Hỗ trợ Wi-Fi 7', 'Bluetooth': 'Bluetooth 6.0, Dual-Bluetooth'}}, {'category': 'Thông tin chung', 'details': {'Thời điểm ra mắt': '2025'}}]}\n"
     ]
    },
    {
     "name": "stderr",
     "output_type": "stream",
     "text": [
      "Batch 1:  20%|██        | 1/5 [00:23<01:35, 23.91s/it]"
     ]
    },
    {
     "name": "stdout",
     "output_type": "stream",
     "text": [
      "Lỗi khi xử lý link https://cellphones.com.vn/oppo-reno10-pro-plus.html: HTTPSConnectionPool(host='googlechromelabs.github.io', port=443): Read timed out. (read timeout=None)\n"
     ]
    },
    {
     "name": "stderr",
     "output_type": "stream",
     "text": [
      "\n"
     ]
    },
    {
     "name": "stdout",
     "output_type": "stream",
     "text": [
      "Extracting data from: https://cellphones.com.vn/iphone-16-pro-max.html\n"
     ]
    }
   ],
   "source": [
    "import concurrent.futures\n",
    "from selenium import webdriver\n",
    "from selenium.webdriver.chrome.service import Service\n",
    "from selenium.webdriver.chrome.options import Options\n",
    "from webdriver_manager.chrome import ChromeDriverManager\n",
    "from typing import Dict, List, Any\n",
    "import time\n",
    "import json\n",
    "import os\n",
    "import random\n",
    "from tqdm import tqdm\n",
    "\n",
    "def crawl_products_multithreaded(product_links: List[str], max_workers: int = 5, \n",
    "                                 batch_size: int = 10, delay_between_batches: int = 3) -> List[Dict[str, Any]]:\n",
    "    \"\"\"\n",
    "    Cào dữ liệu sản phẩm đa luồng từ danh sách các liên kết sản phẩm.\n",
    "    \n",
    "    Nếu một liên kết gặp lỗi, sẽ được thêm vào cuối danh sách để xử lý lại tuần tự sau.\n",
    "    \n",
    "    Args:\n",
    "        product_links: Danh sách các URL sản phẩm cần cào\n",
    "        max_workers: Số lượng luồng tối đa chạy đồng thời\n",
    "        batch_size: Kích thước mỗi batch để tránh quá tải\n",
    "        delay_between_batches: Thời gian chờ giữa các batch (giây)\n",
    "    \n",
    "    Returns:\n",
    "        Danh sách các dictionary chứa thông tin sản phẩm\n",
    "    \"\"\"\n",
    "    # Đảm bảo thư mục json tồn tại\n",
    "    os.makedirs(json_product_detail_folder, exist_ok=True)\n",
    "    \n",
    "    results = []\n",
    "    retry_links = []  # Danh sách các liên kết cần thử lại\n",
    "    \n",
    "    # Chia danh sách sản phẩm thành các batch nhỏ hơn\n",
    "    batches = [product_links[i:i+batch_size] for i in range(0, len(product_links), batch_size)]\n",
    "    \n",
    "    print(f\"Chia thành {len(batches)} batch, mỗi batch {batch_size} sản phẩm\")\n",
    "    \n",
    "    def worker(link):\n",
    "        try:\n",
    "            # Khởi tạo driver riêng cho mỗi thread\n",
    "            options = Options()\n",
    "            options.add_argument(\"--headless\")  # Chạy Chrome ngầm không hiển thị giao diện (tiết kiệm tài nguyên)\n",
    "            options.add_argument(\"--disable-gpu\")  # Tắt GPU acceleration, giải quyết một số lỗi khi chạy headless\n",
    "            options.add_argument(\"--no-sandbox\")  # Tắt chế độ sandbox, cần thiết khi chạy trong môi trường Docker hoặc CI/CD\n",
    "            options.add_argument(\"--disable-dev-shm-usage\")  # Tránh lỗi tràn bộ nhớ shared memory trong Docker/container\n",
    "            \n",
    "            driver = webdriver.Chrome(service=Service(ChromeDriverManager().install()), \n",
    "                                      options=options)\n",
    "            \n",
    "            try:\n",
    "                # Random Sleep trước mỗi request để tránh bị chặn\n",
    "                time.sleep(random.uniform(1, 3))\n",
    "                # Gọi hàm getAndSaveProductInfo để cào dữ liệu\n",
    "                result = getAndSaveProductInfo(driver, link)\n",
    "                return result\n",
    "            finally:\n",
    "                # Đảm bảo đóng driver sau khi sử dụng\n",
    "                driver.quit()\n",
    "                \n",
    "        except Exception as e:\n",
    "            error_msg = f\"Lỗi khi xử lý link {link}: {str(e)}\"\n",
    "            print(error_msg)\n",
    "            return {\"url\": link, \"error\": str(e), \"specifications\": {}, \"variant_prices\": []}\n",
    "    \n",
    "    # Xử lý theo từng batch với đa luồng\n",
    "    for batch_idx, batch in enumerate(batches):\n",
    "        print(f\"Đang xử lý batch {batch_idx+1}/{len(batches)}\")\n",
    "        batch_results = []\n",
    "        \n",
    "        with concurrent.futures.ThreadPoolExecutor(max_workers=max_workers) as executor:\n",
    "            futures = {executor.submit(worker, link): link for link in batch}\n",
    "            for future in tqdm(concurrent.futures.as_completed(futures), total=len(batch), \n",
    "                              desc=f\"Batch {batch_idx+1}\"):\n",
    "                link = futures[future]\n",
    "                try:\n",
    "                    result = future.result()\n",
    "                    batch_results.append(result)\n",
    "                except Exception as e:\n",
    "                    # Nếu có lỗi ngoài dự tính, báo lỗi và tiếp tục\n",
    "                    print(f\"Lỗi khi lấy kết quả cho {link}: {str(e)}\")\n",
    "                    batch_results.append({\"url\": link, \"error\": str(e), \"specifications\": {}, \"variant_prices\": []})\n",
    "        \n",
    "        results.extend(batch_results)\n",
    "        print(f\"Đã cào {len(batch_results)}/{len(batch)} sản phẩm từ batch {batch_idx+1}\")\n",
    "        print(f\"Tổng số sản phẩm đã cào: {len(results)}/{len(product_links)}\")\n",
    "        \n",
    "        if batch_idx < len(batches) - 1:\n",
    "            print(f\"Chờ {delay_between_batches} giây trước khi xử lý batch tiếp theo...\")\n",
    "            time.sleep(delay_between_batches)\n",
    "    \n",
    "    # Xử lý các liên kết lỗi sau khi đa luồng bằng cách tuần tự\n",
    "    # Nếu một liên kết lỗi, thêm nó vào cuối danh sách retry_links để thử lại sau\n",
    "    retry_links = [result[\"url\"] for result in results if result.get(\"error\")]\n",
    "    attempt = 1\n",
    "    while retry_links:\n",
    "        print(f\"\\nBắt đầu xử lý lại {len(retry_links)} liên kết lỗi (Lần thử: {attempt})\")\n",
    "        current_retry = retry_links.copy()\n",
    "        retry_links = []  # reset danh sách lỗi\n",
    "        \n",
    "        for link in tqdm(current_retry, desc=f\"Retry attempt {attempt}\"):\n",
    "            try:\n",
    "                options = Options()\n",
    "                options.add_argument(\"--headless\")\n",
    "                options.add_argument(\"--disable-gpu\")\n",
    "                options.add_argument(\"--no-sandbox\")\n",
    "                options.add_argument(\"--disable-dev-shm-usage\")\n",
    "                \n",
    "                driver = webdriver.Chrome(service=Service(ChromeDriverManager().install()), \n",
    "                                          options=options)\n",
    "                try:\n",
    "                    # Cho phép load chậm hơn, không thêm độ trễ ngẫu nhiên\n",
    "                    time.sleep(2)\n",
    "                    result = getAndSaveProductInfo(driver, link)\n",
    "                    # Cập nhật kết quả mới vào danh sách results:\n",
    "                    # Tìm vị trí của kết quả cũ và thay thế\n",
    "                    for idx, r in enumerate(results):\n",
    "                        if r[\"url\"] == link:\n",
    "                            results[idx] = result\n",
    "                            break\n",
    "                finally:\n",
    "                    driver.quit()\n",
    "            except Exception as e:\n",
    "                print(f\"Lỗi khi xử lý lại link {link}: {str(e)}\")\n",
    "                # Nếu lỗi vẫn xảy ra, thêm link vào cuối danh sách để thử lại sau\n",
    "                retry_links.append(link)\n",
    "        if retry_links:\n",
    "            print(f\"Vẫn còn {len(retry_links)} liên kết lỗi, chờ 10 giây trước khi thử lại...\")\n",
    "            time.sleep(10)\n",
    "        attempt += 1\n",
    "\n",
    "    # Lưu tất cả kết quả vào một file JSON\n",
    "    try:\n",
    "        with open(json_all_product_detail_file, \"w\", encoding=\"utf-8\") as f:\n",
    "            json.dump(results, f, indent=4, ensure_ascii=False)\n",
    "        print(f\"Đã lưu tất cả {len(results)} kết quả vào\" + f\"{json_all_product_detail_file}\")\n",
    "    except Exception as e:\n",
    "        print(f\"Lỗi khi lưu {json_all_product_detail_file}: {str(e)}\")\n",
    "    \n",
    "    return results\n",
    "\n",
    "# Ví dụ sử dụng:\n",
    "if __name__ == \"__main__\":\n",
    "    # product_links cần được định nghĩa trước đó (ví dụ: danh sách các URL sản phẩm)\n",
    "    # Ví dụ: product_links = [\"http://example.com/product1\", \"http://example.com/product2\", ...]\n",
    "    results = crawl_products_multithreaded(\n",
    "        product_links=product_links[:10],\n",
    "        max_workers=5,      # Giảm xuống 2 luồng\n",
    "        batch_size=5,       # Giảm xuống 2 sản phẩm/batch\n",
    "        delay_between_batches=10  # Tăng đợi giữa các batch\n",
    "    )\n",
    "    \n",
    "    print(f\"Hoàn thành cào dữ liệu cho {len(results)} sản phẩm\")\n"
   ]
  },
  {
   "cell_type": "markdown",
   "metadata": {},
   "source": []
  },
  {
   "cell_type": "markdown",
   "metadata": {},
   "source": [
    "### Đã hoàn thành bước cào dữ liệu, đối với mobilecity, workflow cào dữ liệu sẽ tương tự. Nhưng vì cấu trúc HTML và một vài quy ước ở 2 trang khác nhau nên sẽ tách file riêng \"craw_data_2.ipynb\"\n"
   ]
  },
  {
   "cell_type": "markdown",
   "metadata": {},
   "source": []
  }
 ],
 "metadata": {
  "kernelspec": {
   "display_name": "Python 3",
   "language": "python",
   "name": "python3"
  },
  "language_info": {
   "codemirror_mode": {
    "name": "ipython",
    "version": 3
   },
   "file_extension": ".py",
   "mimetype": "text/x-python",
   "name": "python",
   "nbconvert_exporter": "python",
   "pygments_lexer": "ipython3",
   "version": "3.12.5"
  }
 },
 "nbformat": 4,
 "nbformat_minor": 2
}
